{
 "cells": [
  {
   "cell_type": "markdown",
   "metadata": {
    "pycharm": {
     "name": "#%% md\n"
    }
   },
   "source": [
    "# TODO list:\n",
    "* before INFT:\n",
    "    * normalize xivec by multiplying by $\\sqrt{P_0}$\n",
    "    * set dt to be $ dt = tvec[n]-tvec[n-1] $ [unitless] -> multiply by $T_0$ to get real units [pico sec]\n",
    "* after channel: normalize xivec back by dividing by $\\sqrt{P_0}$\n",
    "* after NFT: propagation compensation: multiplying by $exp(-i*\\xi^2 * \\frac{Z_N}{L_0})$ where:\n",
    "    * $\\xi$  is xivec\n",
    "    * $L_0$  is $N_t$\n",
    "    * $Z_N$  is last_step <- rename it also\n",
    "* after phase compensation we should get ideal results (ber = 0)\n",
    "\n",
    "# Tasks that are done:\n",
    "* check out debug_single_with_split and explore why after split the signal looks so bad\n",
    "    * probably something to do with params or code\n",
    "    * idea: check with the SplitStep_full and see if the results are similar -\n",
    "        * if not, there's something wrong with the code of the minimal version\n",
    "* set params for split step:\n",
    "    * check on symbols: [64 :power of 2 :512]\n",
    "    * alpha = 0\n",
    "    * maximum distance is around 1000km - need to translate to SI\n",
    "    * b2 [-20 pica sec^2 / km]\n",
    "    * gama = 1.27 [$km^{-1} * v^{-1}$]\n",
    "    * h is the distance resolution - no larger than 0.5 km (smaller the better)\n",
    "* work with units of: pico second and km\n",
    "* add channel - *split step fourier algorithm* (algorithm is at agrawal 2.4.1 [2.3.46 equation without alpha] paper)\n",
    "  *it includes the noise (at first we can neglect it)\n",
    "* make the number of symbols: 500 - 1000 check that the ber improves (power of two)\n",
    "* make a graph of BER as function of normalizing factor\n",
    "* perhaps loop the BW thing further up with BER as result function\n",
    "* add BER at the end\n",
    "* match filter as depulse shaping / demodulation for rrc\n",
    "* the BW is made up empirically, is there a formula way to calculate it?\n",
    "* de-pulse shaping / sampling: how to convert from pulse back to (i,q) modulation symbols?\n",
    "* validate that the pulse shape is fine\n",
    "* make the vectors more generic so we won't need to make sure that: `len(X_xi)+len(pulse_shaper)=2048`\n",
    "* send stas and bella the scholarship documents\n",
    "* pad x3i with zeros before and after\n",
    "* do linear IFFT and check the width of the signal in time (< but there is no units on t axis..)\n",
    "* missing upsampling\n",
    "* compare with IFFT - on small factors they should be similar (on abs) up to time scale (pi)\n",
    "* skip the bounce state to make it run faster\n",
    "* find the time boundaries by plotting and check if data wasn't trimmed\n",
    "* find the xi boundaries by plotting and check if data wasn't trimmed\n",
    "* based on the T -> calc the max XI boundaries\n",
    "\n",
    "# what I've done so far:\n",
    "* I've found an interesting example for the pulse shaping, I adopted some of it to get better shape of the pulse\n",
    "* added an upsampling (zero padding between each sample)\n",
    "* important discovery: D length (time domain length) must be a power of 2!\n",
    "  * I updated the N_time fetching method accordingly\n",
    "* empirically discovery: BW should be about 700&bullet;2&pi; for the signal after NFT to look like before INFT\n",
    "\n",
    "# what I've done lately:\n",
    "* found example for split step\n",
    "* shrinked it to only the relevant part + much optimized\n",
    "* inserted it in the simulator flow as vector in > vector out format\n",
    "* managed to get normal results by shrinking last_step to 1e-3\n",
    "* created new BER vs u graph with split channel in the middle (30x30) for [64,128,256,512]"
   ]
  },
  {
   "cell_type": "code",
   "execution_count": null,
   "metadata": {
    "pycharm": {
     "name": "#%%\n"
    }
   },
   "outputs": [],
   "source": []
  }
 ],
 "metadata": {
  "kernelspec": {
   "display_name": "Python 3 (ipykernel)",
   "language": "python",
   "name": "python3"
  },
  "language_info": {
   "codemirror_mode": {
    "name": "ipython",
    "version": 3
   },
   "file_extension": ".py",
   "mimetype": "text/x-python",
   "name": "python",
   "nbconvert_exporter": "python",
   "pygments_lexer": "ipython3",
   "version": "3.9.7"
  }
 },
 "nbformat": 4,
 "nbformat_minor": 1
}