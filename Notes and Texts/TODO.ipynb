{
 "cells": [
  {
   "cell_type": "markdown",
   "source": [
    "# TODO list:\n",
    "* check out debug_single_with_split and explore why after split the signal looks so bad\n",
    "    * probably something to do with params or code\n",
    "    * idea: check with the SplitStep_full and see if the results are similar -\n",
    "        * if not, there's something wrong with the code of the minimal version\n",
    "\n",
    "\n",
    "# Tasks that are done:\n",
    "* based on the T -> calc the max XI boundaries\n",
    "* find the xi boundaries by plotting and check if data wasn't trimmed\n",
    "* find the time boundaries by plotting and check if data wasn't trimmed\n",
    "* skip the bounce state to make it run faster\n",
    "* TODO: 3) compare with IFFT - on small factors they should be similar (on abs) up to time scale (pi)\n",
    "* missing upsampling\n",
    "* do linear IFFT and check the width of the signal in time (< but there is no units on t axis..)\n",
    "* pad x3i with zeros before and after\n",
    "* send stas and bella the scholarship documents\n",
    "* make the vectors more generic so we won't need to make sure that: `len(X_xi)+len(pulse_shaper)=2048`\n",
    "* validate that the pulse shape is fine\n",
    "* de-pulse shaping / sampling: how to convert from pulse back to (i,q) modulation symbols?\n",
    "* the BW is made up empirically, is there a formula way to calculate it?\n",
    "* match filter as depulse shaping / demodulation for rrc\n",
    "* add BER at the end\n",
    "* perhaps loop the BW thing further up with BER as result function\n",
    "* make a graph of BER as function of normalizing factor\n",
    "* make the number of symbols: 500 - 1000 check that the ber improves (power of two)\n",
    "* add channel - *split step fourier algorithm* (algorithm is at agrawal 2.4.1 [2.3.46 equation without alpha] paper)\n",
    "  *it includes the noise (at first we can neglect it)\n",
    "* work with units of: pico second and km\n",
    "* set params for split step:\n",
    "    * check on symbols: [64 :power of 2 :512]\n",
    "    * alpha = 0\n",
    "    * maximum distance is around 1000km - need to translate to SI\n",
    "    * b2 [-20 pica sec^2 / km]\n",
    "    * gama = 1.27 [$km^{-1} * v^{-1}$]\n",
    "    * h is the distance resolution - no larger than 0.5 km (smaller the better)\n",
    "* with channel the results should be similiar if\n",
    "\n",
    "# what I've done so far:\n",
    "* I've found an interesting example for the pulse shaping, I adopted some of it to get better shape of the pulse\n",
    "* added an upsampling (zero padding between each sample)\n",
    "* important discovery: D length (time domain length) must be a power of 2!\n",
    "  * I updated the N_time fetching method accordingly\n",
    "* empirically discovery: BW should be about 700&bullet;2&pi; for the signal after NFT to look like before INFT\n",
    "\n",
    "# what I've done lately:"
   ],
   "metadata": {
    "collapsed": false,
    "pycharm": {
     "name": "#%% md\n"
    }
   }
  }
 ],
 "metadata": {
  "kernelspec": {
   "display_name": "Python 3",
   "language": "python",
   "name": "python3"
  },
  "language_info": {
   "codemirror_mode": {
    "name": "ipython",
    "version": 2
   },
   "file_extension": ".py",
   "mimetype": "text/x-python",
   "name": "python",
   "nbconvert_exporter": "python",
   "pygments_lexer": "ipython2",
   "version": "2.7.6"
  }
 },
 "nbformat": 4,
 "nbformat_minor": 0
}