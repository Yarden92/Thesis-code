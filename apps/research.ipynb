{
 "cells": [
  {
   "cell_type": "markdown",
   "metadata": {
    "id": "fy0Y2dWxCDDp"
   },
   "source": [
    "# Dependencies installation\n",
    "we'll first try to fetch a pre-installed dependencies from google-drive, if it doesn't exist, we'll install it there for faster loading next *time*"
   ]
  },
  {
   "cell_type": "code",
   "execution_count": 83,
   "metadata": {},
   "outputs": [],
   "source": [
    "import numpy as np\n",
    "from tqdm.notebook import tqdm\n",
    "\n",
    "from src.channel_simulation import *\n",
    "from src.output import Outputs\n",
    "from src.params import Params"
   ]
  },
  {
   "cell_type": "markdown",
   "metadata": {
    "id": "HKsfiiw71FpJ"
   },
   "source": [
    "# Deep Learning research"
   ]
  },
  {
   "cell_type": "markdown",
   "metadata": {
    "id": "DanJa6wK1WYh"
   },
   "source": [
    "## BER vs normalization factor"
   ]
  },
  {
   "cell_type": "code",
   "execution_count": 84,
   "metadata": {
    "id": "LGgracXR1JeV"
   },
   "outputs": [],
   "source": [
    "def iterate_through_channel(par):\n",
    "    o2 = Outputs()\n",
    "    o2.x[0] = Step0.generate_message(par)\n",
    "    o2.x[1], o2.modem = Step1.modulate(o2.x[0], par)\n",
    "    o2.x[2] = Step2.over_sample(o2.x[1], par)\n",
    "    o2.x[3], o2.h_rrc, o2.L_rrc = Step3.pulse_shape(o2.x[2], par)\n",
    "    o2.x[4] = Step4.pre_equalize(o2.x[3], par)\n",
    "    Step5.add_nft_params(o2.x[4], par, o2)\n",
    "    o2.x[5] = Step5.inft(o2.x[4], par, o2)\n",
    "    o2.x[6] = Step6.channel(o2.x[5], par)\n",
    "    o2.x[7] = Step7.nft(o2.x[6], par, o2)\n",
    "    o2.x[8] = Step8.equalizer(o2.x[7], par)\n",
    "    o2.x[9] = Step9.match_filter(o2.x[8], par, o2)\n",
    "    o2.x[10], ber, num_errors = Step10.demodulate(o2.x[9], par, o2, o2.x[0], o2.modem)\n",
    "    return ber, num_errors"
   ]
  },
  {
   "cell_type": "code",
   "execution_count": 85,
   "metadata": {
    "id": "E6Oy8M-tthBd"
   },
   "outputs": [],
   "source": [
    "def run_n_times(par, n=10, pbar=None) -> float:\n",
    "    # outputs BER from N realisations\n",
    "    num_errors = 0\n",
    "    for r in range(n):\n",
    "        num_errors += iterate_through_channel(par)[1]\n",
    "        if pbar: pbar.update(1)\n",
    "    ber = num_errors / (n * par.length_of_msg)\n",
    "    return ber, num_errors"
   ]
  },
  {
   "cell_type": "code",
   "execution_count": 86,
   "metadata": {},
   "outputs": [],
   "source": [
    "def create_us_vec(n_steps=10, min_u=-2.5, max_u=-1):\n",
    "    normalizing_factors = 10 ** np.linspace(min_u, max_u, n_steps)\n",
    "    return normalizing_factors"
   ]
  },
  {
   "cell_type": "code",
   "execution_count": 93,
   "metadata": {
    "id": "ipClc9hP2GBE"
   },
   "outputs": [],
   "source": [
    "def ber_vs_us(par, normalizing_factors, n_realisations=10,\n",
    "              pbar_title=None):\n",
    "    bers = []\n",
    "    num_errors_vec = []\n",
    "    pbar = tqdm(total=n_realisations*len(normalizing_factors), leave=True, position=0)\n",
    "    if pbar_title: pbar.set_description_str(pbar_title)\n",
    "    for i, u in enumerate(normalizing_factors):\n",
    "        par.normalization_factor = u\n",
    "        ber_i, num_errors_i = run_n_times(par, n_realisations, pbar)\n",
    "        bers.append(ber_i)\n",
    "        num_errors_vec.append(num_errors_i)\n",
    "    errs = np.array(num_errors_vec)\n",
    "    return np.array(bers), errs"
   ]
  },
  {
   "cell_type": "code",
   "execution_count": 101,
   "metadata": {
    "id": "y6yK2vrFyk7O"
   },
   "outputs": [],
   "source": [
    "def plot_bers(us, bers_vecs, legends=None):\n",
    "    plt.figure(figsize=[10, 5])\n",
    "    for bers in bers_vecs:\n",
    "        mean = bers.mean(axis=-1)\n",
    "        std = bers.std(axis=-1)\n",
    "        plt.semilogx(us, bers)\n",
    "        # plt.fill_between(us,mean-std,mean+std,alpha=0.4)\n",
    "\n",
    "    plt.xlabel('normalizing factor'), plt.ylabel('BER')\n",
    "    plt.title('BER vs normalizing factor')\n",
    "    plt.grid(which='both', axis='y')\n",
    "    plt.grid(which='major', axis='x')\n",
    "    # plt.ylim(top=1,bottom=3e-4)\n",
    "    if legends: plt.legend(legends)\n",
    "    plt.show()\n"
   ]
  },
  {
   "cell_type": "code",
   "execution_count": 89,
   "metadata": {},
   "outputs": [
    {
     "data": {
      "text/plain": [
       "{'edgeitems': 3,\n",
       " 'threshold': 1000,\n",
       " 'floatmode': 'maxprec',\n",
       " 'precision': 4,\n",
       " 'suppress': True,\n",
       " 'linewidth': 75,\n",
       " 'nanstr': 'nan',\n",
       " 'infstr': 'inf',\n",
       " 'sign': '-',\n",
       " 'formatter': None,\n",
       " 'legacy': False}"
      ]
     },
     "execution_count": 89,
     "metadata": {},
     "output_type": "execute_result"
    }
   ],
   "source": [
    "np.set_printoptions(\n",
    "    edgeitems=3,\n",
    "    threshold=1000,\n",
    "    floatmode='maxprec',\n",
    "    precision=4,  #8,\n",
    "    suppress=True,  # False,\n",
    "    linewidth=75,\n",
    "    nanstr='nan',\n",
    "    infstr='inf',\n",
    "    sign='-',\n",
    "    formatter=None,\n",
    "    legacy=False\n",
    ")\n",
    "np.get_printoptions()"
   ]
  },
  {
   "cell_type": "code",
   "execution_count": 118,
   "metadata": {
    "id": "cta6DO9gxmJP"
   },
   "outputs": [
    {
     "name": "stdout",
     "output_type": "stream",
     "text": [
      "normalizing factors are: [0.0032 0.0046 0.0068 0.01   0.0147 0.0215 0.0316 0.0464 0.0681 0.1   ]\n"
     ]
    },
    {
     "data": {
      "text/plain": "  0%|          | 0/100 [00:00<?, ?it/s]",
      "application/vnd.jupyter.widget-view+json": {
       "version_major": 2,
       "version_minor": 0,
       "model_id": "2e68c7bced7b4e878e29ff2721bd93a7"
      }
     },
     "metadata": {},
     "output_type": "display_data"
    },
    {
     "name": "stdout",
     "output_type": "stream",
     "text": [
      "64 symbols: errors found = [0 0 0 0 0 0 0 0 0 0] / [2560 = 256 bits * 10 realisations]\n"
     ]
    },
    {
     "data": {
      "text/plain": "  0%|          | 0/100 [00:00<?, ?it/s]",
      "application/vnd.jupyter.widget-view+json": {
       "version_major": 2,
       "version_minor": 0,
       "model_id": "c015196fe60e4483a039dbdb51e9fcb2"
      }
     },
     "metadata": {},
     "output_type": "display_data"
    },
    {
     "name": "stdout",
     "output_type": "stream",
     "text": [
      "128 symbols: errors found = [0 0 0 0 0 0 1 0 0 0] / [5120 = 512 bits * 10 realisations]\n"
     ]
    },
    {
     "data": {
      "text/plain": "  0%|          | 0/100 [00:00<?, ?it/s]",
      "application/vnd.jupyter.widget-view+json": {
       "version_major": 2,
       "version_minor": 0,
       "model_id": "73598e9f6df8410f80f7404ab448c0bc"
      }
     },
     "metadata": {},
     "output_type": "display_data"
    },
    {
     "name": "stdout",
     "output_type": "stream",
     "text": [
      "256 symbols: errors found = [1 0 0 0 0 0 0 0 0 0] / [10240 = 1024 bits * 10 realisations]\n"
     ]
    },
    {
     "data": {
      "text/plain": "  0%|          | 0/100 [00:00<?, ?it/s]",
      "application/vnd.jupyter.widget-view+json": {
       "version_major": 2,
       "version_minor": 0,
       "model_id": "e096d7ac7ef2447c89093719889685a6"
      }
     },
     "metadata": {},
     "output_type": "display_data"
    },
    {
     "name": "stdout",
     "output_type": "stream",
     "text": [
      "512 symbols: errors found = [0 0 1 0 1 0 0 0 0 1] / [20480 = 2048 bits * 10 realisations]\n"
     ]
    },
    {
     "data": {
      "text/plain": "<Figure size 720x360 with 1 Axes>",
      "image/png": "[encoded data removed]"
     },
     "metadata": {
      "needs_background": "light"
     },
     "output_type": "display_data"
    }
   ],
   "source": [
    "# test the impact of ber vs normalization factor for multiple n_symbols\n",
    "p2 = Params(m_qam=16,\n",
    "            plot_vec_after_creation=False)\n",
    "o2 = Outputs()\n",
    "\n",
    "num_realisations = 10\n",
    "us_vec = create_us_vec(n_steps=10, min_u=-2.5, max_u=-1)\n",
    "N_symbols_vec = np.array([64, 128, 256, 512])\n",
    "\n",
    "print(f'normalizing factors are: {us_vec}')\n",
    "\n",
    "bers_vec, legends = [], []\n",
    "for n_sym in N_symbols_vec:\n",
    "    p2.num_symbols = n_sym\n",
    "    bers, errs = ber_vs_us(p2, us_vec, n_realisations=num_realisations)\n",
    "    print(f'{n_sym} symbols: errors found = {errs} / [{p2.length_of_msg*num_realisations} = {p2.length_of_msg} bits * {num_realisations} realisations]')\n",
    "    bers_vec.append(bers)\n",
    "    legends.append(f'{n_sym} symbols')\n",
    "\n",
    "plot_bers(us_vec, bers_vec, legends)"
   ]
  },
  {
   "cell_type": "markdown",
   "metadata": {
    "id": "krvcKZuOpwNe",
    "pycharm": {
     "name": "#%% md\n"
    }
   },
   "source": [
    "# TODOs:\n",
    "\n",
    "\n",
    "* add channel - *split step fourier algorithm*\n",
    "(algorithm is at agrawal 2.4.1 [2.3.46 equation without alpha] paper)\n",
    "  it includes the noise (at first we can neglect it)\n",
    "  * with channel the results should be similiar if\n",
    "\n",
    "\n",
    "Done:\n",
    "* add BER at the end\n",
    "* perhaps loop the BW thing further up with BER as result function\n",
    "* make a graph of BER as function of normalizing factor\n",
    "* make the number of symbols: 500 - 1000 check that the ber improves (power of two)\n",
    "* check on symbols: [64 :power of 2 :512]\n"
   ]
  }
 ],
 "metadata": {
  "colab": {
   "collapsed_sections": [],
   "name": "research.ipynb",
   "provenance": [],
   "toc_visible": true
  },
  "kernelspec": {
   "display_name": "Python 3 (ipykernel)",
   "language": "python",
   "name": "python3"
  },
  "language_info": {
   "codemirror_mode": {
    "name": "ipython",
    "version": 3
   },
   "file_extension": ".py",
   "mimetype": "text/x-python",
   "name": "python",
   "nbconvert_exporter": "python",
   "pygments_lexer": "ipython3",
   "version": "3.9.6"
  }
 },
 "nbformat": 4,
 "nbformat_minor": 1
}