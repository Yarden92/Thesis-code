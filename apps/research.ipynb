{
 "cells": [
  {
   "cell_type": "markdown",
   "metadata": {
    "id": "fy0Y2dWxCDDp"
   },
   "source": [
    "# Dependencies installation\n",
    "we'll first try to fetch a pre-installed dependencies from google-drive, if it doesn't exist, we'll install it there for faster loading next *time*"
   ]
  },
  {
   "cell_type": "code",
   "execution_count": 4,
   "metadata": {},
   "outputs": [
    {
     "name": "stdout",
     "output_type": "stream",
     "text": [
      "The autoreload extension is already loaded. To reload it, use:\n",
      "  %reload_ext autoreload\n"
     ]
    }
   ],
   "source": [
    "%load_ext autoreload\n",
    "%autoreload 2\n",
    "\n",
    "import numpy as np\n",
    "\n",
    "from src import multi_run\n",
    "from src.channel_simulation import ChannelSimulator\n",
    "from src.split_step_fourier import SplitStepFourier\n",
    "from src.visualizer import Visualizer"
   ]
  },
  {
   "cell_type": "markdown",
   "metadata": {
    "id": "HKsfiiw71FpJ"
   },
   "source": [
    "# Deep Learning research"
   ]
  },
  {
   "cell_type": "markdown",
   "metadata": {
    "id": "DanJa6wK1WYh"
   },
   "source": [
    "## BER vs normalization factor"
   ]
  },
  {
   "cell_type": "code",
   "execution_count": 11,
   "metadata": {
    "id": "cta6DO9gxmJP"
   },
   "outputs": [
    {
     "name": "stdout",
     "output_type": "stream",
     "text": [
      "number of iterations in split step algo: 11\n",
      "normalizing factors are: [3.16e-04 4.52e-04 6.46e-04 9.24e-04 1.32e-03 1.89e-03 2.70e-03 3.86e-03\n",
      " 5.51e-03 7.88e-03 1.13e-02 1.61e-02 2.30e-02 3.29e-02 4.70e-02 6.72e-02\n",
      " 9.61e-02 1.37e-01 1.96e-01 2.81e-01 4.01e-01 5.74e-01 8.20e-01 1.17e+00\n",
      " 1.68e+00 2.40e+00 3.42e+00 4.89e+00 7.00e+00 1.00e+01]\n"
     ]
    },
    {
     "name": "stderr",
     "output_type": "stream",
     "text": [
      "100%|██████████| 900/900 [01:14<00:00, 12.05it/s]\n"
     ]
    },
    {
     "name": "stdout",
     "output_type": "stream",
     "text": [
      "64 symbols: errors found = [2929 2918 2940 2918 2880 2890 2860 2951 2864 2842 2900 2834 2855 2767\n",
      " 2838 2781 2822 3213 3722 3911 3925 3962 3763 3837 3810 3812 3858 3806\n",
      " 3767 3830] / [7680 = 256 bits * 30 realisations]\n"
     ]
    },
    {
     "data": {
      "image/png": "[encoded data removed]",
      "text/plain": [
       "<Figure size 720x360 with 1 Axes>"
      ]
     },
     "metadata": {
      "needs_background": "light"
     },
     "output_type": "display_data"
    }
   ],
   "source": [
    "# test the impact of ber vs normalization factor for multiple n_symbols\n",
    "ssf = SplitStepFourier(\n",
    "    alpha=0,\n",
    "    b2=-20e-27,\n",
    "    gamma=0.003,\n",
    "    t0=125e-12,\n",
    "    last_step=1.51e-3,\n",
    "    dt=1e-12,\n",
    "    h=100\n",
    ")\n",
    "cs = ChannelSimulator(m_qam=16, verbose=False, channel_func=ssf)\n",
    "\n",
    "num_realisations = 30\n",
    "us_vec = multi_run.create_us_vec(n_steps=30, min_u=-3.5, max_u=1)\n",
    "N_symbols_vec = np.array([64])#, 128, 256, 512])\n",
    "\n",
    "with np.printoptions(precision=2):\n",
    "    print(f'normalizing factors are: {us_vec}')\n",
    "\n",
    "    bers_vec, legends = [], []\n",
    "    for n_sym in N_symbols_vec:\n",
    "        cs.num_symbols = n_sym\n",
    "        bers, errs = multi_run.ber_vs_us(cs, us_vec, n_realisations=num_realisations)\n",
    "        print(f'{n_sym} symbols: errors found = {errs} / [{cs.length_of_msg * num_realisations} '\n",
    "              f'= {cs.length_of_msg} bits * {num_realisations} realisations]')\n",
    "        bers_vec.append(bers)\n",
    "        legends.append(f'{n_sym} symbols')\n",
    "\n",
    "Visualizer.plot_bers(us_vec, bers_vec, legends)\n"
   ]
  },
  {
   "cell_type": "code",
   "execution_count": null,
   "metadata": {},
   "outputs": [
    {
     "name": "stdout",
     "output_type": "stream",
     "text": [
      "number of iterations in split step algo: 11\n",
      "normalizing factors are: [3.16e-04 4.52e-04 6.46e-04 9.24e-04 1.32e-03 1.89e-03 2.70e-03 3.86e-03\n",
      " 5.51e-03 7.88e-03 1.13e-02 1.61e-02 2.30e-02 3.29e-02 4.70e-02 6.72e-02\n",
      " 9.61e-02 1.37e-01 1.96e-01 2.81e-01 4.01e-01 5.74e-01 8.20e-01 1.17e+00\n",
      " 1.68e+00 2.40e+00 3.42e+00 4.89e+00 7.00e+00 1.00e+01]\n"
     ]
    },
    {
     "name": "stderr",
     "output_type": "stream",
     "text": [
      "100%|██████████| 900/900 [01:14<00:00, 12.12it/s]\n"
     ]
    },
    {
     "name": "stdout",
     "output_type": "stream",
     "text": [
      "64 symbols: errors found = [2958 2969 2885 2923 2926 2911 2909 2877 2905 2882 2899 2902 2867 2827\n",
      " 2810 2802 2894 3117 3775 3888 3819 3825 3870 3811 3819 3893 3827 3798\n",
      " 3802 3810] / [7680 = 256 bits * 30 realisations]\n"
     ]
    },
    {
     "name": "stderr",
     "output_type": "stream",
     "text": [
      "100%|██████████| 900/900 [02:40<00:00,  5.59it/s]\n"
     ]
    },
    {
     "name": "stdout",
     "output_type": "stream",
     "text": [
      "128 symbols: errors found = [5623 5775 5758 5725 5743 5679 5719 5730 5811 5731 5807 5679 5546 5569\n",
      " 5620 5682 6401 7495 7605 7759 7710 7652 7779 7742 7709 7741 7713 7714\n",
      " 7662 7800] / [15360 = 512 bits * 30 realisations]\n"
     ]
    },
    {
     "name": "stderr",
     "output_type": "stream",
     "text": [
      " 58%|█████▊    | 524/900 [03:45<02:38,  2.37it/s]"
     ]
    }
   ],
   "source": [
    "# test the impact of ber vs normalization factor for multiple n_symbols\n",
    "ssf = SplitStepFourier(\n",
    "    alpha=0,\n",
    "    b2=-20e-27,\n",
    "    gamma=0.003,\n",
    "    t0=125e-12,\n",
    "    last_step=1.51e-3,\n",
    "    dt=1e-12,\n",
    "    h=100\n",
    ")\n",
    "cs = ChannelSimulator(m_qam=16, verbose=False, channel_func=ssf)\n",
    "\n",
    "num_realisations = 30\n",
    "us_vec = multi_run.create_us_vec(n_steps=30, min_u=-3.5, max_u=1)\n",
    "N_symbols_vec = np.array([64, 128, 256, 512])\n",
    "\n",
    "with np.printoptions(precision=2):\n",
    "    print(f'normalizing factors are: {us_vec}')\n",
    "\n",
    "    bers_vec, legends = [], []\n",
    "    for n_sym in N_symbols_vec:\n",
    "        cs.num_symbols = n_sym\n",
    "        bers, errs = multi_run.ber_vs_us(cs, us_vec, n_realisations=num_realisations)\n",
    "        print(f'{n_sym} symbols: errors found = {errs} / [{cs.length_of_msg * num_realisations} '\n",
    "              f'= {cs.length_of_msg} bits * {num_realisations} realisations]')\n",
    "        bers_vec.append(bers)\n",
    "        legends.append(f'{n_sym} symbols')\n",
    "\n",
    "Visualizer.plot_bers(us_vec, bers_vec, legends)"
   ]
  },
  {
   "cell_type": "markdown",
   "metadata": {
    "id": "krvcKZuOpwNe",
    "pycharm": {
     "name": "#%% md\n"
    }
   },
   "source": [
    "TODOs:\n",
    "moved to \"Notes and texts\".TODO.ipynb"
   ]
  }
 ],
 "metadata": {
  "colab": {
   "collapsed_sections": [],
   "name": "research.ipynb",
   "provenance": [],
   "toc_visible": true
  },
  "kernelspec": {
   "display_name": "Python 3 (ipykernel)",
   "language": "python",
   "name": "python3"
  },
  "language_info": {
   "codemirror_mode": {
    "name": "ipython",
    "version": 3
   },
   "file_extension": ".py",
   "mimetype": "text/x-python",
   "name": "python",
   "nbconvert_exporter": "python",
   "pygments_lexer": "ipython3",
   "version": "3.9.7"
  }
 },
 "nbformat": 4,
 "nbformat_minor": 1
}