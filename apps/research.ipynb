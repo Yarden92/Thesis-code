{
 "cells": [
  {
   "cell_type": "markdown",
   "metadata": {
    "id": "fy0Y2dWxCDDp"
   },
   "source": [
    "# Dependencies installation\n",
    "we'll first try to fetch a pre-installed dependencies from google-drive, if it doesn't exist, we'll install it there for faster loading next *time*"
   ]
  },
  {
   "cell_type": "code",
   "execution_count": null,
   "metadata": {
    "pycharm": {
     "is_executing": true
    }
   },
   "outputs": [],
   "source": [
    "import numpy as np\n",
    "\n",
    "from src import multi_run\n",
    "from src.channel_simulation import ChannelSimulator\n",
    "from src.split_step_fourier import SplitStepFourier\n",
    "from src.visualizer import Visualizer"
   ]
  },
  {
   "cell_type": "markdown",
   "metadata": {
    "id": "HKsfiiw71FpJ"
   },
   "source": [
    "# Deep Learning research"
   ]
  },
  {
   "cell_type": "markdown",
   "metadata": {
    "id": "DanJa6wK1WYh"
   },
   "source": [
    "## BER vs normalization factor"
   ]
  },
  {
   "cell_type": "code",
   "execution_count": 7,
   "metadata": {
    "id": "cta6DO9gxmJP"
   },
   "outputs": [
    {
     "name": "stdout",
     "output_type": "stream",
     "text": [
      "normalizing factors are: [  0.0032   0.0066   0.0139   0.0291   0.0611   0.128    0.2683   0.5623\n",
      "   1.1788   2.4709   5.1795  10.8571  22.7585  47.7058 100.    ]\n"
     ]
    },
    {
     "data": {
      "text/plain": "  0%|          | 0/150 [00:00<?, ?it/s]",
      "application/vnd.jupyter.widget-view+json": {
       "version_major": 2,
       "version_minor": 0,
       "model_id": "644c204d54b74081bdeda6ec173c2ca6"
      }
     },
     "metadata": {},
     "output_type": "display_data"
    },
    {
     "name": "stderr",
     "output_type": "stream",
     "text": [
      "\n",
      "  0%|          | 0/15 [00:00<?, ?it/s]\u001B[A\n",
      "100%|██████████| 15/15 [00:00<00:00, 82.04it/s] \u001B[A\n",
      "\n",
      "  0%|          | 0/15 [00:00<?, ?it/s]\u001B[A\n"
     ]
    },
    {
     "ename": "IndexError",
     "evalue": "list assignment index out of range",
     "output_type": "error",
     "traceback": [
      "\u001B[0;31m---------------------------------------------------------------------------\u001B[0m",
      "\u001B[0;31mIndexError\u001B[0m                                Traceback (most recent call last)",
      "\u001B[0;32m/var/folders/1k/xrnsys5s7b39s_ylmkgng4fw0000gn/T/ipykernel_56679/2521288760.py\u001B[0m in \u001B[0;36m<module>\u001B[0;34m\u001B[0m\n\u001B[1;32m     11\u001B[0m \u001B[0;32mfor\u001B[0m \u001B[0mn_sym\u001B[0m \u001B[0;32min\u001B[0m \u001B[0mN_symbols_vec\u001B[0m\u001B[0;34m:\u001B[0m\u001B[0;34m\u001B[0m\u001B[0;34m\u001B[0m\u001B[0m\n\u001B[1;32m     12\u001B[0m     \u001B[0mcs\u001B[0m\u001B[0;34m.\u001B[0m\u001B[0mnum_symbols\u001B[0m \u001B[0;34m=\u001B[0m \u001B[0mn_sym\u001B[0m\u001B[0;34m\u001B[0m\u001B[0;34m\u001B[0m\u001B[0m\n\u001B[0;32m---> 13\u001B[0;31m     \u001B[0mbers\u001B[0m\u001B[0;34m,\u001B[0m \u001B[0merrs\u001B[0m \u001B[0;34m=\u001B[0m \u001B[0mber_vs_us\u001B[0m\u001B[0;34m(\u001B[0m\u001B[0mcs\u001B[0m\u001B[0;34m,\u001B[0m \u001B[0mus_vec\u001B[0m\u001B[0;34m,\u001B[0m \u001B[0mn_realisations\u001B[0m\u001B[0;34m=\u001B[0m\u001B[0mnum_realisations\u001B[0m\u001B[0;34m)\u001B[0m\u001B[0;34m\u001B[0m\u001B[0;34m\u001B[0m\u001B[0m\n\u001B[0m\u001B[1;32m     14\u001B[0m     \u001B[0mprint\u001B[0m\u001B[0;34m(\u001B[0m\u001B[0;34mf'{n_sym} symbols: errors found = {errs} / [{cs.length_of_msg*num_realisations} = {cs.length_of_msg} bits * {num_realisations} realisations]'\u001B[0m\u001B[0;34m)\u001B[0m\u001B[0;34m\u001B[0m\u001B[0;34m\u001B[0m\u001B[0m\n\u001B[1;32m     15\u001B[0m     \u001B[0mbers_vec\u001B[0m\u001B[0;34m.\u001B[0m\u001B[0mappend\u001B[0m\u001B[0;34m(\u001B[0m\u001B[0mbers\u001B[0m\u001B[0;34m)\u001B[0m\u001B[0;34m\u001B[0m\u001B[0;34m\u001B[0m\u001B[0m\n",
      "\u001B[0;32m/var/folders/1k/xrnsys5s7b39s_ylmkgng4fw0000gn/T/ipykernel_56679/159062194.py\u001B[0m in \u001B[0;36mber_vs_us\u001B[0;34m(cs, normalizing_factors, n_realisations, pbar_title)\u001B[0m\n\u001B[1;32m      7\u001B[0m     \u001B[0;32mfor\u001B[0m \u001B[0mi\u001B[0m\u001B[0;34m,\u001B[0m \u001B[0mu\u001B[0m \u001B[0;32min\u001B[0m \u001B[0menumerate\u001B[0m\u001B[0;34m(\u001B[0m\u001B[0mnormalizing_factors\u001B[0m\u001B[0;34m)\u001B[0m\u001B[0;34m:\u001B[0m\u001B[0;34m\u001B[0m\u001B[0;34m\u001B[0m\u001B[0m\n\u001B[1;32m      8\u001B[0m         \u001B[0mcs\u001B[0m\u001B[0;34m.\u001B[0m\u001B[0mnormalization_factor\u001B[0m \u001B[0;34m=\u001B[0m \u001B[0mu\u001B[0m\u001B[0;34m\u001B[0m\u001B[0;34m\u001B[0m\u001B[0m\n\u001B[0;32m----> 9\u001B[0;31m         \u001B[0mber_i\u001B[0m\u001B[0;34m,\u001B[0m \u001B[0mnum_errors_i\u001B[0m \u001B[0;34m=\u001B[0m \u001B[0mrun_n_times\u001B[0m\u001B[0;34m(\u001B[0m\u001B[0mcs\u001B[0m\u001B[0;34m,\u001B[0m \u001B[0mn_realisations\u001B[0m\u001B[0;34m,\u001B[0m \u001B[0mpbar\u001B[0m\u001B[0;34m)\u001B[0m\u001B[0;34m\u001B[0m\u001B[0;34m\u001B[0m\u001B[0m\n\u001B[0m\u001B[1;32m     10\u001B[0m         \u001B[0mbers\u001B[0m\u001B[0;34m.\u001B[0m\u001B[0mappend\u001B[0m\u001B[0;34m(\u001B[0m\u001B[0mber_i\u001B[0m\u001B[0;34m)\u001B[0m\u001B[0;34m\u001B[0m\u001B[0;34m\u001B[0m\u001B[0m\n\u001B[1;32m     11\u001B[0m         \u001B[0mnum_errors_vec\u001B[0m\u001B[0;34m.\u001B[0m\u001B[0mappend\u001B[0m\u001B[0;34m(\u001B[0m\u001B[0mnum_errors_i\u001B[0m\u001B[0;34m)\u001B[0m\u001B[0;34m\u001B[0m\u001B[0;34m\u001B[0m\u001B[0m\n",
      "\u001B[0;32m/var/folders/1k/xrnsys5s7b39s_ylmkgng4fw0000gn/T/ipykernel_56679/563096982.py\u001B[0m in \u001B[0;36mrun_n_times\u001B[0;34m(cs, n, pbar)\u001B[0m\n\u001B[1;32m      5\u001B[0m         \u001B[0;32mwith\u001B[0m \u001B[0mwarnings\u001B[0m\u001B[0;34m.\u001B[0m\u001B[0mcatch_warnings\u001B[0m\u001B[0;34m(\u001B[0m\u001B[0;34m)\u001B[0m\u001B[0;34m:\u001B[0m\u001B[0;34m\u001B[0m\u001B[0;34m\u001B[0m\u001B[0m\n\u001B[1;32m      6\u001B[0m             \u001B[0mwarnings\u001B[0m\u001B[0;34m.\u001B[0m\u001B[0msimplefilter\u001B[0m\u001B[0;34m(\u001B[0m\u001B[0;34m\"ignore\"\u001B[0m\u001B[0;34m)\u001B[0m\u001B[0;34m\u001B[0m\u001B[0;34m\u001B[0m\u001B[0m\n\u001B[0;32m----> 7\u001B[0;31m             \u001B[0mnum_errors\u001B[0m \u001B[0;34m+=\u001B[0m \u001B[0mcs\u001B[0m\u001B[0;34m.\u001B[0m\u001B[0miterate_through_channel\u001B[0m\u001B[0;34m(\u001B[0m\u001B[0;34m)\u001B[0m\u001B[0;34m[\u001B[0m\u001B[0;36m1\u001B[0m\u001B[0;34m]\u001B[0m\u001B[0;34m\u001B[0m\u001B[0;34m\u001B[0m\u001B[0m\n\u001B[0m\u001B[1;32m      8\u001B[0m         \u001B[0;32mif\u001B[0m \u001B[0mpbar\u001B[0m\u001B[0;34m:\u001B[0m \u001B[0mpbar\u001B[0m\u001B[0;34m.\u001B[0m\u001B[0mupdate\u001B[0m\u001B[0;34m(\u001B[0m\u001B[0;36m1\u001B[0m\u001B[0;34m)\u001B[0m\u001B[0;34m\u001B[0m\u001B[0;34m\u001B[0m\u001B[0m\n\u001B[1;32m      9\u001B[0m     \u001B[0mber\u001B[0m \u001B[0;34m=\u001B[0m \u001B[0mnum_errors\u001B[0m \u001B[0;34m/\u001B[0m \u001B[0;34m(\u001B[0m\u001B[0mn\u001B[0m \u001B[0;34m*\u001B[0m \u001B[0mcs\u001B[0m\u001B[0;34m.\u001B[0m\u001B[0mlength_of_msg\u001B[0m\u001B[0;34m)\u001B[0m\u001B[0;34m\u001B[0m\u001B[0;34m\u001B[0m\u001B[0m\n",
      "\u001B[0;32m~/Desktop/thesis_stuff/Thesis-code/src/channel_simulation.py\u001B[0m in \u001B[0;36miterate_through_channel\u001B[0;34m(self)\u001B[0m\n\u001B[1;32m     56\u001B[0m         \u001B[0;32mfor\u001B[0m \u001B[0mi\u001B[0m \u001B[0;32min\u001B[0m \u001B[0mrange\u001B[0m\u001B[0;34m(\u001B[0m\u001B[0;36m11\u001B[0m\u001B[0;34m)\u001B[0m\u001B[0;34m:\u001B[0m\u001B[0;34m\u001B[0m\u001B[0;34m\u001B[0m\u001B[0m\n\u001B[1;32m     57\u001B[0m             \u001B[0mstep\u001B[0m \u001B[0;34m=\u001B[0m \u001B[0mgetattr\u001B[0m\u001B[0;34m(\u001B[0m\u001B[0mself\u001B[0m\u001B[0;34m,\u001B[0m \u001B[0;34mf'step{i}'\u001B[0m\u001B[0;34m)\u001B[0m\u001B[0;34m\u001B[0m\u001B[0;34m\u001B[0m\u001B[0m\n\u001B[0;32m---> 58\u001B[0;31m             \u001B[0mstep\u001B[0m\u001B[0;34m(\u001B[0m\u001B[0;34m)\u001B[0m\u001B[0;34m\u001B[0m\u001B[0;34m\u001B[0m\u001B[0m\n\u001B[0m\u001B[1;32m     59\u001B[0m         \u001B[0;32mreturn\u001B[0m \u001B[0mself\u001B[0m\u001B[0;34m.\u001B[0m\u001B[0mevaluate\u001B[0m\u001B[0;34m(\u001B[0m\u001B[0;34m)\u001B[0m\u001B[0;34m\u001B[0m\u001B[0;34m\u001B[0m\u001B[0m\n\u001B[1;32m     60\u001B[0m \u001B[0;34m\u001B[0m\u001B[0m\n",
      "\u001B[0;32m~/Desktop/thesis_stuff/Thesis-code/src/channel_simulation.py\u001B[0m in \u001B[0;36mstep6\u001B[0;34m(self)\u001B[0m\n\u001B[1;32m     79\u001B[0m \u001B[0;34m\u001B[0m\u001B[0m\n\u001B[1;32m     80\u001B[0m     \u001B[0;32mdef\u001B[0m \u001B[0mstep6\u001B[0m\u001B[0;34m(\u001B[0m\u001B[0mself\u001B[0m\u001B[0;34m)\u001B[0m\u001B[0;34m:\u001B[0m\u001B[0;34m\u001B[0m\u001B[0;34m\u001B[0m\u001B[0m\n\u001B[0;32m---> 81\u001B[0;31m         \u001B[0mself\u001B[0m\u001B[0;34m.\u001B[0m\u001B[0mx\u001B[0m\u001B[0;34m[\u001B[0m\u001B[0;36m6\u001B[0m\u001B[0;34m]\u001B[0m \u001B[0;34m=\u001B[0m \u001B[0mself\u001B[0m\u001B[0;34m.\u001B[0m\u001B[0mcb\u001B[0m\u001B[0;34m.\u001B[0m\u001B[0mchannel\u001B[0m\u001B[0;34m(\u001B[0m\u001B[0mself\u001B[0m\u001B[0;34m.\u001B[0m\u001B[0mx\u001B[0m\u001B[0;34m[\u001B[0m\u001B[0;36m5\u001B[0m\u001B[0;34m]\u001B[0m\u001B[0;34m,\u001B[0m \u001B[0mself\u001B[0m\u001B[0;34m.\u001B[0m\u001B[0mchannel_func\u001B[0m\u001B[0;34m)\u001B[0m\u001B[0;34m\u001B[0m\u001B[0;34m\u001B[0m\u001B[0m\n\u001B[0m\u001B[1;32m     82\u001B[0m \u001B[0;34m\u001B[0m\u001B[0m\n\u001B[1;32m     83\u001B[0m     \u001B[0;32mdef\u001B[0m \u001B[0mstep7\u001B[0m\u001B[0;34m(\u001B[0m\u001B[0mself\u001B[0m\u001B[0;34m)\u001B[0m\u001B[0;34m:\u001B[0m\u001B[0;34m\u001B[0m\u001B[0;34m\u001B[0m\u001B[0m\n",
      "\u001B[0;32m~/Desktop/thesis_stuff/Thesis-code/src/channel_blocks.py\u001B[0m in \u001B[0;36mchannel\u001B[0;34m(self, x, channel_func)\u001B[0m\n\u001B[1;32m    112\u001B[0m \u001B[0;34m\u001B[0m\u001B[0m\n\u001B[1;32m    113\u001B[0m     \u001B[0;32mdef\u001B[0m \u001B[0mchannel\u001B[0m\u001B[0;34m(\u001B[0m\u001B[0mself\u001B[0m\u001B[0;34m,\u001B[0m \u001B[0mx\u001B[0m\u001B[0;34m,\u001B[0m \u001B[0mchannel_func\u001B[0m\u001B[0;34m)\u001B[0m\u001B[0;34m:\u001B[0m  \u001B[0;31m# step 6\u001B[0m\u001B[0;34m\u001B[0m\u001B[0;34m\u001B[0m\u001B[0m\n\u001B[0;32m--> 114\u001B[0;31m         \u001B[0my\u001B[0m \u001B[0;34m=\u001B[0m \u001B[0mchannel_func\u001B[0m\u001B[0;34m(\u001B[0m\u001B[0mx\u001B[0m\u001B[0;34m)\u001B[0m\u001B[0;34m\u001B[0m\u001B[0;34m\u001B[0m\u001B[0m\n\u001B[0m\u001B[1;32m    115\u001B[0m \u001B[0;34m\u001B[0m\u001B[0m\n\u001B[1;32m    116\u001B[0m         \u001B[0;32mif\u001B[0m \u001B[0mself\u001B[0m\u001B[0;34m.\u001B[0m\u001B[0mverbose\u001B[0m\u001B[0;34m:\u001B[0m\u001B[0;34m\u001B[0m\u001B[0;34m\u001B[0m\u001B[0m\n",
      "\u001B[0;32m~/Desktop/thesis_stuff/Thesis-code/src/split_step_fourier.py\u001B[0m in \u001B[0;36m__call__\u001B[0;34m(self, x)\u001B[0m\n\u001B[1;32m     93\u001B[0m \u001B[0;34m\u001B[0m\u001B[0m\n\u001B[1;32m     94\u001B[0m     \u001B[0;32mdef\u001B[0m \u001B[0m__call__\u001B[0m\u001B[0;34m(\u001B[0m\u001B[0mself\u001B[0m\u001B[0;34m,\u001B[0m \u001B[0mx\u001B[0m\u001B[0;34m)\u001B[0m\u001B[0;34m:\u001B[0m\u001B[0;34m\u001B[0m\u001B[0;34m\u001B[0m\u001B[0m\n\u001B[0;32m---> 95\u001B[0;31m         \u001B[0mself\u001B[0m\u001B[0;34m.\u001B[0m\u001B[0mstart_minimal\u001B[0m\u001B[0;34m(\u001B[0m\u001B[0mx\u001B[0m\u001B[0;34m)\u001B[0m\u001B[0;34m\u001B[0m\u001B[0;34m\u001B[0m\u001B[0m\n\u001B[0m\u001B[1;32m     96\u001B[0m         \u001B[0;32mreturn\u001B[0m \u001B[0mself\u001B[0m\u001B[0;34m.\u001B[0m\u001B[0moutput\u001B[0m\u001B[0;34m\u001B[0m\u001B[0;34m\u001B[0m\u001B[0m\n\u001B[1;32m     97\u001B[0m \u001B[0;34m\u001B[0m\u001B[0m\n",
      "\u001B[0;32m~/Desktop/thesis_stuff/Thesis-code/src/split_step_fourier.py\u001B[0m in \u001B[0;36mstart_minimal\u001B[0;34m(self, uaux)\u001B[0m\n\u001B[1;32m    123\u001B[0m             \u001B[0mf\u001B[0m \u001B[0;34m=\u001B[0m \u001B[0mnp\u001B[0m\u001B[0;34m.\u001B[0m\u001B[0mfft\u001B[0m\u001B[0;34m.\u001B[0m\u001B[0mifft\u001B[0m\u001B[0;34m(\u001B[0m\u001B[0mspectrum\u001B[0m\u001B[0;34m)\u001B[0m\u001B[0;34m\u001B[0m\u001B[0;34m\u001B[0m\u001B[0m\n\u001B[1;32m    124\u001B[0m \u001B[0;34m\u001B[0m\u001B[0m\n\u001B[0;32m--> 125\u001B[0;31m             \u001B[0mself\u001B[0m\u001B[0;34m.\u001B[0m\u001B[0mop_pulse\u001B[0m\u001B[0;34m[\u001B[0m\u001B[0mi\u001B[0m\u001B[0;34m]\u001B[0m \u001B[0;34m=\u001B[0m \u001B[0mnp\u001B[0m\u001B[0;34m.\u001B[0m\u001B[0mabsolute\u001B[0m\u001B[0;34m(\u001B[0m\u001B[0mf\u001B[0m\u001B[0;34m)\u001B[0m\u001B[0;34m\u001B[0m\u001B[0;34m\u001B[0m\u001B[0m\n\u001B[0m\u001B[1;32m    126\u001B[0m \u001B[0;34m\u001B[0m\u001B[0m\n\u001B[1;32m    127\u001B[0m         \u001B[0mself\u001B[0m\u001B[0;34m.\u001B[0m\u001B[0moutput\u001B[0m \u001B[0;34m=\u001B[0m \u001B[0mself\u001B[0m\u001B[0;34m.\u001B[0m\u001B[0mop_pulse\u001B[0m\u001B[0;34m[\u001B[0m\u001B[0;34m-\u001B[0m\u001B[0;36m1\u001B[0m\u001B[0;34m]\u001B[0m\u001B[0;34m\u001B[0m\u001B[0;34m\u001B[0m\u001B[0m\n",
      "\u001B[0;31mIndexError\u001B[0m: list assignment index out of range"
     ]
    }
   ],
   "source": [
    "# test the impact of ber vs normalization factor for multiple n_symbols\n",
    "cs = ChannelSimulator(m_qam=16, verbose=False, channel_func=SplitStepFourier())\n",
    "\n",
    "num_realisations = 5\n",
    "us_vec = multi_run.create_us_vec(n_steps=10, min_u=-2.5, max_u=2)\n",
    "N_symbols_vec = np.array([64, 128, 256, 512])\n",
    "\n",
    "with np.printoptions(precision=2):\n",
    "    print(f'normalizing factors are: {us_vec}')\n",
    "\n",
    "    bers_vec, legends = [], []\n",
    "    for n_sym in N_symbols_vec:\n",
    "        cs.num_symbols = n_sym\n",
    "        bers, errs = multi_run.ber_vs_us(cs, us_vec, n_realisations=num_realisations)\n",
    "        print(f'{n_sym} symbols: errors found = {errs} / [{cs.length_of_msg * num_realisations} '\n",
    "              f'= {cs.length_of_msg} bits * {num_realisations} realisations]')\n",
    "        bers_vec.append(bers)\n",
    "        legends.append(f'{n_sym} symbols')\n",
    "\n",
    "Visualizer.plot_bers(us_vec, bers_vec, legends)\n"
   ]
  },
  {
   "cell_type": "markdown",
   "metadata": {
    "id": "krvcKZuOpwNe",
    "pycharm": {
     "name": "#%% md\n"
    }
   },
   "source": [
    "# TODOs:\n",
    "* check out debug_single_with_split and explore why after split the signal looks so bad\n",
    "    * probably something to do with params or code\n",
    "    * idea: check with the SplitStep_full and see if the results are similar -\n",
    "        * if not, there's something wrong with the code of the minimal version\n",
    "\n",
    "\n",
    "Done:\n",
    "* add BER at the end\n",
    "* perhaps loop the BW thing further up with BER as result function\n",
    "* make a graph of BER as function of normalizing factor\n",
    "* make the number of symbols: 500 - 1000 check that the ber improves (power of two)\n",
    "* add channel - *split step fourier algorithm* (algorithm is at agrawal 2.4.1 [2.3.46 equation without alpha] paper)\n",
    "  *it includes the noise (at first we can neglect it)\n",
    "* work with units of: pico second and km\n",
    "* set params for split step:\n",
    "    * check on symbols: [64 :power of 2 :512]\n",
    "    * alpha = 0\n",
    "    * maximum distance is around 1000km - need to translate to SI\n",
    "    * b2 [-20 pica sec^2 / km]\n",
    "    * gama = 1.27 [$km^{-1} * v^{-1}$]\n",
    "    * h is the distance resolution - no larger than 0.5 km (smaller the better)\n",
    "* with channel the results should be similiar if"
   ]
  }
 ],
 "metadata": {
  "colab": {
   "collapsed_sections": [],
   "name": "research.ipynb",
   "provenance": [],
   "toc_visible": true
  },
  "kernelspec": {
   "display_name": "Python 3 (ipykernel)",
   "language": "python",
   "name": "python3"
  },
  "language_info": {
   "codemirror_mode": {
    "name": "ipython",
    "version": 3
   },
   "file_extension": ".py",
   "mimetype": "text/x-python",
   "name": "python",
   "nbconvert_exporter": "python",
   "pygments_lexer": "ipython3",
   "version": "3.9.7"
  }
 },
 "nbformat": 4,
 "nbformat_minor": 1
}