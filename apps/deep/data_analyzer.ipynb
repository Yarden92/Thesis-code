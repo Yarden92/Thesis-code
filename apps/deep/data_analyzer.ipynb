{
 "cells": [
  {
   "cell_type": "code",
   "execution_count": null,
   "outputs": [],
   "source": [
    "%load_ext autoreload\n",
    "%autoreload 2\n",
    "from src.general_methods.visualizer import Visualizer\n",
    "from src.deep.data_analyzer import DataAnalyzer\n",
    "from tqdm.notebook import tqdm"
   ],
   "metadata": {
    "collapsed": false
   }
  },
  {
   "cell_type": "code",
   "execution_count": null,
   "outputs": [],
   "source": [
    "root_dir = f'../../data/datasets/qam1024_160x20'\n",
    "data_analyzer = DataAnalyzer(root_dir, _tqdm=tqdm, is_box_plot=True)\n",
    "data_analyzer.plot_single_sample(0.001, data_id=0, is_save=False)"
   ],
   "metadata": {
    "collapsed": false
   }
  },
  {
   "cell_type": "code",
   "execution_count": 5,
   "outputs": [
    {
     "data": {
      "text/plain": "  0%|          | 0/20 [00:00<?, ?it/s]",
      "application/vnd.jupyter.widget-view+json": {
       "version_major": 2,
       "version_minor": 0,
       "model_id": "8cd7602f4997473ea69273336ea19999"
      }
     },
     "metadata": {},
     "output_type": "display_data"
    },
    {
     "ename": "AssertionError",
     "evalue": "oh no, the outcome is not 5120, but 0",
     "output_type": "error",
     "traceback": [
      "\u001B[0;31m---------------------------------------------------------------------------\u001B[0m",
      "\u001B[0;31mAssertionError\u001B[0m                            Traceback (most recent call last)",
      "Input \u001B[0;32mIn [5]\u001B[0m, in \u001B[0;36m<module>\u001B[0;34m\u001B[0m\n\u001B[1;32m      1\u001B[0m mu \u001B[38;5;241m=\u001B[39m \u001B[38;5;241m0.001\u001B[39m\n\u001B[1;32m      2\u001B[0m n \u001B[38;5;241m=\u001B[39m \u001B[38;5;241m20\u001B[39m\n\u001B[0;32m----> 3\u001B[0m ber_vec \u001B[38;5;241m=\u001B[39m \u001B[43mdata_analyzer\u001B[49m\u001B[38;5;241;43m.\u001B[39;49m\u001B[43mcalc_ber_for_sub_folder\u001B[49m\u001B[43m(\u001B[49m\u001B[43mmu\u001B[49m\u001B[38;5;241;43m=\u001B[39;49m\u001B[43mmu\u001B[49m\u001B[43m,\u001B[49m\u001B[43m \u001B[49m\u001B[43mn\u001B[49m\u001B[38;5;241;43m=\u001B[39;49m\u001B[43mn\u001B[49m\u001B[43m,\u001B[49m\u001B[43m \u001B[49m\u001B[43m_tqdm\u001B[49m\u001B[38;5;241;43m=\u001B[39;49m\u001B[43mtqdm\u001B[49m\u001B[43m)\u001B[49m\n",
      "File \u001B[0;32m~/Desktop/projects/thesis_stuff/Thesis-code/src/deep/data_analyzer.py:90\u001B[0m, in \u001B[0;36mDataAnalyzer.calc_ber_for_sub_folder\u001B[0;34m(self, mu, n, _tqdm)\u001B[0m\n\u001B[1;32m     87\u001B[0m \u001B[38;5;28mdir\u001B[39m \u001B[38;5;241m=\u001B[39m \u001B[38;5;28mself\u001B[39m\u001B[38;5;241m.\u001B[39mpath \u001B[38;5;241m+\u001B[39m \u001B[38;5;124m'\u001B[39m\u001B[38;5;124m/\u001B[39m\u001B[38;5;124m'\u001B[39m \u001B[38;5;241m+\u001B[39m sub_name\n\u001B[1;32m     88\u001B[0m dataset \u001B[38;5;241m=\u001B[39m DatasetNormal(\u001B[38;5;28mdir\u001B[39m)\n\u001B[0;32m---> 90\u001B[0m ber_vec, num_errors \u001B[38;5;241m=\u001B[39m \u001B[43mMetrics\u001B[49m\u001B[38;5;241;43m.\u001B[39;49m\u001B[43mcalc_ber_from_dataset\u001B[49m\u001B[43m(\u001B[49m\u001B[43mdataset\u001B[49m\u001B[43m,\u001B[49m\u001B[43m \u001B[49m\u001B[38;5;28;43;01mFalse\u001B[39;49;00m\u001B[43m,\u001B[49m\u001B[43m \u001B[49m\u001B[43m_tqdm\u001B[49m\u001B[43m,\u001B[49m\u001B[43m \u001B[49m\u001B[43mn\u001B[49m\u001B[43m)\u001B[49m\n\u001B[1;32m     91\u001B[0m \u001B[38;5;28mprint\u001B[39m(\u001B[38;5;124mf\u001B[39m\u001B[38;5;124m'\u001B[39m\u001B[38;5;124mthe avg ber of mu=\u001B[39m\u001B[38;5;132;01m{\u001B[39;00mmu\u001B[38;5;132;01m}\u001B[39;00m\u001B[38;5;124m (with \u001B[39m\u001B[38;5;132;01m{\u001B[39;00mn\u001B[38;5;132;01m}\u001B[39;00m\u001B[38;5;124m permutations) is \u001B[39m\u001B[38;5;132;01m{\u001B[39;00mnp\u001B[38;5;241m.\u001B[39mmean(ber_vec)\u001B[38;5;132;01m}\u001B[39;00m\u001B[38;5;124m'\u001B[39m)\n\u001B[1;32m     93\u001B[0m \u001B[38;5;28;01mreturn\u001B[39;00m ber_vec\n",
      "File \u001B[0;32m~/Desktop/projects/thesis_stuff/Thesis-code/src/deep/metrics.py:63\u001B[0m, in \u001B[0;36mMetrics.calc_ber_from_dataset\u001B[0;34m(dataset, verbose, _tqdm, num_x_per_folder)\u001B[0m\n\u001B[1;32m     61\u001B[0m x, y \u001B[38;5;241m=\u001B[39m dataset[i]\n\u001B[1;32m     62\u001B[0m \u001B[38;5;66;03m# x, y = ml_ops.torch_to_complex_numpy(x), ml_ops.torch_to_complex_numpy(y)\u001B[39;00m\n\u001B[0;32m---> 63\u001B[0m ber_i, num_errors_i \u001B[38;5;241m=\u001B[39m \u001B[43mMetrics\u001B[49m\u001B[38;5;241;43m.\u001B[39;49m\u001B[43mcalc_ber_for_single_vec\u001B[49m\u001B[43m(\u001B[49m\u001B[43mx\u001B[49m\u001B[43m,\u001B[49m\u001B[43m \u001B[49m\u001B[43my\u001B[49m\u001B[43m,\u001B[49m\u001B[43m \u001B[49m\u001B[43mcs\u001B[49m\u001B[43m,\u001B[49m\u001B[43m \u001B[49m\u001B[43mdatatype\u001B[49m\u001B[38;5;241;43m=\u001B[39;49m\u001B[43mdatatype\u001B[49m\u001B[43m)\u001B[49m\n\u001B[1;32m     64\u001B[0m ber_vec\u001B[38;5;241m.\u001B[39mappend(ber_i)\n\u001B[1;32m     65\u001B[0m num_errors \u001B[38;5;241m+\u001B[39m\u001B[38;5;241m=\u001B[39m num_errors_i\n",
      "File \u001B[0;32m~/Desktop/projects/thesis_stuff/Thesis-code/src/deep/metrics.py:23\u001B[0m, in \u001B[0;36mMetrics.calc_ber_for_single_vec\u001B[0;34m(x, y, cs, conf, datatype)\u001B[0m\n\u001B[1;32m     21\u001B[0m cs \u001B[38;5;241m=\u001B[39m cs \u001B[38;5;129;01mor\u001B[39;00m ChannelSimulator\u001B[38;5;241m.\u001B[39mfrom_dict(conf)\n\u001B[1;32m     22\u001B[0m \u001B[38;5;28;01mif\u001B[39;00m datatype \u001B[38;5;241m==\u001B[39m DataType\u001B[38;5;241m.\u001B[39mspectrum:\n\u001B[0;32m---> 23\u001B[0m     msg_in \u001B[38;5;241m=\u001B[39m \u001B[43mcs\u001B[49m\u001B[38;5;241;43m.\u001B[39;49m\u001B[43msteps8_to_10\u001B[49m\u001B[43m(\u001B[49m\u001B[43my\u001B[49m\u001B[43m)\u001B[49m\n\u001B[1;32m     24\u001B[0m     msg_out \u001B[38;5;241m=\u001B[39m cs\u001B[38;5;241m.\u001B[39msteps8_to_10(x)\n\u001B[1;32m     25\u001B[0m \u001B[38;5;28;01melif\u001B[39;00m datatype \u001B[38;5;241m==\u001B[39m DataType\u001B[38;5;241m.\u001B[39miq_samples:\n",
      "File \u001B[0;32m~/Desktop/projects/thesis_stuff/Thesis-code/src/optics/channel_simulation.py:132\u001B[0m, in \u001B[0;36mChannelSimulator.steps8_to_10\u001B[0;34m(self, x)\u001B[0m\n\u001B[1;32m    130\u001B[0m \u001B[38;5;28mself\u001B[39m\u001B[38;5;241m.\u001B[39mstep8_equalize()\n\u001B[1;32m    131\u001B[0m \u001B[38;5;28mself\u001B[39m\u001B[38;5;241m.\u001B[39mstep9_match_filter()\n\u001B[0;32m--> 132\u001B[0m \u001B[38;5;28;43mself\u001B[39;49m\u001B[38;5;241;43m.\u001B[39;49m\u001B[43mstep10_demodulate\u001B[49m\u001B[43m(\u001B[49m\u001B[43m)\u001B[49m\n\u001B[1;32m    133\u001B[0m \u001B[38;5;28;01mreturn\u001B[39;00m \u001B[38;5;28mself\u001B[39m\u001B[38;5;241m.\u001B[39mx[\u001B[38;5;241m10\u001B[39m]\n",
      "File \u001B[0;32m~/Desktop/projects/thesis_stuff/Thesis-code/src/optics/channel_simulation.py:283\u001B[0m, in \u001B[0;36mChannelSimulator.step10_demodulate\u001B[0;34m(self)\u001B[0m\n\u001B[1;32m    282\u001B[0m \u001B[38;5;28;01mdef\u001B[39;00m \u001B[38;5;21mstep10_demodulate\u001B[39m(\u001B[38;5;28mself\u001B[39m):\n\u001B[0;32m--> 283\u001B[0m     \u001B[38;5;28mself\u001B[39m\u001B[38;5;241m.\u001B[39mx[\u001B[38;5;241m10\u001B[39m] \u001B[38;5;241m=\u001B[39m \u001B[38;5;28;43mself\u001B[39;49m\u001B[38;5;241;43m.\u001B[39;49m\u001B[43mcb\u001B[49m\u001B[38;5;241;43m.\u001B[39;49m\u001B[43mdemodulate\u001B[49m\u001B[43m(\u001B[49m\u001B[38;5;28;43mself\u001B[39;49m\u001B[38;5;241;43m.\u001B[39;49m\u001B[43mx\u001B[49m\u001B[43m[\u001B[49m\u001B[38;5;241;43m9\u001B[39;49m\u001B[43m]\u001B[49m\u001B[43m,\u001B[49m\u001B[43m \u001B[49m\u001B[38;5;28;43mself\u001B[39;49m\u001B[38;5;241;43m.\u001B[39;49m\u001B[43mmodem\u001B[49m\u001B[43m,\u001B[49m\u001B[43m \u001B[49m\u001B[38;5;28;43mself\u001B[39;49m\u001B[38;5;241;43m.\u001B[39;49m\u001B[43mlength_of_msg\u001B[49m\u001B[43m)\u001B[49m\n\u001B[1;32m    284\u001B[0m     \u001B[38;5;28;01mif\u001B[39;00m \u001B[38;5;28mself\u001B[39m\u001B[38;5;241m.\u001B[39mverbose:\n\u001B[1;32m    285\u001B[0m         Visualizer\u001B[38;5;241m.\u001B[39mprint_bits(\u001B[38;5;28mself\u001B[39m\u001B[38;5;241m.\u001B[39mx[\u001B[38;5;241m10\u001B[39m], \u001B[38;5;28mself\u001B[39m\u001B[38;5;241m.\u001B[39msps, \u001B[38;5;124m'\u001B[39m\u001B[38;5;124mmessage after channel\u001B[39m\u001B[38;5;124m'\u001B[39m)\n",
      "File \u001B[0;32m~/Desktop/projects/thesis_stuff/Thesis-code/src/optics/channel_blocks.py:115\u001B[0m, in \u001B[0;36mChannelBlocks.demodulate\u001B[0;34m(self, x, modem, length_of_msg)\u001B[0m\n\u001B[1;32m    113\u001B[0m \u001B[38;5;28;01mdef\u001B[39;00m \u001B[38;5;21mdemodulate\u001B[39m(\u001B[38;5;28mself\u001B[39m, x, modem, length_of_msg):  \u001B[38;5;66;03m# step 10\u001B[39;00m\n\u001B[1;32m    114\u001B[0m     y \u001B[38;5;241m=\u001B[39m modem\u001B[38;5;241m.\u001B[39mdemodulate(x)\n\u001B[0;32m--> 115\u001B[0m     \u001B[38;5;28;01massert\u001B[39;00m \u001B[38;5;28mlen\u001B[39m(y) \u001B[38;5;241m==\u001B[39m length_of_msg, \\\n\u001B[1;32m    116\u001B[0m         \u001B[38;5;124mf\u001B[39m\u001B[38;5;124m\"\u001B[39m\u001B[38;5;124moh no, the outcome is not \u001B[39m\u001B[38;5;132;01m{\u001B[39;00mlength_of_msg\u001B[38;5;132;01m}\u001B[39;00m\u001B[38;5;124m, but \u001B[39m\u001B[38;5;132;01m{\u001B[39;00m\u001B[38;5;28mlen\u001B[39m(y)\u001B[38;5;132;01m}\u001B[39;00m\u001B[38;5;124m\"\u001B[39m\n\u001B[1;32m    117\u001B[0m     \u001B[38;5;28;01mreturn\u001B[39;00m y\n",
      "\u001B[0;31mAssertionError\u001B[0m: oh no, the outcome is not 5120, but 0"
     ]
    }
   ],
   "source": [
    "mu = 0.001\n",
    "n = 20\n",
    "ber_vec = data_analyzer.calc_ber_for_sub_folder(mu=mu, n=n, _tqdm=tqdm)"
   ],
   "metadata": {
    "collapsed": false
   }
  },
  {
   "cell_type": "code",
   "execution_count": null,
   "outputs": [],
   "source": [
    "Visualizer.plot_bers_boxplot(us=[mu], bers_vecs=ber_vec, output_path=None )\n",
    "Visualizer.my_plot(range(n), ber_vec, xlabel='i', ylabel='BER', function='step')"
   ],
   "metadata": {
    "collapsed": false
   }
  },
  {
   "cell_type": "code",
   "execution_count": null,
   "outputs": [],
   "source": [
    "data_analyzer.plot_full_ber_graph(n=20, is_save=False)"
   ],
   "metadata": {
    "collapsed": false
   }
  },
  {
   "cell_type": "code",
   "execution_count": null,
   "outputs": [],
   "source": [],
   "metadata": {
    "collapsed": false
   }
  }
 ],
 "metadata": {
  "kernelspec": {
   "display_name": "Python 3",
   "language": "python",
   "name": "python3"
  },
  "language_info": {
   "codemirror_mode": {
    "name": "ipython",
    "version": 2
   },
   "file_extension": ".py",
   "mimetype": "text/x-python",
   "name": "python",
   "nbconvert_exporter": "python",
   "pygments_lexer": "ipython2",
   "version": "2.7.6"
  }
 },
 "nbformat": 4,
 "nbformat_minor": 0
}
