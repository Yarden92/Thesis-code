{
 "cells": [
  {
   "cell_type": "code",
   "execution_count": 126,
   "metadata": {
    "collapsed": true,
    "pycharm": {
     "name": "#%%\n"
    }
   },
   "outputs": [
    {
     "name": "stdout",
     "output_type": "stream",
     "text": [
      "The autoreload extension is already loaded. To reload it, use:\n",
      "  %reload_ext autoreload\n"
     ]
    }
   ],
   "source": [
    "%load_ext autoreload\n",
    "%autoreload 2\n",
    "%reload_ext autoreload\n",
    "\n",
    "from tqdm.notebook import tqdm\n",
    "import numpy as np\n",
    "\n",
    "from src.deep import file_methods\n",
    "from src.optics.channel_simulation import ChannelSimulator\n",
    "from src.optics.split_step_fourier import SplitStepFourier"
   ]
  },
  {
   "cell_type": "code",
   "execution_count": 127,
   "outputs": [],
   "source": [
    "# config\n",
    "data_len = 50  # for each mu\n",
    "num_symbols = 512\n",
    "dir='data/qam1024_50x16'\n",
    "# mu = 1e-3\n",
    "# mu_vec = [1e-3, 1e-2, 1e-1, 0.5, 0.9]\n",
    "mu_vec = np.linspace(start=0.0005,stop=0.07,num=16)\n",
    "cs = ChannelSimulator(m_qam=1024,\n",
    "                      num_symbols=num_symbols,\n",
    "                      normalization_factor=0,  # will be overwritten during runtime\n",
    "                      dt=1,\n",
    "                      ssf=SplitStepFourier(\n",
    "                          b2=-20e-27,\n",
    "                          gamma=0.003,\n",
    "                          t0=125e-12,\n",
    "                          dt=1,\n",
    "                          z_n=1000e3,\n",
    "                          h=200\n",
    "                      ),\n",
    "                      verbose=False)"
   ],
   "metadata": {
    "collapsed": false,
    "pycharm": {
     "name": "#%%\n"
    }
   }
  },
  {
   "cell_type": "code",
   "execution_count": 128,
   "outputs": [
    {
     "data": {
      "text/plain": "  0%|          | 0/800 [00:00<?, ?it/s]",
      "application/vnd.jupyter.widget-view+json": {
       "version_major": 2,
       "version_minor": 0,
       "model_id": "7e52c6cf5d4d464793a2a767cd107236"
      }
     },
     "metadata": {},
     "output_type": "display_data"
    }
   ],
   "source": [
    "# generate the date\n",
    "file_methods.gen_data(data_len, num_symbols, mu_vec, cs, dir, tqdm=tqdm)"
   ],
   "metadata": {
    "collapsed": false,
    "pycharm": {
     "name": "#%%\n"
    }
   }
  },
  {
   "cell_type": "markdown",
   "source": [],
   "metadata": {
    "collapsed": false,
    "pycharm": {
     "name": "#%% md\n"
    }
   }
  }
 ],
 "metadata": {
  "kernelspec": {
   "display_name": "Python 3",
   "language": "python",
   "name": "python3"
  },
  "language_info": {
   "codemirror_mode": {
    "name": "ipython",
    "version": 2
   },
   "file_extension": ".py",
   "mimetype": "text/x-python",
   "name": "python",
   "nbconvert_exporter": "python",
   "pygments_lexer": "ipython2",
   "version": "2.7.6"
  }
 },
 "nbformat": 4,
 "nbformat_minor": 0
}