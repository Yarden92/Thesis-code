{
 "cells": [
  {
   "cell_type": "code",
   "execution_count": 1,
   "metadata": {
    "collapsed": true
   },
   "outputs": [],
   "source": [
    "import json\n",
    "from pathlib import Path\n",
    "\n",
    "import numpy as np\n",
    "from tqdm import tqdm\n",
    "\n",
    "from src.optics.channel_simulation import ChannelSimulator\n",
    "from src.optics.split_step_fourier import SplitStepFourier"
   ]
  },
  {
   "cell_type": "code",
   "execution_count": 3,
   "outputs": [],
   "source": [
    "# config\n",
    "data_len = 50\n",
    "dir = f'data/{data_len}_samples'\n",
    "x_path = f'{dir}/data_x.npy'\n",
    "y_path = f'{dir}/data_y.npy'\n",
    "conf_path = f'{dir}/conf.json'"
   ],
   "metadata": {
    "collapsed": false,
    "pycharm": {
     "name": "#%%\n"
    }
   }
  },
  {
   "cell_type": "code",
   "execution_count": 2,
   "outputs": [
    {
     "name": "stdout",
     "output_type": "stream",
     "text": [
      "SSF params: N = 2359, P_0 = 0.00042666666666666667\n",
      "number of iterations in split step algo: 2359\n"
     ]
    }
   ],
   "source": [
    "cs = ChannelSimulator(m_qam=16,\n",
    "                      num_symbols=512,\n",
    "                      normalization_factor=1e-3,\n",
    "                      dt=1,\n",
    "                      ssf=SplitStepFourier(\n",
    "                          b2=-20e-27,\n",
    "                          gamma=0.003,\n",
    "                          t0=125e-12,\n",
    "                          dt=1,\n",
    "                          z_n=1.51,\n",
    "                          h=500\n",
    "                      ),\n",
    "                      verbose=False)"
   ],
   "metadata": {
    "collapsed": false,
    "pycharm": {
     "name": "#%%\n"
    }
   }
  },
  {
   "cell_type": "code",
   "execution_count": 3,
   "outputs": [
    {
     "name": "stderr",
     "output_type": "stream",
     "text": [
      "  0%|          | 0/50 [00:00<?, ?it/s]/var/folders/1k/xrnsys5s7b39s_ylmkgng4fw0000gn/T/ipykernel_14695/3164716535.py:6: ComplexWarning: Casting complex values to real discards the imaginary part\n",
      "  all_x[i], all_y[i] = x, y\n",
      "100%|██████████| 50/50 [01:19<00:00,  1.58s/it]\n"
     ]
    }
   ],
   "source": [
    "# generate the date\n",
    "all_x = np.zeros(shape=(data_len, 512))\n",
    "all_y = np.zeros(shape=(data_len, 512))\n",
    "for i in tqdm(range(data_len)):\n",
    "    x, y = cs.gen_io_data()\n",
    "    all_x[i], all_y[i] = x, y"
   ],
   "metadata": {
    "collapsed": false,
    "pycharm": {
     "name": "#%%\n"
    }
   }
  },
  {
   "cell_type": "code",
   "execution_count": 20,
   "outputs": [
    {
     "name": "stdout",
     "output_type": "stream",
     "text": [
      "saved inputs\n",
      "saved outputs\n",
      "saved json params\n"
     ]
    }
   ],
   "source": [
    "# save to files\n",
    "Path(dir).mkdir(parents=True, exist_ok=True)\n",
    "\n",
    "with open(x_path, 'wb') as f:\n",
    "    np.save(f, all_x)\n",
    "    print('saved inputs')\n",
    "with open(y_path, 'wb') as f:\n",
    "    np.save(f, all_y)\n",
    "    print('saved outputs')\n",
    "with open(conf_path, 'w') as f:\n",
    "    json.dump(cs.params_to_dict(), f, indent=4)\n",
    "    print('saved json params')"
   ],
   "metadata": {
    "collapsed": false,
    "pycharm": {
     "name": "#%%\n"
    }
   }
  },
  {
   "cell_type": "code",
   "execution_count": 4,
   "outputs": [],
   "source": [
    "# read\n",
    "with open(x_path, 'rb') as f:\n",
    "    all_x_read = np.load(f)\n",
    "with open(y_path, 'rb') as f:\n",
    "    all_y_read = np.load(f)\n",
    "with open(conf_path, 'r') as f:\n",
    "    conf_read = json.load(f)"
   ],
   "metadata": {
    "collapsed": false,
    "pycharm": {
     "name": "#%%\n"
    }
   }
  },
  {
   "cell_type": "code",
   "execution_count": null,
   "outputs": [],
   "source": [
    "# verify bit exact\n",
    "assert (all_x_read == all_x).all(), 'oh no the read x is not like the saved x'\n",
    "assert (all_y_read == all_y).all(), 'oh no the read y is not like the saved y'\n",
    "assert conf_read == cs.params_to_dict(), 'oh no! the read conf is not like the saved conf'\n",
    "print('sucess')"
   ],
   "metadata": {
    "collapsed": false,
    "pycharm": {
     "name": "#%%\n"
    }
   }
  },
  {
   "cell_type": "markdown",
   "source": [],
   "metadata": {
    "collapsed": false,
    "pycharm": {
     "name": "#%% md\n"
    }
   }
  }
 ],
 "metadata": {
  "kernelspec": {
   "display_name": "Python 3",
   "language": "python",
   "name": "python3"
  },
  "language_info": {
   "codemirror_mode": {
    "name": "ipython",
    "version": 2
   },
   "file_extension": ".py",
   "mimetype": "text/x-python",
   "name": "python",
   "nbconvert_exporter": "python",
   "pygments_lexer": "ipython2",
   "version": "2.7.6"
  }
 },
 "nbformat": 4,
 "nbformat_minor": 0
}