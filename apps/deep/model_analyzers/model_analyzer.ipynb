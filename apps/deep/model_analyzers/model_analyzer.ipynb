{
 "cells": [
  {
   "attachments": {},
   "cell_type": "markdown",
   "metadata": {},
   "source": [
    "# Packages and lib imports"
   ]
  },
  {
   "cell_type": "code",
   "execution_count": 45,
   "metadata": {},
   "outputs": [
    {
     "name": "stdout",
     "output_type": "stream",
     "text": [
      "The autoreload extension is already loaded. To reload it, use:\n",
      "  %reload_ext autoreload\n"
     ]
    }
   ],
   "source": [
    "# initial setup for any notebook\n",
    "\n",
    "%load_ext autoreload\n",
    "%autoreload 2\n",
    "import sys\n",
    "sys.path.append(\"/home/yarcoh/projects/thesis-code4\") # go to parent dir"
   ]
  },
  {
   "cell_type": "code",
   "execution_count": 46,
   "metadata": {
    "pycharm": {
     "name": "#%%\n"
    }
   },
   "outputs": [],
   "source": [
    "# imports\n",
    "\n",
    "from src.deep.model_analyzer_src import ModelAnalyzer\n",
    "from src.deep.models import *\n",
    "from src.deep.trainers import Trainer\n",
    "from src.general_methods.visualizer import Visualizer\n",
    "from src.optics.config_manager import ConfigManager\n",
    "\n",
    "from tqdm.notebook import tqdm\n",
    "import os\n"
   ]
  },
  {
   "attachments": {},
   "cell_type": "markdown",
   "metadata": {},
   "source": [
    "# Parameters configuration"
   ]
  },
  {
   "cell_type": "code",
   "execution_count": 47,
   "metadata": {},
   "outputs": [],
   "source": [
    "\n",
    "trained_model_path = '/data/yarcoh/thesis_data/data/test_models/unet_v5_depth9_30k_W01_M32_noised_b1_mu042_noreg_v1'\n",
    "main_ds_path = '/data/yarcoh/thesis_data/data/datasets/b1/30000samples_15mu_W01'\n",
    "ds_subdir = 'mu=0.42'\n",
    "# main_ds_path = '/data/yarcoh/thesis_data/data/datasets/100000samples_20mu/'\n",
    "# ds_subdir = '100000_samples_mu=0.200'\n",
    "model_name = os.path.basename(trained_model_path)\n",
    "datasetpath = os.path.join(main_ds_path, ds_subdir)"
   ]
  },
  {
   "attachments": {},
   "cell_type": "markdown",
   "metadata": {},
   "source": [
    "# Init"
   ]
  },
  {
   "cell_type": "code",
   "execution_count": 48,
   "metadata": {},
   "outputs": [],
   "source": [
    "# load trainer from file\n",
    "trainer: Trainer = Trainer.load3(trained_model_path)"
   ]
  },
  {
   "cell_type": "code",
   "execution_count": 49,
   "metadata": {},
   "outputs": [
    {
     "data": {
      "text/plain": [
       "{'W': 0.1,\n",
       " 'Nspans': 12,\n",
       " 'La': 80,\n",
       " 'M_QAM': 16,\n",
       " 'Ts': 1.0,\n",
       " 'Nos': 16,\n",
       " 'eta': 2,\n",
       " 'mu': 0.4214285714285714,\n",
       " 'bet': 0.2,\n",
       " 'with_ssf': True,\n",
       " 'with_noise': True,\n",
       " 'beta2': -21.0,\n",
       " 'gamma': 1.27,\n",
       " 'dz': 0.2,\n",
       " 'K_T': 1.13,\n",
       " 'chi': 0.0461,\n",
       " 'verbose': False,\n",
       " 'io_type': 'c',\n",
       " 'N_sc': 1024,\n",
       " 'T_guardband': 9500.176184455533,\n",
       " 'N_sc_raw': 950.0176184455534,\n",
       " 'L': 960,\n",
       " 'T0': 10240.0,\n",
       " 'Tb': 20480.0,\n",
       " 'Tn': 2716.2443621016805,\n",
       " 'Zn': 351332.54450710316,\n",
       " 'Pn': 2.2411859849414837e-06,\n",
       " 'Ns': 16384,\n",
       " 'Nnft': 65536,\n",
       " 'Tnft': 136533.33333333334,\n",
       " 'dt': 2.0833333333333335,\n",
       " 'Nb': 9830,\n",
       " 'T1': -25.132741228718345,\n",
       " 'T2': 25.131974238324407,\n",
       " 'XI': array([-2047.9375,  2048.    ])}"
      ]
     },
     "execution_count": 49,
     "metadata": {},
     "output_type": "execute_result"
    }
   ],
   "source": [
    "conf = trainer.train_dataset.config\n",
    "conf.__dict__\n"
   ]
  },
  {
   "cell_type": "code",
   "execution_count": 50,
   "metadata": {},
   "outputs": [],
   "source": [
    "# for broken models with old config\n",
    "\n",
    "# inp = input('Do you want to refresh config? (y/n) ')\n",
    "# if inp == 'y':\n",
    "#     trainer.train_dataset.config = ConfigManager.refresh_config(trainer.train_dataset.config)\n",
    "#     trainer.save(trained_model_path)\n",
    "# else:\n",
    "#         print('config not refreshed')"
   ]
  },
  {
   "cell_type": "code",
   "execution_count": 51,
   "metadata": {
    "pycharm": {
     "name": "#%%\n"
    }
   },
   "outputs": [],
   "source": [
    "ma: ModelAnalyzer = ModelAnalyzer(trainer,model_name)"
   ]
  },
  {
   "cell_type": "code",
   "execution_count": 52,
   "metadata": {},
   "outputs": [],
   "source": [
    "ma.load_test_dataset(datasetpath, train_ds_ratio=0.4, val_ds_ratio=0.3, test_ds_ratio=0.3)"
   ]
  },
  {
   "cell_type": "code",
   "execution_count": 53,
   "metadata": {},
   "outputs": [
    {
     "name": "stdout",
     "output_type": "stream",
     "text": [
      "----------------------------------------------------------------\n",
      "        Layer (type)               Output Shape         Param #\n",
      "================================================================\n",
      "            Conv1d-1                 [-1, 1024]             224\n",
      "              Tanh-2                 [-1, 1024]               0\n",
      "         MaxPool1d-3                  [-1, 512]               0\n",
      "            Conv1d-4                  [-1, 512]           6,208\n",
      "              Tanh-5                  [-1, 512]               0\n",
      "         MaxPool1d-6                  [-1, 256]               0\n",
      "            Conv1d-7                  [-1, 256]          24,704\n",
      "              Tanh-8                  [-1, 256]               0\n",
      "         MaxPool1d-9                  [-1, 128]               0\n",
      "           Conv1d-10                  [-1, 128]          98,560\n",
      "             Tanh-11                  [-1, 128]               0\n",
      "        MaxPool1d-12                   [-1, 64]               0\n",
      "           Conv1d-13                   [-1, 64]         393,728\n",
      "             Tanh-14                   [-1, 64]               0\n",
      "        MaxPool1d-15                   [-1, 32]               0\n",
      "           Conv1d-16                   [-1, 32]       1,573,888\n",
      "             Tanh-17                   [-1, 32]               0\n",
      "        MaxPool1d-18                   [-1, 16]               0\n",
      "           Conv1d-19                   [-1, 16]       6,293,504\n",
      "             Tanh-20                   [-1, 16]               0\n",
      "        MaxPool1d-21                    [-1, 8]               0\n",
      "           Conv1d-22                    [-1, 8]      25,169,920\n",
      "             Tanh-23                    [-1, 8]               0\n",
      "        MaxPool1d-24                    [-1, 4]               0\n",
      "           Conv1d-25                    [-1, 4]     100,671,488\n",
      "             Tanh-26                    [-1, 4]               0\n",
      "        MaxPool1d-27                    [-1, 2]               0\n",
      "  ConvTranspose1d-28                    [-1, 4]      67,112,960\n",
      "             Tanh-29                    [-1, 4]               0\n",
      "  ConvTranspose1d-30                    [-1, 8]      16,779,264\n",
      "             Tanh-31                    [-1, 8]               0\n",
      "  ConvTranspose1d-32                   [-1, 16]       4,195,328\n",
      "             Tanh-33                   [-1, 16]               0\n",
      "  ConvTranspose1d-34                   [-1, 32]       1,049,088\n",
      "             Tanh-35                   [-1, 32]               0\n",
      "  ConvTranspose1d-36                   [-1, 64]         262,400\n",
      "             Tanh-37                   [-1, 64]               0\n",
      "  ConvTranspose1d-38                  [-1, 128]          65,664\n",
      "             Tanh-39                  [-1, 128]               0\n",
      "  ConvTranspose1d-40                  [-1, 256]          16,448\n",
      "             Tanh-41                  [-1, 256]               0\n",
      "  ConvTranspose1d-42                  [-1, 512]           4,128\n",
      "             Tanh-43                  [-1, 512]               0\n",
      "  ConvTranspose1d-44                 [-1, 1024]             130\n",
      "================================================================\n",
      "Total params: 223,717,634\n",
      "Trainable params: 223,717,634\n",
      "Non-trainable params: 0\n",
      "----------------------------------------------------------------\n",
      "Input size (MB): 0.00\n",
      "Forward/backward pass size (MB): 0.06\n",
      "Params size (MB): 853.42\n",
      "Estimated Total Size (MB): 853.48\n",
      "----------------------------------------------------------------\n"
     ]
    }
   ],
   "source": [
    "trainer.print_summary()"
   ]
  },
  {
   "cell_type": "code",
   "execution_count": 54,
   "metadata": {},
   "outputs": [
    {
     "name": "stdout",
     "output_type": "stream",
     "text": [
      "\n",
      "\\documentclass[border=8pt, multi, tikz]{standalone} \n",
      "\\usepackage{import}\n",
      "\\subimport{../layers/}{init}\n",
      "\\usetikzlibrary{positioning}\n",
      "\\usetikzlibrary{3d} %for including external image \n",
      "\n",
      "\n",
      "\\def\\ConvColor{rgb:yellow,5;red,2.5;white,5}\n",
      "\\def\\ConvReluColor{rgb:yellow,5;red,5;white,5}\n",
      "\\def\\PoolColor{rgb:red,1;black,0.3}\n",
      "\\def\\UnpoolColor{rgb:blue,2;green,1;black,0.3}\n",
      "\\def\\FcColor{rgb:blue,5;red,2.5;white,5}\n",
      "\\def\\FcReluColor{rgb:blue,5;red,5;white,4}\n",
      "\\def\\SoftmaxColor{rgb:magenta,5;black,7}   \n",
      "\\def\\SumColor{rgb:blue,5;green,15}\n",
      "\n",
      "\n",
      "\\newcommand{\\copymidarrow}{\\tikz \\draw[-Stealth,line width=0.8mm,draw={rgb:blue,4;red,1;green,1;black,3}] (-0.3,0) -- ++(0.3,0);}\n",
      "\n",
      "\\begin{document}\n",
      "\\begin{tikzpicture}\n",
      "\\tikzstyle{connection}=[ultra thick,every node/.style={sloped,allow upside down},draw=\\edgecolor,opacity=0.7]\n",
      "\\tikzstyle{copyconnection}=[ultra thick,every node/.style={sloped,allow upside down},draw={rgb:blue,4;red,1;green,1;black,3},opacity=0.7]\n",
      "\n",
      "\n",
      "\\pic[shift={(0,0,0)}] at (0,0,0) \n",
      "    {Box={\n",
      "        name=down_conv1,\n",
      "        caption= ,\n",
      "        xlabel={{32, }},\n",
      "        zlabel=3,\n",
      "        fill=\\ConvColor,\n",
      "        height=40,\n",
      "        width=2,\n",
      "        depth=50.0\n",
      "        }\n",
      "    };\n",
      "\n",
      "\n",
      "\\pic[shift={(0,0,0)}] at (down_conv1-east) \n",
      "    {Box={\n",
      "        name=tanh1,\n",
      "        caption=Tanh,\n",
      "        xlabel={{\" \",\"dummy\"}},\n",
      "        zlabel=1,\n",
      "        fill=\\SoftmaxColor,\n",
      "        opacity=0.8,\n",
      "        height=3,\n",
      "        width=1.5,\n",
      "        depth=25\n",
      "        }\n",
      "    };\n",
      "\n",
      "\n",
      "\\pic[shift={ (0,0,0) }] at (tanh1-east) \n",
      "    {Box={\n",
      "        name=pool1,\n",
      "        caption= ,\n",
      "        fill=\\PoolColor,\n",
      "        opacity=0.5,\n",
      "        height=32,\n",
      "        width=1,\n",
      "        depth=32\n",
      "        }\n",
      "    };\n",
      "\n",
      "\n",
      "\\pic[shift={(0,0,0)}] at (pool1-east) \n",
      "    {Box={\n",
      "        name=down_conv2,\n",
      "        caption= ,\n",
      "        xlabel={{64, }},\n",
      "        zlabel=3,\n",
      "        fill=\\ConvColor,\n",
      "        height=40,\n",
      "        width=2,\n",
      "        depth=60.0\n",
      "        }\n",
      "    };\n",
      "\n",
      "\n",
      "\\pic[shift={(0,0,0)}] at (down_conv2-east) \n",
      "    {Box={\n",
      "        name=tanh2,\n",
      "        caption=Tanh,\n",
      "        xlabel={{\" \",\"dummy\"}},\n",
      "        zlabel=1,\n",
      "        fill=\\SoftmaxColor,\n",
      "        opacity=0.8,\n",
      "        height=3,\n",
      "        width=1.5,\n",
      "        depth=25\n",
      "        }\n",
      "    };\n",
      "\n",
      "\n",
      "\\pic[shift={ (0,0,0) }] at (tanh2-east) \n",
      "    {Box={\n",
      "        name=pool2,\n",
      "        caption= ,\n",
      "        fill=\\PoolColor,\n",
      "        opacity=0.5,\n",
      "        height=32,\n",
      "        width=1,\n",
      "        depth=32\n",
      "        }\n",
      "    };\n",
      "\n",
      "\n",
      "\\pic[shift={(0,0,0)}] at (pool2-east) \n",
      "    {Box={\n",
      "        name=down_conv3,\n",
      "        caption= ,\n",
      "        xlabel={{128, }},\n",
      "        zlabel=3,\n",
      "        fill=\\ConvColor,\n",
      "        height=40,\n",
      "        width=2,\n",
      "        depth=70.0\n",
      "        }\n",
      "    };\n",
      "\n",
      "\n",
      "\\pic[shift={(0,0,0)}] at (down_conv3-east) \n",
      "    {Box={\n",
      "        name=tanh3,\n",
      "        caption=Tanh,\n",
      "        xlabel={{\" \",\"dummy\"}},\n",
      "        zlabel=1,\n",
      "        fill=\\SoftmaxColor,\n",
      "        opacity=0.8,\n",
      "        height=3,\n",
      "        width=1.5,\n",
      "        depth=25\n",
      "        }\n",
      "    };\n",
      "\n",
      "\n",
      "\\pic[shift={ (0,0,0) }] at (tanh3-east) \n",
      "    {Box={\n",
      "        name=pool3,\n",
      "        caption= ,\n",
      "        fill=\\PoolColor,\n",
      "        opacity=0.5,\n",
      "        height=32,\n",
      "        width=1,\n",
      "        depth=32\n",
      "        }\n",
      "    };\n",
      "\n",
      "\n",
      "\\pic[shift={(0,0,0)}] at (pool3-east) \n",
      "    {Box={\n",
      "        name=down_conv4,\n",
      "        caption= ,\n",
      "        xlabel={{256, }},\n",
      "        zlabel=3,\n",
      "        fill=\\ConvColor,\n",
      "        height=40,\n",
      "        width=2,\n",
      "        depth=80.0\n",
      "        }\n",
      "    };\n",
      "\n",
      "\n",
      "\\pic[shift={(0,0,0)}] at (down_conv4-east) \n",
      "    {Box={\n",
      "        name=tanh4,\n",
      "        caption=Tanh,\n",
      "        xlabel={{\" \",\"dummy\"}},\n",
      "        zlabel=1,\n",
      "        fill=\\SoftmaxColor,\n",
      "        opacity=0.8,\n",
      "        height=3,\n",
      "        width=1.5,\n",
      "        depth=25\n",
      "        }\n",
      "    };\n",
      "\n",
      "\n",
      "\\pic[shift={ (0,0,0) }] at (tanh4-east) \n",
      "    {Box={\n",
      "        name=pool4,\n",
      "        caption= ,\n",
      "        fill=\\PoolColor,\n",
      "        opacity=0.5,\n",
      "        height=32,\n",
      "        width=1,\n",
      "        depth=32\n",
      "        }\n",
      "    };\n",
      "\n",
      "\n",
      "\\pic[shift={(0,0,0)}] at (pool4-east) \n",
      "    {Box={\n",
      "        name=down_conv5,\n",
      "        caption= ,\n",
      "        xlabel={{512, }},\n",
      "        zlabel=3,\n",
      "        fill=\\ConvColor,\n",
      "        height=40,\n",
      "        width=2,\n",
      "        depth=90.0\n",
      "        }\n",
      "    };\n",
      "\n",
      "\n",
      "\\pic[shift={(0,0,0)}] at (down_conv5-east) \n",
      "    {Box={\n",
      "        name=tanh5,\n",
      "        caption=Tanh,\n",
      "        xlabel={{\" \",\"dummy\"}},\n",
      "        zlabel=1,\n",
      "        fill=\\SoftmaxColor,\n",
      "        opacity=0.8,\n",
      "        height=3,\n",
      "        width=1.5,\n",
      "        depth=25\n",
      "        }\n",
      "    };\n",
      "\n",
      "\n",
      "\\pic[shift={ (0,0,0) }] at (tanh5-east) \n",
      "    {Box={\n",
      "        name=pool5,\n",
      "        caption= ,\n",
      "        fill=\\PoolColor,\n",
      "        opacity=0.5,\n",
      "        height=32,\n",
      "        width=1,\n",
      "        depth=32\n",
      "        }\n",
      "    };\n",
      "\n",
      "\n",
      "\\pic[shift={(0,0,0)}] at (pool5-east) \n",
      "    {Box={\n",
      "        name=down_conv6,\n",
      "        caption= ,\n",
      "        xlabel={{1024, }},\n",
      "        zlabel=3,\n",
      "        fill=\\ConvColor,\n",
      "        height=40,\n",
      "        width=2,\n",
      "        depth=100.0\n",
      "        }\n",
      "    };\n",
      "\n",
      "\n",
      "\\pic[shift={(0,0,0)}] at (down_conv6-east) \n",
      "    {Box={\n",
      "        name=tanh6,\n",
      "        caption=Tanh,\n",
      "        xlabel={{\" \",\"dummy\"}},\n",
      "        zlabel=1,\n",
      "        fill=\\SoftmaxColor,\n",
      "        opacity=0.8,\n",
      "        height=3,\n",
      "        width=1.5,\n",
      "        depth=25\n",
      "        }\n",
      "    };\n",
      "\n",
      "\n",
      "\\pic[shift={ (0,0,0) }] at (tanh6-east) \n",
      "    {Box={\n",
      "        name=pool6,\n",
      "        caption= ,\n",
      "        fill=\\PoolColor,\n",
      "        opacity=0.5,\n",
      "        height=32,\n",
      "        width=1,\n",
      "        depth=32\n",
      "        }\n",
      "    };\n",
      "\n",
      "\n",
      "\\pic[shift={(0,0,0)}] at (pool6-east) \n",
      "    {Box={\n",
      "        name=down_conv7,\n",
      "        caption= ,\n",
      "        xlabel={{2048, }},\n",
      "        zlabel=3,\n",
      "        fill=\\ConvColor,\n",
      "        height=40,\n",
      "        width=2,\n",
      "        depth=110.0\n",
      "        }\n",
      "    };\n",
      "\n",
      "\n",
      "\\pic[shift={(0,0,0)}] at (down_conv7-east) \n",
      "    {Box={\n",
      "        name=tanh7,\n",
      "        caption=Tanh,\n",
      "        xlabel={{\" \",\"dummy\"}},\n",
      "        zlabel=1,\n",
      "        fill=\\SoftmaxColor,\n",
      "        opacity=0.8,\n",
      "        height=3,\n",
      "        width=1.5,\n",
      "        depth=25\n",
      "        }\n",
      "    };\n",
      "\n",
      "\n",
      "\\pic[shift={ (0,0,0) }] at (tanh7-east) \n",
      "    {Box={\n",
      "        name=pool7,\n",
      "        caption= ,\n",
      "        fill=\\PoolColor,\n",
      "        opacity=0.5,\n",
      "        height=32,\n",
      "        width=1,\n",
      "        depth=32\n",
      "        }\n",
      "    };\n",
      "\n",
      "\n",
      "\\pic[shift={(0,0,0)}] at (pool7-east) \n",
      "    {Box={\n",
      "        name=down_conv8,\n",
      "        caption= ,\n",
      "        xlabel={{4096, }},\n",
      "        zlabel=3,\n",
      "        fill=\\ConvColor,\n",
      "        height=40,\n",
      "        width=2,\n",
      "        depth=120.0\n",
      "        }\n",
      "    };\n",
      "\n",
      "\n",
      "\\pic[shift={(0,0,0)}] at (down_conv8-east) \n",
      "    {Box={\n",
      "        name=tanh8,\n",
      "        caption=Tanh,\n",
      "        xlabel={{\" \",\"dummy\"}},\n",
      "        zlabel=1,\n",
      "        fill=\\SoftmaxColor,\n",
      "        opacity=0.8,\n",
      "        height=3,\n",
      "        width=1.5,\n",
      "        depth=25\n",
      "        }\n",
      "    };\n",
      "\n",
      "\n",
      "\\pic[shift={ (0,0,0) }] at (tanh8-east) \n",
      "    {Box={\n",
      "        name=pool8,\n",
      "        caption= ,\n",
      "        fill=\\PoolColor,\n",
      "        opacity=0.5,\n",
      "        height=32,\n",
      "        width=1,\n",
      "        depth=32\n",
      "        }\n",
      "    };\n",
      "\n",
      "\n",
      "\\pic[shift={(0,0,0)}] at (pool8-east) \n",
      "    {Box={\n",
      "        name=down_conv9,\n",
      "        caption= ,\n",
      "        xlabel={{8192, }},\n",
      "        zlabel=3,\n",
      "        fill=\\ConvColor,\n",
      "        height=40,\n",
      "        width=2,\n",
      "        depth=130.0\n",
      "        }\n",
      "    };\n",
      "\n",
      "\n",
      "\\pic[shift={(0,0,0)}] at (down_conv9-east) \n",
      "    {Box={\n",
      "        name=tanh9,\n",
      "        caption=Tanh,\n",
      "        xlabel={{\" \",\"dummy\"}},\n",
      "        zlabel=1,\n",
      "        fill=\\SoftmaxColor,\n",
      "        opacity=0.8,\n",
      "        height=3,\n",
      "        width=1.5,\n",
      "        depth=25\n",
      "        }\n",
      "    };\n",
      "\n",
      "\n",
      "\\pic[shift={ (0,0,0) }] at (tanh9-east) \n",
      "    {Box={\n",
      "        name=pool9,\n",
      "        caption= ,\n",
      "        fill=\\PoolColor,\n",
      "        opacity=0.5,\n",
      "        height=32,\n",
      "        width=1,\n",
      "        depth=32\n",
      "        }\n",
      "    };\n",
      "\n",
      "\n",
      "\\pic[shift={(1,0,0)}] at (pool9-east) \n",
      "    {Box={\n",
      "        name=up_conv10,\n",
      "        caption= ,\n",
      "        xlabel={{4096, }},\n",
      "        zlabel=2,\n",
      "        fill=\\ConvColor,\n",
      "        height=40,\n",
      "        width=2,\n",
      "        depth=120.0\n",
      "        }\n",
      "    };\n",
      "\n",
      "\n",
      "\\draw [connection]  (down_conv9-east)    -- node {\\midarrow} (up_conv10-west);\n",
      "\n",
      "\n",
      "\\pic[shift={(0,0,0)}] at (up_conv10-east) \n",
      "    {Box={\n",
      "        name=uptanh10,\n",
      "        caption=Tanh,\n",
      "        xlabel={{\" \",\"dummy\"}},\n",
      "        zlabel=1,\n",
      "        fill=\\SoftmaxColor,\n",
      "        opacity=0.8,\n",
      "        height=3,\n",
      "        width=1.5,\n",
      "        depth=25\n",
      "        }\n",
      "    };\n",
      "\n",
      "\n",
      "\\pic[shift={(1,0,0)}] at (uptanh10-east) \n",
      "    {Box={\n",
      "        name=up_conv11,\n",
      "        caption= ,\n",
      "        xlabel={{2048, }},\n",
      "        zlabel=2,\n",
      "        fill=\\ConvColor,\n",
      "        height=40,\n",
      "        width=2,\n",
      "        depth=110.0\n",
      "        }\n",
      "    };\n",
      "\n",
      "\n",
      "\\draw [connection]  (down_conv8-east)    -- node {\\midarrow} (up_conv11-west);\n",
      "\n",
      "\n",
      "\\pic[shift={(0,0,0)}] at (up_conv11-east) \n",
      "    {Box={\n",
      "        name=uptanh11,\n",
      "        caption=Tanh,\n",
      "        xlabel={{\" \",\"dummy\"}},\n",
      "        zlabel=1,\n",
      "        fill=\\SoftmaxColor,\n",
      "        opacity=0.8,\n",
      "        height=3,\n",
      "        width=1.5,\n",
      "        depth=25\n",
      "        }\n",
      "    };\n",
      "\n",
      "\n",
      "\\pic[shift={(1,0,0)}] at (uptanh11-east) \n",
      "    {Box={\n",
      "        name=up_conv12,\n",
      "        caption= ,\n",
      "        xlabel={{1024, }},\n",
      "        zlabel=2,\n",
      "        fill=\\ConvColor,\n",
      "        height=40,\n",
      "        width=2,\n",
      "        depth=100.0\n",
      "        }\n",
      "    };\n",
      "\n",
      "\n",
      "\\draw [connection]  (down_conv7-east)    -- node {\\midarrow} (up_conv12-west);\n",
      "\n",
      "\n",
      "\\pic[shift={(0,0,0)}] at (up_conv12-east) \n",
      "    {Box={\n",
      "        name=uptanh12,\n",
      "        caption=Tanh,\n",
      "        xlabel={{\" \",\"dummy\"}},\n",
      "        zlabel=1,\n",
      "        fill=\\SoftmaxColor,\n",
      "        opacity=0.8,\n",
      "        height=3,\n",
      "        width=1.5,\n",
      "        depth=25\n",
      "        }\n",
      "    };\n",
      "\n",
      "\n",
      "\\pic[shift={(1,0,0)}] at (uptanh12-east) \n",
      "    {Box={\n",
      "        name=up_conv13,\n",
      "        caption= ,\n",
      "        xlabel={{512, }},\n",
      "        zlabel=2,\n",
      "        fill=\\ConvColor,\n",
      "        height=40,\n",
      "        width=2,\n",
      "        depth=90.0\n",
      "        }\n",
      "    };\n",
      "\n",
      "\n",
      "\\draw [connection]  (down_conv6-east)    -- node {\\midarrow} (up_conv13-west);\n",
      "\n",
      "\n",
      "\\pic[shift={(0,0,0)}] at (up_conv13-east) \n",
      "    {Box={\n",
      "        name=uptanh13,\n",
      "        caption=Tanh,\n",
      "        xlabel={{\" \",\"dummy\"}},\n",
      "        zlabel=1,\n",
      "        fill=\\SoftmaxColor,\n",
      "        opacity=0.8,\n",
      "        height=3,\n",
      "        width=1.5,\n",
      "        depth=25\n",
      "        }\n",
      "    };\n",
      "\n",
      "\n",
      "\\pic[shift={(1,0,0)}] at (uptanh13-east) \n",
      "    {Box={\n",
      "        name=up_conv14,\n",
      "        caption= ,\n",
      "        xlabel={{256, }},\n",
      "        zlabel=2,\n",
      "        fill=\\ConvColor,\n",
      "        height=40,\n",
      "        width=2,\n",
      "        depth=80.0\n",
      "        }\n",
      "    };\n",
      "\n",
      "\n",
      "\\draw [connection]  (down_conv5-east)    -- node {\\midarrow} (up_conv14-west);\n",
      "\n",
      "\n",
      "\\pic[shift={(0,0,0)}] at (up_conv14-east) \n",
      "    {Box={\n",
      "        name=uptanh14,\n",
      "        caption=Tanh,\n",
      "        xlabel={{\" \",\"dummy\"}},\n",
      "        zlabel=1,\n",
      "        fill=\\SoftmaxColor,\n",
      "        opacity=0.8,\n",
      "        height=3,\n",
      "        width=1.5,\n",
      "        depth=25\n",
      "        }\n",
      "    };\n",
      "\n",
      "\n",
      "\\pic[shift={(1,0,0)}] at (uptanh14-east) \n",
      "    {Box={\n",
      "        name=up_conv15,\n",
      "        caption= ,\n",
      "        xlabel={{128, }},\n",
      "        zlabel=2,\n",
      "        fill=\\ConvColor,\n",
      "        height=40,\n",
      "        width=2,\n",
      "        depth=70.0\n",
      "        }\n",
      "    };\n",
      "\n",
      "\n",
      "\\draw [connection]  (down_conv4-east)    -- node {\\midarrow} (up_conv15-west);\n",
      "\n",
      "\n",
      "\\pic[shift={(0,0,0)}] at (up_conv15-east) \n",
      "    {Box={\n",
      "        name=uptanh15,\n",
      "        caption=Tanh,\n",
      "        xlabel={{\" \",\"dummy\"}},\n",
      "        zlabel=1,\n",
      "        fill=\\SoftmaxColor,\n",
      "        opacity=0.8,\n",
      "        height=3,\n",
      "        width=1.5,\n",
      "        depth=25\n",
      "        }\n",
      "    };\n",
      "\n",
      "\n",
      "\\pic[shift={(1,0,0)}] at (uptanh15-east) \n",
      "    {Box={\n",
      "        name=up_conv16,\n",
      "        caption= ,\n",
      "        xlabel={{64, }},\n",
      "        zlabel=2,\n",
      "        fill=\\ConvColor,\n",
      "        height=40,\n",
      "        width=2,\n",
      "        depth=60.0\n",
      "        }\n",
      "    };\n",
      "\n",
      "\n",
      "\\draw [connection]  (down_conv3-east)    -- node {\\midarrow} (up_conv16-west);\n",
      "\n",
      "\n",
      "\\pic[shift={(0,0,0)}] at (up_conv16-east) \n",
      "    {Box={\n",
      "        name=uptanh16,\n",
      "        caption=Tanh,\n",
      "        xlabel={{\" \",\"dummy\"}},\n",
      "        zlabel=1,\n",
      "        fill=\\SoftmaxColor,\n",
      "        opacity=0.8,\n",
      "        height=3,\n",
      "        width=1.5,\n",
      "        depth=25\n",
      "        }\n",
      "    };\n",
      "\n",
      "\n",
      "\\pic[shift={(1,0,0)}] at (uptanh16-east) \n",
      "    {Box={\n",
      "        name=up_conv17,\n",
      "        caption= ,\n",
      "        xlabel={{32, }},\n",
      "        zlabel=2,\n",
      "        fill=\\ConvColor,\n",
      "        height=40,\n",
      "        width=2,\n",
      "        depth=50.0\n",
      "        }\n",
      "    };\n",
      "\n",
      "\n",
      "\\draw [connection]  (down_conv2-east)    -- node {\\midarrow} (up_conv17-west);\n",
      "\n",
      "\n",
      "\\pic[shift={(0,0,0)}] at (up_conv17-east) \n",
      "    {Box={\n",
      "        name=uptanh17,\n",
      "        caption=Tanh,\n",
      "        xlabel={{\" \",\"dummy\"}},\n",
      "        zlabel=1,\n",
      "        fill=\\SoftmaxColor,\n",
      "        opacity=0.8,\n",
      "        height=3,\n",
      "        width=1.5,\n",
      "        depth=25\n",
      "        }\n",
      "    };\n",
      "\n",
      "\n",
      "\\pic[shift={(1,0,0)}] at (uptanh17-east) \n",
      "    {Box={\n",
      "        name=up_conv18,\n",
      "        caption= ,\n",
      "        xlabel={{2, }},\n",
      "        zlabel=2,\n",
      "        fill=\\ConvColor,\n",
      "        height=40,\n",
      "        width=2,\n",
      "        depth=10.0\n",
      "        }\n",
      "    };\n",
      "\n",
      "\n",
      "\\draw [connection]  (down_conv1-east)    -- node {\\midarrow} (up_conv18-west);\n",
      "\n",
      "\n",
      "\\pic[shift={(0,0,0)}] at (up_conv18-east) \n",
      "    {Box={\n",
      "        name=uptanh18,\n",
      "        caption=Tanh,\n",
      "        xlabel={{\" \",\"dummy\"}},\n",
      "        zlabel=1,\n",
      "        fill=\\SoftmaxColor,\n",
      "        opacity=0.8,\n",
      "        height=3,\n",
      "        width=1.5,\n",
      "        depth=25\n",
      "        }\n",
      "    };\n",
      "\n",
      "\n",
      "\\end{tikzpicture}\n",
      "\\end{document}\n",
      "\n"
     ]
    }
   ],
   "source": [
    "# plot architecture\n",
    "model = trainer.model\n",
    "rx, tx, pred = trainer.get_single_item(0, format='torch')\n",
    "\n",
    "# method1\n",
    "# from IPython.display import Image\n",
    "# path = f'{trained_model_path}/_analyze/architecture'\n",
    "# trainer.plot_architecture(path)\n",
    "\n",
    "\n",
    "\n",
    "# method2\n",
    "# import torch\n",
    "# from torch import nn\n",
    "# from torchviz import make_dot\n",
    "\n",
    "# make_dot(model(rx), params=dict(model.named_parameters()))\n",
    "\n",
    "\n",
    "# method3\n",
    "# import visualkeras\n",
    "\n",
    "\n",
    "# visualkeras.layered_view(model).show() # display using your system viewer\n",
    "# visualkeras.layered_view(model, to_file='output.png') # write to disk\n",
    "# visualkeras.layered_view(model, to_file='output.png').show() # write and show\n",
    "\n",
    "# visualkeras.layered_view(model)\n",
    "\n",
    "# method4\n",
    "from lib.packages.PlotNeuralNet.pycore.tikzeng import *\n",
    "\n",
    "# example\n",
    "# arch = [\n",
    "#     to_head( '..' ),\n",
    "#     to_cor(),\n",
    "#     to_begin(),\n",
    "#     to_Conv(\"conv1\", 512, 64, offset=\"(0,0,0)\", to=\"(0,0,0)\", height=64, depth=64, width=2 ),\n",
    "#     to_Pool(\"pool1\", offset=\"(0,0,0)\", to=\"(conv1-east)\"),\n",
    "#     to_Conv(\"conv2\", 128, 64, offset=\"(1,0,0)\", to=\"(pool1-east)\", height=32, depth=32, width=2 ),\n",
    "#     to_connection( \"pool1\", \"conv2\"),\n",
    "#     to_Pool(\"pool2\", offset=\"(0,0,0)\", to=\"(conv2-east)\", height=28, depth=28, width=1),\n",
    "#     to_SoftMax(\"soft1\", 10 ,\"(3,0,0)\", \"(pool1-east)\", caption=\"SOFT\"  ),\n",
    "#     to_connection(\"pool2\", \"soft1\"),\n",
    "#     to_end()\n",
    "#     ]\n",
    "\n",
    "# namefile = 'example_architecture.tex'\n",
    "# to_generate(arch, namefile)\n",
    "\n",
    "# my code\n",
    "arch = []\n",
    "\n",
    "arch.append(to_head('..'))\n",
    "arch.append(to_cor())\n",
    "arch.append(to_begin())\n",
    "\n",
    "# Assuming the height and width are constant for visual representation\n",
    "layer_height = 40\n",
    "layer_width = 2\n",
    "\n",
    "# Starting position for the first layer\n",
    "prev_layer = \"(0,0,0)\"\n",
    "import math\n",
    "def calculate_visual_depth(num_channels, scale_factor=10, min_depth=3):\n",
    "    # Apply a logarithmic scale with base 2, multiply by a scaling factor, and ensure a minimum depth\n",
    "    return max(min_depth, scale_factor * math.log2(num_channels))\n",
    "\n",
    "\n",
    "# Iterate over down_convs\n",
    "for i, (down_conv, pool, tanh) in enumerate(zip(model.down_convs, model.pools, model.tanhs), 1):\n",
    "    conv_name = f\"down_conv{i}\"\n",
    "    pool_name = f\"pool{i}\"\n",
    "    tanh_name = f\"tanh{i}\"\n",
    "\n",
    "    # Set the depth based on the number of out_channels for down_convs\n",
    "    layer_depth = calculate_visual_depth(down_conv.out_channels)\n",
    "\n",
    "    # Downward convolutional layer\n",
    "    arch.append(to_Conv(conv_name, s_filer=3, n_filer=down_conv.out_channels, offset=\"(0,0,0)\", to=prev_layer, height=layer_height, depth=layer_depth, width=layer_width))\n",
    "    prev_layer = f\"({conv_name}-east)\"  # Update the prev_layer to the east of the current layer\n",
    "\n",
    "    # Tanh activation layer\n",
    "    arch.append(to_SoftMax(tanh_name, 1, offset=\"(0,0,0)\", to=prev_layer, caption=\"Tanh\"))\n",
    "    prev_layer = f\"({tanh_name}-east)\"\n",
    "\n",
    "    # Pooling layer\n",
    "    arch.append(to_Pool(pool_name, offset=\"(0,0,0)\", to=prev_layer))\n",
    "    prev_layer = f\"({pool_name}-east)\"\n",
    "\n",
    "# Now add the upward convolutional layers\n",
    "for i, (up_conv, uptanh) in enumerate(zip(model.up_convs, model.uptanhs), 1):\n",
    "    up_conv_name = f\"up_conv{i+len(model.up_convs)}\"\n",
    "    uptanh_name = f\"uptanh{i+len(model.uptanhs)}\"\n",
    "\n",
    "    # Set the depth based on the number of out_channels for up_convs\n",
    "    layer_depth = calculate_visual_depth(up_conv.out_channels)\n",
    "\n",
    "    # Upward convolutional layer\n",
    "    arch.append(to_Conv(up_conv_name, s_filer=2, n_filer=up_conv.out_channels, offset=\"(1,0,0)\", to=prev_layer, height=layer_height, depth=layer_depth, width=layer_width))\n",
    "    prev_layer = f\"({up_conv_name}-east)\"  # Update the prev_layer to the east of the current layer\n",
    "\n",
    "    # Skip connection from the corresponding down_conv layer to the current up_conv layer\n",
    "    down_conv_name = f\"down_conv{len(model.down_convs)-i+1}\"\n",
    "    arch.append(to_connection(down_conv_name, up_conv_name))\n",
    "\n",
    "    # Tanh activation layer for up_convs\n",
    "    arch.append(to_SoftMax(uptanh_name, 1, offset=\"(0,0,0)\", to=prev_layer, caption=\"Tanh\"))\n",
    "    prev_layer = f\"({uptanh_name}-east)\"\n",
    "\n",
    "arch.append(to_end())\n",
    "\n",
    "namefile = 'my_architecture.tex'\n",
    "to_generate(arch, namefile)\n"
   ]
  },
  {
   "cell_type": "code",
   "execution_count": 55,
   "metadata": {},
   "outputs": [
    {
     "name": "stdout",
     "output_type": "stream",
     "text": [
      "x0.shape: torch.Size([2, 1024])\n",
      "going down\n",
      "x1.shape (conv): torch.Size([32, 1024])\n",
      "x1.shape (pool): torch.Size([32, 512])\n",
      "x2.shape (conv): torch.Size([64, 512])\n",
      "x2.shape (pool): torch.Size([64, 256])\n",
      "x3.shape (conv): torch.Size([128, 256])\n",
      "x3.shape (pool): torch.Size([128, 128])\n",
      "x4.shape (conv): torch.Size([256, 128])\n",
      "x4.shape (pool): torch.Size([256, 64])\n",
      "x5.shape (conv): torch.Size([512, 64])\n",
      "x5.shape (pool): torch.Size([512, 32])\n",
      "x6.shape (conv): torch.Size([1024, 32])\n",
      "x6.shape (pool): torch.Size([1024, 16])\n",
      "x7.shape (conv): torch.Size([2048, 16])\n",
      "x7.shape (pool): torch.Size([2048, 8])\n",
      "x8.shape (conv): torch.Size([4096, 8])\n",
      "x8.shape (pool): torch.Size([4096, 4])\n",
      "x9.shape (conv): torch.Size([8192, 4])\n",
      "x9.shape (pool): torch.Size([8192, 2])\n",
      "going up\n",
      "x9.shape: torch.Size([4096, 4])\n",
      "x8.shape: torch.Size([2048, 8])\n",
      "x7.shape: torch.Size([1024, 16])\n",
      "x6.shape: torch.Size([512, 32])\n",
      "x5.shape: torch.Size([256, 64])\n",
      "x4.shape: torch.Size([128, 128])\n",
      "x3.shape: torch.Size([64, 256])\n",
      "x2.shape: torch.Size([32, 512])\n",
      "x1.shape: torch.Size([2, 1024])\n"
     ]
    }
   ],
   "source": [
    "# lets draw the dimension of the signal at each layer\n",
    "x0 = trainer.train_dataset[0][0].to(trainer.device)\n",
    "print(f\"x0.shape: {x0.shape}\")\n",
    "\n",
    "# going down\n",
    "print('going down')\n",
    "for i, down_conv in enumerate(model.down_convs):\n",
    "    x0 = down_conv(x0)\n",
    "    x0 = model.tanhs[i](x0)\n",
    "    print(f\"x{i+1}.shape (conv): {x0.shape}\")\n",
    "    x0 = model.pools[i](x0)\n",
    "    print(f\"x{i+1}.shape (pool): {x0.shape}\")\n",
    "\n",
    "# now going up\n",
    "print('going up')\n",
    "for i, up_conv in enumerate(model.up_convs):\n",
    "    x0 = up_conv(x0)\n",
    "    x0 = model.uptanhs[i](x0)\n",
    "    print(f\"x{len(model.down_convs)-i}.shape: {x0.shape}\")\n",
    "\n"
   ]
  },
  {
   "cell_type": "code",
   "execution_count": 56,
   "metadata": {},
   "outputs": [
    {
     "name": "stdout",
     "output_type": "stream",
     "text": [
      "my_architecture.tex\n"
     ]
    }
   ],
   "source": [
    "print(namefile)"
   ]
  },
  {
   "cell_type": "code",
   "execution_count": 57,
   "metadata": {},
   "outputs": [
    {
     "name": "stdout",
     "output_type": "stream",
     "text": [
      "9000\n"
     ]
    }
   ],
   "source": [
    "print(len(trainer.val_dataset))"
   ]
  },
  {
   "cell_type": "code",
   "execution_count": 58,
   "metadata": {},
   "outputs": [],
   "source": [
    "#pretty print ds config\n",
    "\n",
    "\n",
    "# Visualizer.print_config(trainer.val_dataset.config)"
   ]
  },
  {
   "attachments": {},
   "cell_type": "markdown",
   "metadata": {},
   "source": [
    "# analyze 1 sample"
   ]
  },
  {
   "cell_type": "code",
   "execution_count": 59,
   "metadata": {},
   "outputs": [
    {
     "name": "stdout",
     "output_type": "stream",
     "text": [
      "c\n"
     ]
    }
   ],
   "source": [
    "print(ma.cs_in.channel_config.io_type)"
   ]
  },
  {
   "cell_type": "code",
   "execution_count": 60,
   "metadata": {},
   "outputs": [],
   "source": [
    "# ma.plot_single_item(1)\n",
    "# N = ma.cs_in.channel_config.Ns\n",
    "# N = ma.cs_in.channel_config.N_sc\n",
    "# ma.cs_in.channel_config.io_type\n",
    "# ma.plot_single_item_together(i=1, zm_indices=range(N//2,N//2+50))"
   ]
  },
  {
   "cell_type": "code",
   "execution_count": 61,
   "metadata": {},
   "outputs": [
    {
     "data": {
      "image/png": "[encoded data removed]",
      "text/plain": [
       "<Figure size 1100x400 with 3 Axes>"
      ]
     },
     "metadata": {},
     "output_type": "display_data"
    }
   ],
   "source": [
    "ma.plot_stems(i=1, zm_indices=range(0,50))"
   ]
  },
  {
   "attachments": {},
   "cell_type": "markdown",
   "metadata": {},
   "source": [
    "# analyze constelation"
   ]
  },
  {
   "cell_type": "code",
   "execution_count": 62,
   "metadata": {},
   "outputs": [
    {
     "data": {
      "application/vnd.jupyter.widget-view+json": {
       "model_id": "5f8dd7e3ecbf4a24a9f96a60401a3a3e",
       "version_major": 2,
       "version_minor": 0
      },
      "text/plain": [
       "  0%|          | 0/150 [00:00<?, ?it/s]"
      ]
     },
     "metadata": {},
     "output_type": "display_data"
    },
    {
     "data": {
      "image/png": "[encoded data removed]",
      "text/plain": [
       "<Figure size 600x400 with 1 Axes>"
      ]
     },
     "metadata": {},
     "output_type": "display_data"
    }
   ],
   "source": [
    "ma.plot_constelation(range(0,150), colors=['orange', 'purple', 'lightgreen'], is_annotate=False)"
   ]
  },
  {
   "cell_type": "code",
   "execution_count": 63,
   "metadata": {},
   "outputs": [],
   "source": [
    "# x_power_i, y_power, pred_power = ma.calc_norms(_tqdm=tqdm, verbose_level=1, max_items=10000)\n",
    "# print(f'x_power: {x_power_i}\\ny_power: {y_power}\\npred_power: {pred_power}')"
   ]
  },
  {
   "cell_type": "code",
   "execution_count": 64,
   "metadata": {},
   "outputs": [],
   "source": [
    "# ma.upload_single_item_plots_to_wandb(1)"
   ]
  },
  {
   "cell_type": "code",
   "execution_count": 65,
   "metadata": {},
   "outputs": [
    {
     "data": {
      "application/vnd.jupyter.widget-view+json": {
       "model_id": "46e67fb1b8454f3ab0cab20c6027331d",
       "version_major": 2,
       "version_minor": 0
      },
      "text/plain": [
       "  0%|          | 0/50 [00:00<?, ?it/s]"
      ]
     },
     "metadata": {},
     "output_type": "display_data"
    },
    {
     "name": "stdout",
     "output_type": "stream",
     "text": [
      "the original avg ber (of validation set) is 0.009580078125\n"
     ]
    },
    {
     "data": {
      "application/vnd.jupyter.widget-view+json": {
       "model_id": "e8945897272f450796a976468eea9300",
       "version_major": 2,
       "version_minor": 0
      },
      "text/plain": [
       "  0%|          | 0/50 [00:00<?, ?it/s]"
      ]
     },
     "metadata": {},
     "output_type": "display_data"
    },
    {
     "name": "stdout",
     "output_type": "stream",
     "text": [
      "the trained avg ber (of validation set) is 0.002119140625\n",
      "the ber improvement is 77.88%\n"
     ]
    }
   ],
   "source": [
    "ma.plot_bers(_tqdm=tqdm, verbose_level=1,num_x_per_folder=50)"
   ]
  },
  {
   "cell_type": "code",
   "execution_count": 66,
   "metadata": {},
   "outputs": [
    {
     "name": "stdout",
     "output_type": "stream",
     "text": [
      "the original avg ber (of validation set) is 0.009358208550347222\n"
     ]
    },
    {
     "ename": "KeyboardInterrupt",
     "evalue": "",
     "output_type": "error",
     "traceback": [
      "\u001b[0;31m---------------------------------------------------------------------------\u001b[0m",
      "\u001b[0;31mKeyboardInterrupt\u001b[0m                         Traceback (most recent call last)",
      "\u001b[1;32m/home/yarcoh/projects/thesis-code4/apps/deep/model_analyzers/model_analyzer.ipynb Cell 27\u001b[0m line \u001b[0;36m1\n\u001b[0;32m----> <a href='vscode-notebook-cell://ssh-remote%2Bstas_new/home/yarcoh/projects/thesis-code4/apps/deep/model_analyzers/model_analyzer.ipynb#X35sdnNjb2RlLXJlbW90ZQ%3D%3D?line=0'>1</a>\u001b[0m ma\u001b[39m.\u001b[39;49mupload_bers_to_wandb()\n",
      "File \u001b[0;32m~/projects/thesis-code4/src/deep/model_analyzer_src.py:140\u001b[0m, in \u001b[0;36mModelAnalyzer.upload_bers_to_wandb\u001b[0;34m(self, verbose)\u001b[0m\n\u001b[1;32m    139\u001b[0m \u001b[39mdef\u001b[39;00m \u001b[39mupload_bers_to_wandb\u001b[39m(\u001b[39mself\u001b[39m, verbose\u001b[39m=\u001b[39m\u001b[39mFalse\u001b[39;00m):\n\u001b[0;32m--> 140\u001b[0m     org_ber, model_ber, ber_improvement \u001b[39m=\u001b[39m \u001b[39mself\u001b[39;49m\u001b[39m.\u001b[39;49mtrainer\u001b[39m.\u001b[39;49mcompare_ber()\n\u001b[1;32m    141\u001b[0m     \u001b[39mself\u001b[39m\u001b[39m.\u001b[39m_init_wandb()\n\u001b[1;32m    142\u001b[0m     wandb\u001b[39m.\u001b[39mlog({\u001b[39m'\u001b[39m\u001b[39morg_ber\u001b[39m\u001b[39m'\u001b[39m: org_ber, \u001b[39m'\u001b[39m\u001b[39mmodel_ber\u001b[39m\u001b[39m'\u001b[39m: model_ber, \u001b[39m'\u001b[39m\u001b[39mber_improvement\u001b[39m\u001b[39m'\u001b[39m: ber_improvement})\n",
      "File \u001b[0;32m~/projects/thesis-code4/src/deep/trainers.py:223\u001b[0m, in \u001b[0;36mTrainer.compare_ber\u001b[0;34m(self, verbose_level, _tqdm, num_x_per_folder)\u001b[0m\n\u001b[1;32m    220\u001b[0m     \u001b[39mprint\u001b[39m(\u001b[39mf\u001b[39m\u001b[39m\"\u001b[39m\u001b[39mthe original avg ber (of validation set) is \u001b[39m\u001b[39m{\u001b[39;00morg_ber\u001b[39m}\u001b[39;00m\u001b[39m\"\u001b[39m)\n\u001b[1;32m    222\u001b[0m \u001b[39m# calc ber after training\u001b[39;00m\n\u001b[0;32m--> 223\u001b[0m ber_vec, num_errors \u001b[39m=\u001b[39m Metrics\u001b[39m.\u001b[39;49mcalc_ber_from_model(\n\u001b[1;32m    224\u001b[0m     \u001b[39mself\u001b[39;49m\u001b[39m.\u001b[39;49mval_dataset, \u001b[39mself\u001b[39;49m\u001b[39m.\u001b[39;49mmodel, verbose_level \u001b[39m>\u001b[39;49m\u001b[39m=\u001b[39;49m \u001b[39m2\u001b[39;49m, _tqdm, num_x_per_folder, \u001b[39mself\u001b[39;49m\u001b[39m.\u001b[39;49mdevice,)\n\u001b[1;32m    225\u001b[0m model_ber \u001b[39m=\u001b[39m np\u001b[39m.\u001b[39mmean(ber_vec)\n\u001b[1;32m    226\u001b[0m \u001b[39mif\u001b[39;00m verbose_level \u001b[39m>\u001b[39m\u001b[39m=\u001b[39m \u001b[39m1\u001b[39m:\n",
      "File \u001b[0;32m~/projects/thesis-code4/src/deep/metrics.py:83\u001b[0m, in \u001b[0;36mMetrics.calc_ber_from_model\u001b[0;34m(dataset, model, verbose, _tqdm, max_x, device)\u001b[0m\n\u001b[1;32m     81\u001b[0m Rx \u001b[39m=\u001b[39m Rx\u001b[39m.\u001b[39mto(device)\n\u001b[1;32m     82\u001b[0m Rx \u001b[39m=\u001b[39m Rx\u001b[39m.\u001b[39munsqueeze(\u001b[39m0\u001b[39m)  \u001b[39m# when fetching directly from dataset we need to wrap like dataloader does as 1x1xN\u001b[39;00m\n\u001b[0;32m---> 83\u001b[0m pred_Tx \u001b[39m=\u001b[39m model(Rx)\n\u001b[1;32m     84\u001b[0m pred_Tx \u001b[39m=\u001b[39m pred_Tx\u001b[39m.\u001b[39msqueeze(\u001b[39m0\u001b[39m)\n\u001b[1;32m     85\u001b[0m ber_i, num_errors_i \u001b[39m=\u001b[39m Metrics\u001b[39m.\u001b[39mcalc_ber_for_single_vec(pred_Tx, Tx, cs_in, cs_out)\n",
      "File \u001b[0;32m~/miniconda3/envs/thesis-code/lib/python3.10/site-packages/torch/nn/modules/module.py:1130\u001b[0m, in \u001b[0;36mModule._call_impl\u001b[0;34m(self, *input, **kwargs)\u001b[0m\n\u001b[1;32m   1126\u001b[0m \u001b[39m# If we don't have any hooks, we want to skip the rest of the logic in\u001b[39;00m\n\u001b[1;32m   1127\u001b[0m \u001b[39m# this function, and just call forward.\u001b[39;00m\n\u001b[1;32m   1128\u001b[0m \u001b[39mif\u001b[39;00m \u001b[39mnot\u001b[39;00m (\u001b[39mself\u001b[39m\u001b[39m.\u001b[39m_backward_hooks \u001b[39mor\u001b[39;00m \u001b[39mself\u001b[39m\u001b[39m.\u001b[39m_forward_hooks \u001b[39mor\u001b[39;00m \u001b[39mself\u001b[39m\u001b[39m.\u001b[39m_forward_pre_hooks \u001b[39mor\u001b[39;00m _global_backward_hooks\n\u001b[1;32m   1129\u001b[0m         \u001b[39mor\u001b[39;00m _global_forward_hooks \u001b[39mor\u001b[39;00m _global_forward_pre_hooks):\n\u001b[0;32m-> 1130\u001b[0m     \u001b[39mreturn\u001b[39;00m forward_call(\u001b[39m*\u001b[39;49m\u001b[39minput\u001b[39;49m, \u001b[39m*\u001b[39;49m\u001b[39m*\u001b[39;49mkwargs)\n\u001b[1;32m   1131\u001b[0m \u001b[39m# Do not call functions when jit is used\u001b[39;00m\n\u001b[1;32m   1132\u001b[0m full_backward_hooks, non_full_backward_hooks \u001b[39m=\u001b[39m [], []\n",
      "File \u001b[0;32m~/projects/thesis-code4/src/deep/models/unet_v5.py:65\u001b[0m, in \u001b[0;36mUnetV5.forward\u001b[0;34m(self, x)\u001b[0m\n\u001b[1;32m     62\u001b[0m     xs\u001b[39m.\u001b[39mappend(x) \u001b[39m# [M, N/2], [M*2, N/4], [M*4, N/8]...\u001b[39;00m\n\u001b[1;32m     64\u001b[0m \u001b[39mfor\u001b[39;00m i, (upconv, uptanh) \u001b[39min\u001b[39;00m \u001b[39menumerate\u001b[39m(\u001b[39mzip\u001b[39m(\u001b[39mself\u001b[39m\u001b[39m.\u001b[39mup_convs, \u001b[39mself\u001b[39m\u001b[39m.\u001b[39muptanhs)):\n\u001b[0;32m---> 65\u001b[0m     x \u001b[39m=\u001b[39m upconv(x)\n\u001b[1;32m     66\u001b[0m     \u001b[39mif\u001b[39;00m i \u001b[39m<\u001b[39m \u001b[39mlen\u001b[39m(\u001b[39mself\u001b[39m\u001b[39m.\u001b[39mup_convs) \u001b[39m-\u001b[39m \u001b[39m1\u001b[39m:  \u001b[39m# no addition for the last layer\u001b[39;00m\n\u001b[1;32m     67\u001b[0m         x \u001b[39m=\u001b[39m x \u001b[39m+\u001b[39m xs[\u001b[39m-\u001b[39m(i\u001b[39m+\u001b[39m\u001b[39m2\u001b[39m)]\n",
      "File \u001b[0;32m~/miniconda3/envs/thesis-code/lib/python3.10/site-packages/torch/nn/modules/module.py:1130\u001b[0m, in \u001b[0;36mModule._call_impl\u001b[0;34m(self, *input, **kwargs)\u001b[0m\n\u001b[1;32m   1126\u001b[0m \u001b[39m# If we don't have any hooks, we want to skip the rest of the logic in\u001b[39;00m\n\u001b[1;32m   1127\u001b[0m \u001b[39m# this function, and just call forward.\u001b[39;00m\n\u001b[1;32m   1128\u001b[0m \u001b[39mif\u001b[39;00m \u001b[39mnot\u001b[39;00m (\u001b[39mself\u001b[39m\u001b[39m.\u001b[39m_backward_hooks \u001b[39mor\u001b[39;00m \u001b[39mself\u001b[39m\u001b[39m.\u001b[39m_forward_hooks \u001b[39mor\u001b[39;00m \u001b[39mself\u001b[39m\u001b[39m.\u001b[39m_forward_pre_hooks \u001b[39mor\u001b[39;00m _global_backward_hooks\n\u001b[1;32m   1129\u001b[0m         \u001b[39mor\u001b[39;00m _global_forward_hooks \u001b[39mor\u001b[39;00m _global_forward_pre_hooks):\n\u001b[0;32m-> 1130\u001b[0m     \u001b[39mreturn\u001b[39;00m forward_call(\u001b[39m*\u001b[39;49m\u001b[39minput\u001b[39;49m, \u001b[39m*\u001b[39;49m\u001b[39m*\u001b[39;49mkwargs)\n\u001b[1;32m   1131\u001b[0m \u001b[39m# Do not call functions when jit is used\u001b[39;00m\n\u001b[1;32m   1132\u001b[0m full_backward_hooks, non_full_backward_hooks \u001b[39m=\u001b[39m [], []\n",
      "File \u001b[0;32m~/miniconda3/envs/thesis-code/lib/python3.10/site-packages/torch/nn/modules/conv.py:795\u001b[0m, in \u001b[0;36mConvTranspose1d.forward\u001b[0;34m(self, input, output_size)\u001b[0m\n\u001b[1;32m    791\u001b[0m num_spatial_dims \u001b[39m=\u001b[39m \u001b[39m1\u001b[39m\n\u001b[1;32m    792\u001b[0m output_padding \u001b[39m=\u001b[39m \u001b[39mself\u001b[39m\u001b[39m.\u001b[39m_output_padding(\n\u001b[1;32m    793\u001b[0m     \u001b[39minput\u001b[39m, output_size, \u001b[39mself\u001b[39m\u001b[39m.\u001b[39mstride, \u001b[39mself\u001b[39m\u001b[39m.\u001b[39mpadding, \u001b[39mself\u001b[39m\u001b[39m.\u001b[39mkernel_size,  \u001b[39m# type: ignore[arg-type]\u001b[39;00m\n\u001b[1;32m    794\u001b[0m     num_spatial_dims, \u001b[39mself\u001b[39m\u001b[39m.\u001b[39mdilation)  \u001b[39m# type: ignore[arg-type]\u001b[39;00m\n\u001b[0;32m--> 795\u001b[0m \u001b[39mreturn\u001b[39;00m F\u001b[39m.\u001b[39;49mconv_transpose1d(\n\u001b[1;32m    796\u001b[0m     \u001b[39minput\u001b[39;49m, \u001b[39mself\u001b[39;49m\u001b[39m.\u001b[39;49mweight, \u001b[39mself\u001b[39;49m\u001b[39m.\u001b[39;49mbias, \u001b[39mself\u001b[39;49m\u001b[39m.\u001b[39;49mstride, \u001b[39mself\u001b[39;49m\u001b[39m.\u001b[39;49mpadding,\n\u001b[1;32m    797\u001b[0m     output_padding, \u001b[39mself\u001b[39;49m\u001b[39m.\u001b[39;49mgroups, \u001b[39mself\u001b[39;49m\u001b[39m.\u001b[39;49mdilation)\n",
      "\u001b[0;31mKeyboardInterrupt\u001b[0m: "
     ]
    }
   ],
   "source": [
    "ma.upload_bers_to_wandb()"
   ]
  },
  {
   "attachments": {},
   "cell_type": "markdown",
   "metadata": {},
   "source": [
    "# test all BERs"
   ]
  },
  {
   "cell_type": "code",
   "execution_count": null,
   "metadata": {},
   "outputs": [],
   "source": [
    "# add powers\n",
    "\n",
    "# from apps.deep.power_adder import PowerAdder\n",
    "\n",
    "\n",
    "# power_adder = PowerAdder(is_overright=True, verbose_level=2)\n",
    "# power_adder.calculate_and_add_powers(main_ds_path)\n",
    "# power_adder.replace_key_in_config_files(main_ds_path)"
   ]
  },
  {
   "cell_type": "code",
   "execution_count": 71,
   "metadata": {},
   "outputs": [
    {
     "data": {
      "application/vnd.jupyter.widget-view+json": {
       "model_id": "8d711c87b4b5492ea86ca758a0092651",
       "version_major": 2,
       "version_minor": 0
      },
      "text/plain": [
       "  0%|          | 0/15000 [00:00<?, ?it/s]"
      ]
     },
     "metadata": {},
     "output_type": "display_data"
    },
    {
     "data": {
      "application/vnd.jupyter.widget-view+json": {
       "model_id": "2de7314490f84b8599ffd928a94acedd",
       "version_major": 2,
       "version_minor": 0
      },
      "text/plain": [
       "  0%|          | 0/15000 [00:00<?, ?it/s]"
      ]
     },
     "metadata": {},
     "output_type": "display_data"
    },
    {
     "name": "stdout",
     "output_type": "stream",
     "text": [
      "mu=0.100 | org_ber=5.69e-03 | model_ber=2.30e-02 |  ber_improve=-304%\n"
     ]
    },
    {
     "data": {
      "application/vnd.jupyter.widget-view+json": {
       "model_id": "de8fd6e0849148778d9d1a7d92eaa4b8",
       "version_major": 2,
       "version_minor": 0
      },
      "text/plain": [
       "  0%|          | 0/15000 [00:00<?, ?it/s]"
      ]
     },
     "metadata": {},
     "output_type": "display_data"
    },
    {
     "data": {
      "application/vnd.jupyter.widget-view+json": {
       "model_id": "2d5bf5bf0b2a4d99aff2be55ebdb1314",
       "version_major": 2,
       "version_minor": 0
      },
      "text/plain": [
       "  0%|          | 0/15000 [00:00<?, ?it/s]"
      ]
     },
     "metadata": {},
     "output_type": "display_data"
    },
    {
     "name": "stdout",
     "output_type": "stream",
     "text": [
      "mu=0.140 | org_ber=2.51e-04 | model_ber=8.63e-03 |  ber_improve=-3343%\n"
     ]
    },
    {
     "data": {
      "application/vnd.jupyter.widget-view+json": {
       "model_id": "2ee92c633c204745975da81053e62f46",
       "version_major": 2,
       "version_minor": 0
      },
      "text/plain": [
       "  0%|          | 0/15000 [00:00<?, ?it/s]"
      ]
     },
     "metadata": {},
     "output_type": "display_data"
    },
    {
     "data": {
      "application/vnd.jupyter.widget-view+json": {
       "model_id": "bfc06faaf96744928a6ad6c08390313a",
       "version_major": 2,
       "version_minor": 0
      },
      "text/plain": [
       "  0%|          | 0/15000 [00:00<?, ?it/s]"
      ]
     },
     "metadata": {},
     "output_type": "display_data"
    },
    {
     "name": "stdout",
     "output_type": "stream",
     "text": [
      "mu=0.170 | org_ber=1.95e-06 | model_ber=3.38e-03 |  ber_improve=-172940%\n"
     ]
    },
    {
     "data": {
      "application/vnd.jupyter.widget-view+json": {
       "model_id": "fda770033a464a028e41e7edffb82265",
       "version_major": 2,
       "version_minor": 0
      },
      "text/plain": [
       "  0%|          | 0/15000 [00:00<?, ?it/s]"
      ]
     },
     "metadata": {},
     "output_type": "display_data"
    },
    {
     "data": {
      "application/vnd.jupyter.widget-view+json": {
       "model_id": "03b8f7d60dad406786849d95c8e1239d",
       "version_major": 2,
       "version_minor": 0
      },
      "text/plain": [
       "  0%|          | 0/15000 [00:00<?, ?it/s]"
      ]
     },
     "metadata": {},
     "output_type": "display_data"
    },
    {
     "name": "stdout",
     "output_type": "stream",
     "text": [
      "mu=0.210 | org_ber=2.34e-06 | model_ber=1.53e-03 |  ber_improve=-65064%\n"
     ]
    },
    {
     "data": {
      "application/vnd.jupyter.widget-view+json": {
       "model_id": "634d719af6f34918875d61611b4e971f",
       "version_major": 2,
       "version_minor": 0
      },
      "text/plain": [
       "  0%|          | 0/15000 [00:00<?, ?it/s]"
      ]
     },
     "metadata": {},
     "output_type": "display_data"
    },
    {
     "data": {
      "application/vnd.jupyter.widget-view+json": {
       "model_id": "24fce1f872334115807d8dbfeb7f741d",
       "version_major": 2,
       "version_minor": 0
      },
      "text/plain": [
       "  0%|          | 0/15000 [00:00<?, ?it/s]"
      ]
     },
     "metadata": {},
     "output_type": "display_data"
    },
    {
     "name": "stdout",
     "output_type": "stream",
     "text": [
      "mu=0.240 | org_ber=1.56e-06 | model_ber=8.58e-04 |  ber_improve=-54818%\n"
     ]
    },
    {
     "data": {
      "application/vnd.jupyter.widget-view+json": {
       "model_id": "32503d9284604757bf240739e6bcd994",
       "version_major": 2,
       "version_minor": 0
      },
      "text/plain": [
       "  0%|          | 0/15000 [00:00<?, ?it/s]"
      ]
     },
     "metadata": {},
     "output_type": "display_data"
    },
    {
     "data": {
      "application/vnd.jupyter.widget-view+json": {
       "model_id": "85d3fd5dd9aa45c79f55394f0244e3f7",
       "version_major": 2,
       "version_minor": 0
      },
      "text/plain": [
       "  0%|          | 0/15000 [00:00<?, ?it/s]"
      ]
     },
     "metadata": {},
     "output_type": "display_data"
    },
    {
     "name": "stdout",
     "output_type": "stream",
     "text": [
      "mu=0.280 | org_ber=1.95e-06 | model_ber=5.28e-04 |  ber_improve=-26925%\n"
     ]
    },
    {
     "data": {
      "application/vnd.jupyter.widget-view+json": {
       "model_id": "a74dbfb3d1a74149ab5c15f850f10696",
       "version_major": 2,
       "version_minor": 0
      },
      "text/plain": [
       "  0%|          | 0/15000 [00:00<?, ?it/s]"
      ]
     },
     "metadata": {},
     "output_type": "display_data"
    },
    {
     "data": {
      "application/vnd.jupyter.widget-view+json": {
       "model_id": "839963352abd495a95a18fca1b431521",
       "version_major": 2,
       "version_minor": 0
      },
      "text/plain": [
       "  0%|          | 0/15000 [00:00<?, ?it/s]"
      ]
     },
     "metadata": {},
     "output_type": "display_data"
    },
    {
     "name": "stdout",
     "output_type": "stream",
     "text": [
      "mu=0.310 | org_ber=9.18e-06 | model_ber=4.21e-04 |  ber_improve=-4488%\n"
     ]
    },
    {
     "data": {
      "application/vnd.jupyter.widget-view+json": {
       "model_id": "429c2f81d62a4688845c33e31ce2d64f",
       "version_major": 2,
       "version_minor": 0
      },
      "text/plain": [
       "  0%|          | 0/15000 [00:00<?, ?it/s]"
      ]
     },
     "metadata": {},
     "output_type": "display_data"
    },
    {
     "data": {
      "application/vnd.jupyter.widget-view+json": {
       "model_id": "a29a2314dcbe4ae4a7281f85968f90eb",
       "version_major": 2,
       "version_minor": 0
      },
      "text/plain": [
       "  0%|          | 0/15000 [00:00<?, ?it/s]"
      ]
     },
     "metadata": {},
     "output_type": "display_data"
    },
    {
     "name": "stdout",
     "output_type": "stream",
     "text": [
      "mu=0.350 | org_ber=3.04e-04 | model_ber=4.00e-04 |  ber_improve=-32%\n"
     ]
    },
    {
     "data": {
      "application/vnd.jupyter.widget-view+json": {
       "model_id": "f69e8b2bb70a4459b2efd30cc5a463f0",
       "version_major": 2,
       "version_minor": 0
      },
      "text/plain": [
       "  0%|          | 0/15000 [00:00<?, ?it/s]"
      ]
     },
     "metadata": {},
     "output_type": "display_data"
    },
    {
     "data": {
      "application/vnd.jupyter.widget-view+json": {
       "model_id": "1dfc34e10ed04352b61033f032122cec",
       "version_major": 2,
       "version_minor": 0
      },
      "text/plain": [
       "  0%|          | 0/15000 [00:00<?, ?it/s]"
      ]
     },
     "metadata": {},
     "output_type": "display_data"
    },
    {
     "name": "stdout",
     "output_type": "stream",
     "text": [
      "mu=0.390 | org_ber=2.67e-03 | model_ber=6.53e-04 |  ber_improve=076%\n"
     ]
    },
    {
     "data": {
      "application/vnd.jupyter.widget-view+json": {
       "model_id": "20a232d891354d5bb13a7c04ed5c6c9c",
       "version_major": 2,
       "version_minor": 0
      },
      "text/plain": [
       "  0%|          | 0/15000 [00:00<?, ?it/s]"
      ]
     },
     "metadata": {},
     "output_type": "display_data"
    },
    {
     "data": {
      "application/vnd.jupyter.widget-view+json": {
       "model_id": "bd7391216ca54c4ba952a088feb56995",
       "version_major": 2,
       "version_minor": 0
      },
      "text/plain": [
       "  0%|          | 0/15000 [00:00<?, ?it/s]"
      ]
     },
     "metadata": {},
     "output_type": "display_data"
    },
    {
     "name": "stdout",
     "output_type": "stream",
     "text": [
      "mu=0.420 | org_ber=9.30e-03 | model_ber=9.84e-04 |  ber_improve=089%\n"
     ]
    },
    {
     "data": {
      "application/vnd.jupyter.widget-view+json": {
       "model_id": "1f872f613d53409aaf89515fef2147a1",
       "version_major": 2,
       "version_minor": 0
      },
      "text/plain": [
       "  0%|          | 0/15000 [00:00<?, ?it/s]"
      ]
     },
     "metadata": {},
     "output_type": "display_data"
    },
    {
     "data": {
      "application/vnd.jupyter.widget-view+json": {
       "model_id": "28d3919445ee4e1ea2460281aad85103",
       "version_major": 2,
       "version_minor": 0
      },
      "text/plain": [
       "  0%|          | 0/15000 [00:00<?, ?it/s]"
      ]
     },
     "metadata": {},
     "output_type": "display_data"
    },
    {
     "name": "stdout",
     "output_type": "stream",
     "text": [
      "mu=0.460 | org_ber=2.27e-02 | model_ber=6.10e-03 |  ber_improve=073%\n"
     ]
    },
    {
     "data": {
      "application/vnd.jupyter.widget-view+json": {
       "model_id": "37dfce82a6ab4cc4ae30fcc67077f47b",
       "version_major": 2,
       "version_minor": 0
      },
      "text/plain": [
       "  0%|          | 0/15000 [00:00<?, ?it/s]"
      ]
     },
     "metadata": {},
     "output_type": "display_data"
    },
    {
     "data": {
      "application/vnd.jupyter.widget-view+json": {
       "model_id": "50930b14c25647799806e8b7fedbe407",
       "version_major": 2,
       "version_minor": 0
      },
      "text/plain": [
       "  0%|          | 0/15000 [00:00<?, ?it/s]"
      ]
     },
     "metadata": {},
     "output_type": "display_data"
    },
    {
     "name": "stdout",
     "output_type": "stream",
     "text": [
      "mu=0.490 | org_ber=4.51e-02 | model_ber=1.48e-02 |  ber_improve=067%\n"
     ]
    },
    {
     "data": {
      "application/vnd.jupyter.widget-view+json": {
       "model_id": "8c4a80ed143a4f8d9c0b83954f8a6948",
       "version_major": 2,
       "version_minor": 0
      },
      "text/plain": [
       "  0%|          | 0/15000 [00:00<?, ?it/s]"
      ]
     },
     "metadata": {},
     "output_type": "display_data"
    },
    {
     "data": {
      "application/vnd.jupyter.widget-view+json": {
       "model_id": "6bf8c751972d4f218967b0eba07b0a70",
       "version_major": 2,
       "version_minor": 0
      },
      "text/plain": [
       "  0%|          | 0/15000 [00:00<?, ?it/s]"
      ]
     },
     "metadata": {},
     "output_type": "display_data"
    },
    {
     "name": "stdout",
     "output_type": "stream",
     "text": [
      "mu=0.530 | org_ber=7.68e-02 | model_ber=3.08e-02 |  ber_improve=060%\n"
     ]
    },
    {
     "data": {
      "application/vnd.jupyter.widget-view+json": {
       "model_id": "847ef114be30409e95a7f41d7b0a210a",
       "version_major": 2,
       "version_minor": 0
      },
      "text/plain": [
       "  0%|          | 0/15000 [00:00<?, ?it/s]"
      ]
     },
     "metadata": {},
     "output_type": "display_data"
    },
    {
     "data": {
      "application/vnd.jupyter.widget-view+json": {
       "model_id": "26ae127a94634ef389e315908467ac2c",
       "version_major": 2,
       "version_minor": 0
      },
      "text/plain": [
       "  0%|          | 0/15000 [00:00<?, ?it/s]"
      ]
     },
     "metadata": {},
     "output_type": "display_data"
    },
    {
     "name": "stdout",
     "output_type": "stream",
     "text": [
      "mu=0.560 | org_ber=1.12e-01 | model_ber=5.42e-02 |  ber_improve=052%\n"
     ]
    },
    {
     "data": {
      "application/vnd.jupyter.widget-view+json": {
       "model_id": "c1f337a02b64495897e0c00c0c845f50",
       "version_major": 2,
       "version_minor": 0
      },
      "text/plain": [
       "  0%|          | 0/15000 [00:00<?, ?it/s]"
      ]
     },
     "metadata": {},
     "output_type": "display_data"
    },
    {
     "data": {
      "application/vnd.jupyter.widget-view+json": {
       "model_id": "10cca157add643eba1442833d19f80b9",
       "version_major": 2,
       "version_minor": 0
      },
      "text/plain": [
       "  0%|          | 0/15000 [00:00<?, ?it/s]"
      ]
     },
     "metadata": {},
     "output_type": "display_data"
    },
    {
     "name": "stdout",
     "output_type": "stream",
     "text": [
      "mu=0.600 | org_ber=1.51e-01 | model_ber=8.49e-02 |  ber_improve=044%\n"
     ]
    },
    {
     "data": {
      "image/png": "[encoded data removed]",
      "text/plain": [
       "<Figure size 640x480 with 1 Axes>"
      ]
     },
     "metadata": {},
     "output_type": "display_data"
    }
   ],
   "source": [
    "# main_ds_path = '/data/yarcoh/thesis_data/data/datasets/qam16_50x300/'\n",
    "\n",
    "ma.plot_all_bers(base_path=main_ds_path, \n",
    "                 train_ds_ratio=0, \n",
    "                 val_ds_ratio=0, \n",
    "                 test_ds_ratio=0.5, \n",
    "                 _tqdm=tqdm, \n",
    "                 verbose_level=0.5,\n",
    "                 is_upload_to_wandb=True,\n",
    "                 power_instead_mu=True,)\n",
    "                    "
   ]
  },
  {
   "cell_type": "code",
   "execution_count": null,
   "metadata": {},
   "outputs": [],
   "source": [
    "# upload to wandb\n",
    "# ma.upload_all_bers_to_wandb(base_path=main_ds_path,\n",
    "#                  train_ds_ratio=0, \n",
    "#                  val_ds_ratio=0, \n",
    "#                  test_ds_ratio=0.15, \n",
    "#                  _tqdm=tqdm, \n",
    "#                  verbose_level=0.5)"
   ]
  },
  {
   "cell_type": "code",
   "execution_count": null,
   "metadata": {},
   "outputs": [],
   "source": [
    "print('done')"
   ]
  },
  {
   "attachments": {},
   "cell_type": "markdown",
   "metadata": {},
   "source": [
    "# THE END"
   ]
  },
  {
   "cell_type": "code",
   "execution_count": null,
   "metadata": {
    "collapsed": false,
    "pycharm": {
     "name": "#%%\n"
    }
   },
   "outputs": [],
   "source": [
    "# # paper 1 model analyzer\n",
    "# path_init = '../../data/test_models/mu-0.008__128ds__PaperNNforNFTmodel__3epochs'\n",
    "\n",
    "# trainer_real = Trainer.load3(path_init + '__real')\n",
    "# trainer_imag = Trainer.load3(path_init + '__imag')\n",
    "\n",
    "# train_ds = SingleMuDataSet(trainer_real.train_dataset.data_dir_path,\n",
    "#                            trainer_real.train_dataset.data_indices)\n",
    "# val_ds = SingleMuDataSet(trainer_real.val_dataset.data_dir_path,\n",
    "#                          trainer_real.val_dataset.data_indices)\n",
    "\n",
    "# model = PaperNNforNFTwrapper(trainer_real.model, trainer_imag.model)\n",
    "\n",
    "# trainer = Trainer(\n",
    "#     train_dataset=train_ds,\n",
    "#     val_dataset=val_ds,\n",
    "#     model=model,\n",
    "#     device=trainer_real.device,\n",
    "#     batch_size=trainer_real.train_dataloader.batch_size,\n",
    "#     l_metric=trainer_real.l_metric,\n",
    "#     optim=trainer_real.optim,\n",
    "#     params=trainer_real.params)"
   ]
  },
  {
   "cell_type": "code",
   "execution_count": null,
   "metadata": {},
   "outputs": [],
   "source": [
    "# analyze on the whole dataset\n",
    "\n",
    "# attach new dataset to trainer\n"
   ]
  },
  {
   "cell_type": "code",
   "execution_count": null,
   "metadata": {
    "collapsed": false,
    "pycharm": {
     "name": "#%%\n"
    }
   },
   "outputs": [],
   "source": [
    "# trainer.params"
   ]
  },
  {
   "cell_type": "code",
   "execution_count": null,
   "metadata": {
    "collapsed": false,
    "pycharm": {
     "name": "#%%\n"
    }
   },
   "outputs": [],
   "source": [
    "# ma = ModelAnalyzer(trainer)"
   ]
  },
  {
   "cell_type": "code",
   "execution_count": null,
   "metadata": {
    "collapsed": false,
    "pycharm": {
     "name": "#%%\n"
    }
   },
   "outputs": [],
   "source": [
    "# ma.plot_single_item(i=0)"
   ]
  },
  {
   "cell_type": "code",
   "execution_count": null,
   "metadata": {
    "collapsed": false,
    "pycharm": {
     "name": "#%%\n"
    }
   },
   "outputs": [],
   "source": [
    "# ma.plot_bers(_tqdm=tqdm)"
   ]
  },
  {
   "cell_type": "code",
   "execution_count": null,
   "metadata": {
    "collapsed": false,
    "pycharm": {
     "name": "#%%\n"
    }
   },
   "outputs": [],
   "source": []
  }
 ],
 "metadata": {
  "kernelspec": {
   "display_name": "thesis-code",
   "language": "python",
   "name": "python3"
  },
  "language_info": {
   "codemirror_mode": {
    "name": "ipython",
    "version": 3
   },
   "file_extension": ".py",
   "mimetype": "text/x-python",
   "name": "python",
   "nbconvert_exporter": "python",
   "pygments_lexer": "ipython3",
   "version": "3.10.4"
  },
  "vscode": {
   "interpreter": {
    "hash": "c0a8cf00f4e09cef0661bc3e9b67cf1f3d3e882c9a548070cdf2902bc9e493cd"
   }
  }
 },
 "nbformat": 4,
 "nbformat_minor": 1
}
