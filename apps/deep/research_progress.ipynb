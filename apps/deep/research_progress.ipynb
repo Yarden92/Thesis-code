{
 "cells": [
  {
   "cell_type": "code",
   "execution_count": null,
   "metadata": {
    "collapsed": true,
    "pycharm": {
     "name": "#%%\n"
    }
   },
   "outputs": [],
   "source": []
  },
  {
   "cell_type": "markdown",
   "source": [
    "# Infrastructure build progress:\n",
    "* Entire pipeline end to end function\n",
    "* multi run on the pipeline with different configurations\n",
    "* connection to remote powerful server\n",
    "    * vpn init\n",
    "    * ssh connection\n",
    "    * scripts for file transfer, fast execution, process tracking\n",
    "* data generation modules\n",
    "    * support for config input for desired data variation\n",
    "    * support for multithreading\n",
    "    * generate large dataset (26GB)\n",
    "    * support for multiple types of samples (spectrum, iq_bits)\n",
    "    * data analyzation\n",
    "* model generation\n",
    "    * support for generic model generation controlled by config\n",
    "    * support for training on the GPU\n",
    "    * support for multiple models creation in single run\n",
    "    * model analyzation after each model creation -> uploaded to wandb\n",
    "* additional modules\n",
    "    * pyrallis - for easy config reading\n",
    "    * wandb - for easy plotting and model compare\n",
    "    *"
   ],
   "metadata": {
    "collapsed": false,
    "pycharm": {
     "name": "#%% md\n"
    }
   }
  },
  {
   "cell_type": "markdown",
   "source": [
    "# Model Exploration\n"
   ],
   "metadata": {
    "collapsed": false,
    "pycharm": {
     "name": "#%% md\n"
    }
   }
  },
  {
   "cell_type": "code",
   "execution_count": null,
   "outputs": [],
   "source": [],
   "metadata": {
    "collapsed": false,
    "pycharm": {
     "name": "#%%\n"
    }
   }
  }
 ],
 "metadata": {
  "kernelspec": {
   "display_name": "Python 3",
   "language": "python",
   "name": "python3"
  },
  "language_info": {
   "codemirror_mode": {
    "name": "ipython",
    "version": 2
   },
   "file_extension": ".py",
   "mimetype": "text/x-python",
   "name": "python",
   "nbconvert_exporter": "python",
   "pygments_lexer": "ipython2",
   "version": "2.7.6"
  }
 },
 "nbformat": 4,
 "nbformat_minor": 0
}