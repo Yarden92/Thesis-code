{
 "cells": [
  {
   "cell_type": "code",
   "execution_count": 20,
   "metadata": {
    "collapsed": true
   },
   "outputs": [
    {
     "name": "stdout",
     "output_type": "stream",
     "text": [
      "success\n"
     ]
    }
   ],
   "source": [
    "from ModulationPy import ModulationPy\n",
    "print('success')"
   ]
  },
  {
   "cell_type": "code",
   "execution_count": 21,
   "outputs": [],
   "source": [
    "import numpy as np\n",
    "from commpy.filters import rrcosfilter"
   ],
   "metadata": {
    "collapsed": false,
    "pycharm": {
     "name": "#%%\n"
    }
   }
  },
  {
   "cell_type": "code",
   "execution_count": 13,
   "outputs": [
    {
     "data": {
      "text/plain": "'3.9.7 (default, Sep 16 2021, 08:50:36) \\n[Clang 10.0.0 ]'"
     },
     "execution_count": 13,
     "metadata": {},
     "output_type": "execute_result"
    }
   ],
   "source": [
    "import sys\n",
    "sys.version"
   ],
   "metadata": {
    "collapsed": false,
    "pycharm": {
     "name": "#%%\n"
    }
   }
  },
  {
   "cell_type": "code",
   "execution_count": 19,
   "outputs": [
    {
     "name": "stdout",
     "output_type": "stream",
     "text": [
      "Collecting scikit-commpy==0.6.0\r\n",
      "  Using cached scikit_commpy-0.6.0-py3-none-any.whl (59 kB)\r\n",
      "Requirement already satisfied: matplotlib in /Users/yarden/opt/anaconda3/lib/python3.9/site-packages (from scikit-commpy==0.6.0) (3.4.3)\r\n",
      "Requirement already satisfied: scipy in /Users/yarden/opt/anaconda3/lib/python3.9/site-packages (from scikit-commpy==0.6.0) (1.7.1)\r\n",
      "Requirement already satisfied: numpy in /Users/yarden/opt/anaconda3/lib/python3.9/site-packages (from scikit-commpy==0.6.0) (1.20.3)\r\n",
      "Requirement already satisfied: pyparsing>=2.2.1 in /Users/yarden/opt/anaconda3/lib/python3.9/site-packages (from matplotlib->scikit-commpy==0.6.0) (3.0.4)\r\n",
      "Requirement already satisfied: python-dateutil>=2.7 in /Users/yarden/opt/anaconda3/lib/python3.9/site-packages (from matplotlib->scikit-commpy==0.6.0) (2.8.2)\r\n",
      "Requirement already satisfied: pillow>=6.2.0 in /Users/yarden/opt/anaconda3/lib/python3.9/site-packages (from matplotlib->scikit-commpy==0.6.0) (8.4.0)\r\n",
      "Requirement already satisfied: cycler>=0.10 in /Users/yarden/opt/anaconda3/lib/python3.9/site-packages (from matplotlib->scikit-commpy==0.6.0) (0.10.0)\r\n",
      "Requirement already satisfied: kiwisolver>=1.0.1 in /Users/yarden/opt/anaconda3/lib/python3.9/site-packages (from matplotlib->scikit-commpy==0.6.0) (1.3.1)\r\n",
      "Requirement already satisfied: six in /Users/yarden/opt/anaconda3/lib/python3.9/site-packages (from cycler>=0.10->matplotlib->scikit-commpy==0.6.0) (1.16.0)\r\n",
      "Installing collected packages: scikit-commpy\r\n",
      "Successfully installed scikit-commpy-0.6.0\r\n",
      "\n",
      "Here is a list of modules whose name or summary contains 'commpy'.\n",
      "If there are any, enter a module name to get more help.\n",
      "\n",
      "commpy - CommPy\n",
      "commpy.channelcoding - ============================================\n",
      "commpy.channelcoding.algcode \n",
      "commpy.channelcoding.convcode - Algorithms for Convolutional Codes\n",
      "commpy.channelcoding.gfields - Galois Fields\n",
      "commpy.channelcoding.interleavers - Interleavers and De-interleavers\n",
      "commpy.channelcoding.ldpc \n",
      "commpy.channelcoding.tests \n",
      "commpy.channelcoding.tests.test_algcode \n",
      "commpy.channelcoding.tests.test_convcode \n",
      "commpy.channelcoding.tests.test_gfields \n",
      "commpy.channelcoding.tests.test_ldpc \n",
      "commpy.channelcoding.turbo - Turbo Codes\n",
      "commpy.channels - ============================================\n",
      "commpy.filters - =============================================\n",
      "commpy.impairments - ============================================\n",
      "commpy.links - ============================================\n",
      "commpy.modulation - ==================================================\n",
      "commpy.sequences - ==================================================\n",
      "commpy.tests \n",
      "commpy.tests.test_channels \n",
      "commpy.tests.test_links \n",
      "commpy.tests.test_modulation \n",
      "commpy.tests.test_sequences \n",
      "commpy.tests.test_utilities \n",
      "commpy.tests.test_wifi80211 \n",
      "commpy.utilities - ============================================\n",
      "commpy.wifi80211 - ============================================\n",
      "\n"
     ]
    }
   ],
   "source": [
    "!pip install scikit-commpy==0.6.0\n",
    "help('modules commpy')"
   ],
   "metadata": {
    "collapsed": false,
    "pycharm": {
     "name": "#%%\n"
    }
   }
  }
 ],
 "metadata": {
  "kernelspec": {
   "display_name": "Python 3",
   "language": "python",
   "name": "python3"
  },
  "language_info": {
   "codemirror_mode": {
    "name": "ipython",
    "version": 2
   },
   "file_extension": ".py",
   "mimetype": "text/x-python",
   "name": "python",
   "nbconvert_exporter": "python",
   "pygments_lexer": "ipython2",
   "version": "2.7.6"
  }
 },
 "nbformat": 4,
 "nbformat_minor": 0
}