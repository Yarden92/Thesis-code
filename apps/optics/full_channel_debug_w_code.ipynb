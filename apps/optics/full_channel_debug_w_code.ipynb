{
 "cells": [
  {
   "cell_type": "code",
   "execution_count": null,
   "metadata": {
    "pycharm": {
     "name": "#%%\n"
    }
   },
   "outputs": [],
   "source": [
    "# initial setup for any notebook\n",
    "\n",
    "%load_ext autoreload\n",
    "%autoreload 2\n",
    "import sys\n",
    "import json\n",
    "sys.path.append(\"/home/yarcoh/projects/thesis-code4\") # go to parent dir"
   ]
  },
  {
   "cell_type": "code",
   "execution_count": null,
   "metadata": {
    "pycharm": {
     "name": "#%%\n"
    }
   },
   "outputs": [],
   "source": [
    "import numpy as np\n",
    "\n",
    "from src.optics.channel_simulation2 import ChannelSimulator2\n",
    "from src.general_methods.visualizer import Visualizer\n",
    "from src.optics.config_manager import ChannelConfig\n"
   ]
  },
  {
   "cell_type": "markdown",
   "metadata": {
    "id": "pIwJ8yY6nbhX",
    "pycharm": {
     "name": "#%% md\n"
    }
   },
   "source": [
    "# Channel Simulation\n",
    "here starts the actual channel simulator code."
   ]
  },
  {
   "cell_type": "code",
   "execution_count": null,
   "metadata": {},
   "outputs": [],
   "source": [
    "conf = ChannelConfig(\n",
    "    W=0.05,                 # Total bandwidth, estimated [THz]\n",
    "    Nspans=12,              # The number of spans\n",
    "    La=80,         # Transmission span [km]\n",
    "    M_QAM=16,               # QAM order (2,4,16,64,256)\n",
    "    Ts=1,                   # Symbol period for rrc [unitless]\n",
    "\n",
    "    # Modulation and Coding:\n",
    "    Nos=16,                 # Oversampling factor (must be even)\n",
    "    eta=2,                  # spectral efficiency penalty factor (1,4]\n",
    "    mu=0.15,                # Dimensionless power scaling factor (RRC)\n",
    "    bet=0.2,                # roll-off factor\n",
    "    with_ssf=True,          # whether to use SSF or not\n",
    "    with_noise=True,        # whether to add noise or not\n",
    "\n",
    "    # Fiber and Dispersion:\n",
    "    beta2=-21,              # ps^2/km\n",
    "    gamma=1.27,             # Nonlinear coefficient in [1/km*W]\n",
    "    dz=0.2,                 # Z-step, [km] - initial step estimate\n",
    "    K_T=1.13,                # [unitless]\n",
    "    chi=0.0461,             # fiber loss coefficient [1/km]\n",
    "\n",
    "    # general stuff:\n",
    "    verbose=True,           # whether to print stuff or not\n",
    ")\n"
   ]
  },
  {
   "cell_type": "code",
   "execution_count": null,
   "metadata": {},
   "outputs": [],
   "source": [
    "cs: ChannelSimulator2 = ChannelSimulator2(conf)\n"
   ]
  },
  {
   "cell_type": "code",
   "execution_count": null,
   "metadata": {},
   "outputs": [],
   "source": [
    "Visualizer.print_config(cs.channel_config)"
   ]
  },
  {
   "cell_type": "code",
   "execution_count": null,
   "metadata": {},
   "outputs": [],
   "source": [
    "Visualizer.print_config(cs.cb_configs)"
   ]
  },
  {
   "cell_type": "code",
   "execution_count": null,
   "metadata": {},
   "outputs": [],
   "source": [
    "# ssf config\n",
    "Visualizer.print_config(cs.blocks[5].config)\n",
    "print(f'D = {cs.blocks[5].ssf.D:.2e}')"
   ]
  },
  {
   "cell_type": "code",
   "execution_count": null,
   "metadata": {},
   "outputs": [],
   "source": [
    "cs.quick_simulate()"
   ]
  },
  {
   "cell_type": "code",
   "execution_count": null,
   "metadata": {},
   "outputs": [],
   "source": [
    "# 1) modulation\n",
    "M_QAM = conf.M_QAM\n",
    "sps = int(np.log2(M_QAM))\n",
    "print(cs.blocks[0].get_output_names())\n",
    "message_s_bin, c_in = cs.blocks[0].get_outputs()\n",
    "bin_txt = np.reshape(message_s_bin, (-1, sps))\n",
    "print(bin_txt)\n",
    "Visualizer.plot_constellation_map_with_points(c_in, M_QAM, 'clean before channel')\n",
    "\n"
   ]
  },
  {
   "cell_type": "code",
   "execution_count": null,
   "metadata": {},
   "outputs": [],
   "source": [
    "# 2) over sampling\n",
    "cs.blocks[1].get_output_names()\n",
    "c_in1 = cs.blocks[1].get_outputs()[0]\n",
    "Visualizer.my_plot(range(50), np.real(c_in1[0:50]), name='zero padded - $ real\\{c_1 \\} $', function='stem')"
   ]
  },
  {
   "cell_type": "code",
   "execution_count": null,
   "metadata": {},
   "outputs": [],
   "source": [
    "# 3) spectral shaping\n",
    "cs.blocks[2].get_output_names()\n",
    "u_in, psi_xi, psi_t = cs.blocks[2].get_outputs()\n",
    "xi = cs.extra_inputs['xi']\n",
    "Ns = cs.extra_inputs['Ns']\n",
    "Nos = conf.Nos\n",
    "print(f'length of u_in: {len(u_in)}')\n",
    "print(f'length of xi: {len(xi)}')\n",
    "zm = range(Ns//2, Ns//2 + Nos*3)\n",
    "Visualizer.twin_zoom_plot(r'$|\\psi(\\xi)|^2$', np.abs(psi_xi) ** 2, zm, xi, xlabel=r'$\\xi$')\n",
    "Visualizer.plot_amp_and_phase(xi,u_in,r'$\\xi$',r'u(\\xi)')"
   ]
  },
  {
   "cell_type": "code",
   "execution_count": null,
   "metadata": {},
   "outputs": [],
   "source": [
    "# 4.5) pre equalize (zero padded)\n",
    "cs.blocks[3].get_output_names()\n",
    "u1, b_in1, b_in, b_in_padded = cs.blocks[3].get_outputs()\n",
    "print(f'length of b_padded: {len(b_in_padded)}')\n",
    "xi_padded = cs.extra_inputs['xi_padded']\n",
    "Visualizer.plot_amp_and_phase(xi_padded, b_in_padded, r'$\\xi$', r'b(\\xi)')"
   ]
  },
  {
   "cell_type": "code",
   "execution_count": null,
   "metadata": {},
   "outputs": [],
   "source": [
    "print(f'Pn = {cs.channel_config.Pn}')"
   ]
  },
  {
   "cell_type": "code",
   "execution_count": null,
   "metadata": {},
   "outputs": [],
   "source": [
    "# 5) inft\n",
    "cs.blocks[4].get_output_names()\n",
    "q_in, qb, q_p = cs.blocks[4].get_outputs()\n",
    "t_padded = cs.extra_inputs['t_padded']\n",
    "t = cs.extra_inputs['t']\n",
    "print(f' length of t: {len(t)}')\n",
    "\n",
    "# Visualizer.twin_zoom_plot('|q(t)|', np.abs(q_in), range(8000, 8200), t_padded, 't')\n",
    "# Visualizer.twin_zoom_plot('|q_b(t)|', np.abs(qb), range(2000, 2200), t, 't [ps]')\n",
    "# Visualizer.my_plot(t, np.abs(q_p)**2, name=r'$|q_p(t)|^2$ [W]', xlabel='t [ps]')\n",
    "dbm_power = 30+10 * np.log10(np.abs(q_p)**2)\n",
    "Visualizer.my_plot(t, dbm_power, name=r'$|q_p(t)|^2$', xlabel='t [ps]', ylabel='[dBm]')\n"
   ]
  },
  {
   "cell_type": "code",
   "execution_count": null,
   "metadata": {},
   "outputs": [],
   "source": [
    "# 6) ssf\n",
    "cs.blocks[5].get_output_names()\n",
    "qz, q_s, q_pad = cs.blocks[5].get_outputs()\n",
    "\n",
    "Visualizer.compare_amp_and_phase_log(t, qz, q_p, r'$t$', r'q_z(t)','before and after SSF')\n",
    "# Visualizer.plot_amp_and_phase(t_padded, q_pad, r'$t_{padded}$', r'q_p(\\xi)')"
   ]
  },
  {
   "cell_type": "code",
   "execution_count": null,
   "metadata": {},
   "outputs": [],
   "source": []
  },
  {
   "cell_type": "code",
   "execution_count": null,
   "metadata": {},
   "outputs": [],
   "source": [
    "cs.blocks[6].get_output_names()\n",
    "b_out_padded, b_out, is_error = cs.blocks[6].get_outputs()\n",
    "\n",
    "Visualizer.compare_amp_and_phase(xi_padded, b_out_padded, b_in_padded, r'$\\xi$', r'b_p(\\xi)',\"\")\n",
    "Visualizer.plot_amp_and_phase(xi, b_out, r'$\\xi$', r'b(\\xi)')"
   ]
  },
  {
   "cell_type": "code",
   "execution_count": null,
   "metadata": {},
   "outputs": [],
   "source": [
    "cs.blocks[7].get_output_names()\n",
    "b_out1, u1_out, u_out = cs.blocks[7].get_outputs()\n",
    "\n",
    "Visualizer.compare_amp_and_phase(xi,u_out, u_in, r'$\\xi$', r'u(\\xi)', \"\")"
   ]
  },
  {
   "cell_type": "code",
   "execution_count": null,
   "metadata": {},
   "outputs": [],
   "source": [
    "cs.blocks[8].get_output_names()\n",
    "c_out1, c_out = cs.blocks[8].get_outputs()\n",
    "\n",
    "\n",
    "Visualizer.compare_amp_and_phase(xi, c_out1,c_in1, r'$\\xi$', r'\\hat c(\\xi)', \"\")\n",
    "Visualizer.twin_zoom_plot('sampled bits (real)',np.real(c_out),range(0,50),function='stem')\n",
    "Visualizer.plot_constellation_map_with_points(c_out, M_QAM, 'after depulse shaping')\n"
   ]
  },
  {
   "cell_type": "code",
   "execution_count": null,
   "metadata": {},
   "outputs": [],
   "source": [
    "cs.blocks[9].get_output_names()\n",
    "s_out = cs.blocks[9].get_outputs()[0]\n",
    "Visualizer.print_bits(s_out, sps, 'message after channel')\n"
   ]
  },
  {
   "cell_type": "code",
   "execution_count": null,
   "metadata": {},
   "outputs": [],
   "source": [
    "cs.block11.verbose = True\n",
    "cs.block11.calc_ber(s_out,message_s_bin)"
   ]
  }
 ],
 "metadata": {
  "colab": {
   "collapsed_sections": [],
   "name": "single_run_debug.ipynb",
   "provenance": [],
   "toc_visible": true
  },
  "kernelspec": {
   "display_name": "Python 3 (ipykernel)",
   "language": "python",
   "name": "python3"
  },
  "language_info": {
   "codemirror_mode": {
    "name": "ipython",
    "version": 3
   },
   "file_extension": ".py",
   "mimetype": "text/x-python",
   "name": "python",
   "nbconvert_exporter": "python",
   "pygments_lexer": "ipython3",
   "version": "3.10.4"
  }
 },
 "nbformat": 4,
 "nbformat_minor": 4
}
