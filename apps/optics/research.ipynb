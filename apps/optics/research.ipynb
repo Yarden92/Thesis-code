{
 "cells": [
  {
   "cell_type": "markdown",
   "metadata": {
    "id": "fy0Y2dWxCDDp"
   },
   "source": [
    "# Dependencies installation\n",
    "we'll first try to fetch a pre-installed dependencies from google-drive, if it doesn't exist, we'll install it there for faster loading next *time*"
   ]
  },
  {
   "cell_type": "code",
   "execution_count": 5,
   "metadata": {},
   "outputs": [
    {
     "name": "stdout",
     "output_type": "stream",
     "text": [
      "The autoreload extension is already loaded. To reload it, use:\n",
      "  %reload_ext autoreload\n"
     ]
    }
   ],
   "source": [
    "%load_ext autoreload\n",
    "%autoreload 2\n",
    "\n",
    "import numpy as np\n",
    "\n",
    "from src.general_methods import multi_run\n",
    "from src.optics.channel_simulation import ChannelSimulator\n",
    "from src.optics.split_step_fourier import SplitStepFourier\n",
    "from src.general_methods.visualizer import Visualizer"
   ]
  },
  {
   "cell_type": "markdown",
   "metadata": {
    "id": "HKsfiiw71FpJ"
   },
   "source": [
    "# Deep Learning research"
   ]
  },
  {
   "cell_type": "markdown",
   "metadata": {
    "id": "DanJa6wK1WYh"
   },
   "source": [
    "## BER vs normalization factor"
   ]
  },
  {
   "cell_type": "code",
   "execution_count": 6,
   "metadata": {
    "pycharm": {
     "name": "#%%\n"
    }
   },
   "outputs": [
    {
     "name": "stdout",
     "output_type": "stream",
     "text": [
      "SSF params: N = 5000, P_0 = 0.00042666666666666667\n",
      "number of iterations in split step algo: 5000\n",
      "normalizing factors are: [3.16e-04 6.31e-04 1.26e-03 2.51e-03 5.01e-03 1.00e-02 2.00e-02 3.98e-02\n",
      " 7.94e-02 1.58e-01 3.16e-01 6.31e-01 1.26e+00 2.51e+00 5.01e+00 1.00e+01]\n"
     ]
    },
    {
     "name": "stderr",
     "output_type": "stream",
     "text": [
      "100%|██████████| 48/48 [00:11<00:00,  4.30it/s]\n"
     ]
    },
    {
     "name": "stdout",
     "output_type": "stream",
     "text": [
      "64 symbols: errors found = [  0   0   0   0   0   0   0   0   0   4 278 397 404 390 345 390] / [768 = 256 bits * 3 realisations]\n"
     ]
    },
    {
     "name": "stderr",
     "output_type": "stream",
     "text": [
      "100%|██████████| 48/48 [00:22<00:00,  2.17it/s]\n"
     ]
    },
    {
     "name": "stdout",
     "output_type": "stream",
     "text": [
      "128 symbols: errors found = [  0   1   0   0   0   0   0   0   0  17 627 800 777 791 766 742] / [1536 = 512 bits * 3 realisations]\n"
     ]
    },
    {
     "name": "stderr",
     "output_type": "stream",
     "text": [
      "100%|██████████| 48/48 [00:49<00:00,  1.03s/it]\n"
     ]
    },
    {
     "name": "stdout",
     "output_type": "stream",
     "text": [
      "256 symbols: errors found = [   0    0    0    0    0    0    0    0    0   37 1266 1633 1555 1525\n",
      " 1568 1537] / [3072 = 1024 bits * 3 realisations]\n"
     ]
    },
    {
     "name": "stderr",
     "output_type": "stream",
     "text": [
      "100%|██████████| 48/48 [01:49<00:00,  2.28s/it]"
     ]
    },
    {
     "name": "stdout",
     "output_type": "stream",
     "text": [
      "512 symbols: errors found = [   0    0    0    0    0    0    0    0    0   53 2466 3247 3063 3070\n",
      " 3085 3066] / [6144 = 2048 bits * 3 realisations]\n"
     ]
    },
    {
     "name": "stderr",
     "output_type": "stream",
     "text": [
      "\n"
     ]
    },
    {
     "data": {
      "text/plain": "<Figure size 720x360 with 1 Axes>",
      "image/png": "[encoded data removed]"
     },
     "metadata": {
      "needs_background": "light"
     },
     "output_type": "display_data"
    }
   ],
   "source": [
    "# test the impact of ber vs normalization factor for multiple n_symbols\n",
    "ssf = SplitStepFourier(\n",
    "    b2=-20e-27,\n",
    "    gamma=0.003,\n",
    "    t0=125e-12,\n",
    "    z_n=1000e3,\n",
    "    dt=1,\n",
    "    h=200\n",
    ")\n",
    "cs = ChannelSimulator(m_qam=16,dt=1, verbose=False, ssf=ssf)\n",
    "\n",
    "num_realisations = 3\n",
    "us_vec = multi_run.create_us_vec(n_steps=16, min_u=-3.5, max_u=1)\n",
    "N_symbols_vec = np.array([64, 128, 256, 512])\n",
    "\n",
    "with np.printoptions(precision=2):\n",
    "    print(f'normalizing factors are: {us_vec}')\n",
    "\n",
    "    bers_vec, legends = [], []\n",
    "    for n_sym in N_symbols_vec:\n",
    "        cs.num_symbols = n_sym\n",
    "        bers, errs = multi_run.ber_vs_us(cs, us_vec, n_realisations=num_realisations)\n",
    "        print(f'{n_sym} symbols: errors found = {errs} / [{cs.length_of_msg * num_realisations} '\n",
    "              f'= {cs.length_of_msg} bits * {num_realisations} realisations]')\n",
    "        bers_vec.append(bers)\n",
    "        legends.append(f'{n_sym} symbols')\n",
    "\n",
    "Visualizer.plot_bers(us_vec, bers_vec, legends)"
   ]
  }
 ],
 "metadata": {
  "colab": {
   "collapsed_sections": [],
   "name": "research.ipynb",
   "provenance": [],
   "toc_visible": true
  },
  "kernelspec": {
   "display_name": "Python 3 (ipykernel)",
   "language": "python",
   "name": "python3"
  },
  "language_info": {
   "codemirror_mode": {
    "name": "ipython",
    "version": 3
   },
   "file_extension": ".py",
   "mimetype": "text/x-python",
   "name": "python",
   "nbconvert_exporter": "python",
   "pygments_lexer": "ipython3",
   "version": "3.9.7"
  }
 },
 "nbformat": 4,
 "nbformat_minor": 1
}