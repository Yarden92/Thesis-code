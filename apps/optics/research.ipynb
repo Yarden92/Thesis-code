{
 "cells": [
  {
   "cell_type": "markdown",
   "metadata": {
    "id": "fy0Y2dWxCDDp",
    "pycharm": {
     "name": "#%% md\n"
    }
   },
   "source": [
    "# Dependencies installation\n",
    "we'll first try to fetch a pre-installed dependencies from google-drive, if it doesn't exist, we'll install it there for faster loading next *time*"
   ]
  },
  {
   "cell_type": "code",
   "execution_count": 1,
   "metadata": {
    "pycharm": {
     "name": "#%%\n"
    }
   },
   "outputs": [
    {
     "ename": "ModuleNotFoundError",
     "evalue": "No module named 'src'",
     "output_type": "error",
     "traceback": [
      "\u001b[0;31m---------------------------------------------------------------------------\u001b[0m",
      "\u001b[0;31mModuleNotFoundError\u001b[0m                       Traceback (most recent call last)",
      "\u001b[1;32m/home/yarcoh/projects/thesis-code4/apps/optics/research.ipynb Cell 2\u001b[0m in \u001b[0;36m<cell line: 6>\u001b[0;34m()\u001b[0m\n\u001b[1;32m      <a href='vscode-notebook-cell://ssh-remote%2Bstas/home/yarcoh/projects/thesis-code4/apps/optics/research.ipynb#W1sdnNjb2RlLXJlbW90ZQ%3D%3D?line=1'>2</a>\u001b[0m get_ipython()\u001b[39m.\u001b[39mrun_line_magic(\u001b[39m'\u001b[39m\u001b[39mautoreload\u001b[39m\u001b[39m'\u001b[39m, \u001b[39m'\u001b[39m\u001b[39m2\u001b[39m\u001b[39m'\u001b[39m)\n\u001b[1;32m      <a href='vscode-notebook-cell://ssh-remote%2Bstas/home/yarcoh/projects/thesis-code4/apps/optics/research.ipynb#W1sdnNjb2RlLXJlbW90ZQ%3D%3D?line=3'>4</a>\u001b[0m \u001b[39mimport\u001b[39;00m \u001b[39mnumpy\u001b[39;00m \u001b[39mas\u001b[39;00m \u001b[39mnp\u001b[39;00m\n\u001b[0;32m----> <a href='vscode-notebook-cell://ssh-remote%2Bstas/home/yarcoh/projects/thesis-code4/apps/optics/research.ipynb#W1sdnNjb2RlLXJlbW90ZQ%3D%3D?line=5'>6</a>\u001b[0m \u001b[39mfrom\u001b[39;00m \u001b[39msrc\u001b[39;00m\u001b[39m.\u001b[39;00m\u001b[39mgeneral_methods\u001b[39;00m \u001b[39mimport\u001b[39;00m multi_run\n\u001b[1;32m      <a href='vscode-notebook-cell://ssh-remote%2Bstas/home/yarcoh/projects/thesis-code4/apps/optics/research.ipynb#W1sdnNjb2RlLXJlbW90ZQ%3D%3D?line=6'>7</a>\u001b[0m \u001b[39mfrom\u001b[39;00m \u001b[39msrc\u001b[39;00m\u001b[39m.\u001b[39;00m\u001b[39moptics\u001b[39;00m\u001b[39m.\u001b[39;00m\u001b[39mchannel_simulation\u001b[39;00m \u001b[39mimport\u001b[39;00m ChannelSimulator\n\u001b[1;32m      <a href='vscode-notebook-cell://ssh-remote%2Bstas/home/yarcoh/projects/thesis-code4/apps/optics/research.ipynb#W1sdnNjb2RlLXJlbW90ZQ%3D%3D?line=7'>8</a>\u001b[0m \u001b[39mfrom\u001b[39;00m \u001b[39msrc\u001b[39;00m\u001b[39m.\u001b[39;00m\u001b[39moptics\u001b[39;00m\u001b[39m.\u001b[39;00m\u001b[39msplit_step_fourier\u001b[39;00m \u001b[39mimport\u001b[39;00m SplitStepFourier\n",
      "\u001b[0;31mModuleNotFoundError\u001b[0m: No module named 'src'"
     ]
    }
   ],
   "source": [
    "%load_ext autoreload\n",
    "%autoreload 2\n",
    "\n",
    "import numpy as np\n",
    "\n",
    "from src.general_methods import multi_run\n",
    "from src.optics.channel_simulation import ChannelSimulator\n",
    "from src.optics.split_step_fourier import SplitStepFourier\n",
    "from src.general_methods.visualizer import Visualizer"
   ]
  },
  {
   "cell_type": "markdown",
   "metadata": {
    "id": "HKsfiiw71FpJ",
    "pycharm": {
     "name": "#%% md\n"
    }
   },
   "source": [
    "# Deep Learning research"
   ]
  },
  {
   "cell_type": "markdown",
   "metadata": {
    "id": "DanJa6wK1WYh",
    "pycharm": {
     "name": "#%% md\n"
    }
   },
   "source": [
    "## BER vs normalization factor"
   ]
  },
  {
   "cell_type": "code",
   "execution_count": 16,
   "metadata": {
    "pycharm": {
     "name": "#%%\n"
    }
   },
   "outputs": [
    {
     "name": "stdout",
     "output_type": "stream",
     "text": [
      "SSF params: N = 5000, P_0 = 0.00042666666666666667\n",
      "number of iterations in split step algo: 5000\n",
      "normalizing factors are: [0.   0.01 0.01 0.02 0.03 0.03 0.04 0.05 0.05 0.06 0.07 0.07 0.08 0.09\n",
      " 0.09 0.1 ]\n"
     ]
    },
    {
     "name": "stderr",
     "output_type": "stream",
     "text": [
      "100%|██████████| 48/48 [00:17<00:00,  2.69it/s]\n"
     ]
    },
    {
     "name": "stdout",
     "output_type": "stream",
     "text": [
      "64 symbols: errors found = [ 289  264  341  544  733  797  871  937  963  926  978  970  976  979\n",
      " 1005  979] / [1920 = 640 bits * 3 realisations]\n"
     ]
    },
    {
     "name": "stderr",
     "output_type": "stream",
     "text": [
      "100%|██████████| 48/48 [00:29<00:00,  1.60it/s]\n"
     ]
    },
    {
     "name": "stdout",
     "output_type": "stream",
     "text": [
      "128 symbols: errors found = [ 537  531  672 1058 1451 1677 1819 1854 1866 1865 1935 1934 1975 1955\n",
      " 1889 1942] / [3840 = 1280 bits * 3 realisations]\n"
     ]
    },
    {
     "name": "stderr",
     "output_type": "stream",
     "text": [
      "100%|██████████| 48/48 [00:56<00:00,  1.17s/it]\n"
     ]
    },
    {
     "name": "stdout",
     "output_type": "stream",
     "text": [
      "256 symbols: errors found = [1114 1041 1313 2066 2842 3396 3600 3596 3800 3851 3888 3890 3829 3911\n",
      " 3893 3928] / [7680 = 2560 bits * 3 realisations]\n"
     ]
    },
    {
     "name": "stderr",
     "output_type": "stream",
     "text": [
      "100%|██████████| 48/48 [01:58<00:00,  2.46s/it]"
     ]
    },
    {
     "name": "stdout",
     "output_type": "stream",
     "text": [
      "512 symbols: errors found = [2187 2019 2608 4144 5749 6724 7177 7372 7501 7689 7703 7849 7685 7774\n",
      " 7803 7791] / [15360 = 5120 bits * 3 realisations]\n"
     ]
    },
    {
     "name": "stderr",
     "output_type": "stream",
     "text": [
      "\n"
     ]
    }
   ],
   "source": [
    "# test the impact of ber vs normalization factor for multiple n_symbols\n",
    "ssf = SplitStepFourier(\n",
    "    b2=-20e-27,\n",
    "    gamma=0.003,\n",
    "    t0=125e-12,\n",
    "    z_n=1000e3,\n",
    "    dt=1,\n",
    "    h=200\n",
    ")\n",
    "cs = ChannelSimulator(m_qam=16,dt=1, verbose=False, ssf=ssf)\n",
    "\n",
    "num_realisations = 3\n",
    "# us_vec = multi_run.create_us_vec(n_steps=16, min_u=-3.5, max_u=1)\n",
    "us_vec = np.linspace(start=0.001,stop=0.1,num=16)\n",
    "N_symbols_vec = np.array([64, 128, 256, 512])\n",
    "\n",
    "with np.printoptions(precision=2):\n",
    "    print(f'normalizing factors are: {us_vec}')\n",
    "\n",
    "    bers_vec, legends = [], []\n",
    "    for n_sym in N_symbols_vec:\n",
    "        cs.num_symbols = n_sym\n",
    "        bers, errs = multi_run.ber_vs_us(cs, us_vec, n_realisations=num_realisations)\n",
    "        print(f'{n_sym} symbols: errors found = {errs} / [{cs.length_of_msg * num_realisations} '\n",
    "              f'= {cs.length_of_msg} bits * {num_realisations} realisations]')\n",
    "        bers_vec.append(bers)\n",
    "        legends.append(f'{n_sym} symbols')"
   ]
  },
  {
   "cell_type": "code",
   "execution_count": 17,
   "metadata": {
    "collapsed": false,
    "pycharm": {
     "name": "#%%\n"
    }
   },
   "outputs": [
    {
     "data": {
      "image/png": "[encoded data removed]",
      "text/plain": [
       "<Figure size 720x360 with 1 Axes>"
      ]
     },
     "metadata": {
      "needs_background": "light"
     },
     "output_type": "display_data"
    }
   ],
   "source": [
    "Visualizer.plot_bers(us_vec, bers_vec, legends)"
   ]
  },
  {
   "cell_type": "code",
   "execution_count": null,
   "metadata": {
    "collapsed": false,
    "pycharm": {
     "name": "#%%\n"
    }
   },
   "outputs": [],
   "source": []
  }
 ],
 "metadata": {
  "colab": {
   "collapsed_sections": [],
   "name": "research.ipynb",
   "provenance": [],
   "toc_visible": true
  },
  "kernelspec": {
   "display_name": "Python 3 (ipykernel)",
   "language": "python",
   "name": "python3"
  },
  "language_info": {
   "codemirror_mode": {
    "name": "ipython",
    "version": 3
   },
   "file_extension": ".py",
   "mimetype": "text/x-python",
   "name": "python",
   "nbconvert_exporter": "python",
   "pygments_lexer": "ipython3",
   "version": "3.10.4"
  }
 },
 "nbformat": 4,
 "nbformat_minor": 1
}
