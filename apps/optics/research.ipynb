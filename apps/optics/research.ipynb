{
 "cells": [
  {
   "cell_type": "code",
   "execution_count": 1,
   "metadata": {},
   "outputs": [],
   "source": [
    "# initial setup for any notebook\n",
    "\n",
    "%load_ext autoreload\n",
    "%autoreload 2\n",
    "import sys\n",
    "sys.path.append(\"/home/yarcoh/projects/thesis-code4\") # go to parent dir"
   ]
  },
  {
   "cell_type": "code",
   "execution_count": 2,
   "metadata": {
    "pycharm": {
     "name": "#%%\n"
    }
   },
   "outputs": [],
   "source": [
    "import numpy as np\n",
    "import matplotlib.pyplot as plt\n",
    "from tqdm import tqdm\n",
    "\n",
    "from src.general_methods import multi_run\n",
    "from src.optics.channel_simulation import ChannelSimulator\n",
    "from src.optics.split_step_fourier import SplitStepFourier\n",
    "from src.general_methods.visualizer import Visualizer"
   ]
  },
  {
   "cell_type": "markdown",
   "metadata": {
    "id": "HKsfiiw71FpJ",
    "pycharm": {
     "name": "#%% md\n"
    }
   },
   "source": [
    "# Deep Learning research"
   ]
  },
  {
   "cell_type": "markdown",
   "metadata": {
    "id": "DanJa6wK1WYh",
    "pycharm": {
     "name": "#%% md\n"
    }
   },
   "source": [
    "## BER vs normalization factor"
   ]
  },
  {
   "cell_type": "code",
   "execution_count": null,
   "metadata": {
    "pycharm": {
     "name": "#%%\n"
    }
   },
   "outputs": [],
   "source": [
    "# test the impact of ber vs normalization factor for multiple n_symbols\n",
    "ssf = SplitStepFourier(\n",
    "    b2=-20e-27,\n",
    "    gamma=0.003,\n",
    "    t0=125e-12,\n",
    "    z_n=1000e3,\n",
    "    dt=1,\n",
    "    h=200\n",
    ")\n",
    "cs = ChannelSimulator(m_qam=16,dt=1, verbose=False, ssf=ssf)\n",
    "\n",
    "num_realisations = 3\n",
    "# us_vec = multi_run.create_us_vec(n_steps=16, min_u=-3.5, max_u=1)\n",
    "us_vec = np.linspace(start=0.001,stop=0.1,num=16)\n",
    "N_symbols_vec = np.array([64, 128, 256, 512])\n",
    "\n",
    "with np.printoptions(precision=2):\n",
    "    print(f'normalizing factors are: {us_vec}')\n",
    "\n",
    "    bers_vec, legends = [], []\n",
    "    for n_sym in N_symbols_vec:\n",
    "        cs.num_symbols = n_sym\n",
    "        bers, errs = multi_run.ber_vs_us(cs, us_vec, n_realisations=num_realisations)\n",
    "        print(f'{n_sym} symbols: errors found = {errs} / [{cs.length_of_msg * num_realisations} '\n",
    "              f'= {cs.length_of_msg} bits * {num_realisations} realisations]')\n",
    "        bers_vec.append(bers)\n",
    "        legends.append(f'{n_sym} symbols')"
   ]
  },
  {
   "cell_type": "code",
   "execution_count": null,
   "metadata": {
    "collapsed": false,
    "pycharm": {
     "name": "#%%\n"
    }
   },
   "outputs": [],
   "source": [
    "Visualizer.plot_bers(us_vec, bers_vec, legends)"
   ]
  }
 ],
 "metadata": {
  "colab": {
   "collapsed_sections": [],
   "name": "research.ipynb",
   "provenance": [],
   "toc_visible": true
  },
  "kernelspec": {
   "display_name": "Python 3 (ipykernel)",
   "language": "python",
   "name": "python3"
  },
  "language_info": {
   "codemirror_mode": {
    "name": "ipython",
    "version": 3
   },
   "file_extension": ".py",
   "mimetype": "text/x-python",
   "name": "python",
   "nbconvert_exporter": "python",
   "pygments_lexer": "ipython3",
   "version": "3.10.4"
  }
 },
 "nbformat": 4,
 "nbformat_minor": 1
}
