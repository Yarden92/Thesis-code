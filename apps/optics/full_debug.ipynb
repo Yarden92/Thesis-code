{
 "cells": [
  {
   "cell_type": "code",
   "execution_count": null,
   "metadata": {
    "pycharm": {
     "name": "#%%\n"
    }
   },
   "outputs": [],
   "source": [
    "# initial setup for any notebook\n",
    "\n",
    "%load_ext autoreload\n",
    "%autoreload 2\n",
    "import sys\n",
    "sys.path.append(\"/home/yarcoh/projects/thesis-code4\") # go to parent dir"
   ]
  },
  {
   "cell_type": "code",
   "execution_count": null,
   "metadata": {
    "pycharm": {
     "name": "#%%\n"
    }
   },
   "outputs": [],
   "source": [
    "import numpy as np\n",
    "from ModulationPy import ModulationPy\n",
    "from commpy import rrcosfilter\n",
    "from matplotlib import pyplot as plt\n",
    "\n",
    "from src.optics.split_step_fourier import SplitStepFourier\n",
    "from src.general_methods.visualizer import Visualizer\n",
    "from src.optics.myFNFTpy.FNFTpy import nsev_inverse_xi_wrapper, nsev_inverse, nsev"
   ]
  },
  {
   "cell_type": "markdown",
   "metadata": {
    "pycharm": {
     "name": "#%% md\n"
    }
   },
   "source": [
    "### 0) input message:\n",
    "we choose number of bits based on the number of symbols we want\n",
    "\n",
    "so, number of bits: $ N_b = N_s*N_{sps} = 2048 $\n",
    "where $ N_{sps} = log_2(M_{QAM}) = 4 $ is the num of samples per symbol\n",
    "\n",
    "we get:\n",
    "$ b=[b_0, b_1, ..., b_{N_b}] : b_i\\in{0,1} \\; \\forall i$"
   ]
  },
  {
   "cell_type": "code",
   "execution_count": null,
   "metadata": {
    "pycharm": {
     "name": "#%%\n"
    }
   },
   "outputs": [],
   "source": [
    "m_qam = 16\n",
    "num_symbols = 512\n",
    "sps = int(np.log2(m_qam))\n",
    "length_of_msg = num_symbols*sps\n",
    "x0 = np.random.choice([0, 1], size=length_of_msg)\n",
    "\n",
    "# plot\n",
    "Visualizer.print_bits(x0, sps, 'message before channel')"
   ]
  },
  {
   "cell_type": "markdown",
   "metadata": {
    "pycharm": {
     "name": "#%% md\n"
    }
   },
   "source": [
    "### 1) Modulation\n",
    "$ s = f_{MOD}(b) = [s_0, s_1, ... , s_{N_s}] : s_i = a_i + jb_i $\n",
    "\n",
    "s.t:\n",
    "$ f_{MOD}:B^{N_s*N_{sps}} \\rightarrow C^{N_s}  $\n",
    "$ N_s = 512 $"
   ]
  },
  {
   "cell_type": "code",
   "execution_count": null,
   "metadata": {
    "pycharm": {
     "name": "#%%\n"
    }
   },
   "outputs": [],
   "source": [
    "modem = ModulationPy.QAMModem(m_qam, soft_decision=False)\n",
    "x1 = modem.modulate(x0)\n",
    "\n",
    "# plot\n",
    "Visualizer.plot_constellation_map_with_points(x1, m_qam, 'clean before channel')\n",
    "fig, (ax1, ax2) = plt.subplots(1, 2, figsize=(11, 4))\n",
    "Visualizer.my_plot(np.real(x1[0:30]), function='stem', name='i (real)', ax=ax1, hold=1)\n",
    "Visualizer.my_plot(np.imag(x1[0:30]), function='stem', name='q (imag)', ax=ax2)\n",
    "print(f'num of symbols = {len(x1)}')"
   ]
  },
  {
   "cell_type": "markdown",
   "metadata": {
    "pycharm": {
     "name": "#%% md\n"
    }
   },
   "source": [
    "### 2) over sampling\n",
    "\n",
    "$ \\hat s = [s_0, [0, 0, ..., 0], s_1, [0, 0, ..., 0], ..., s_{\\hat N}, [0, 0, ..., 0]] $\n",
    "\n",
    "s.t:\n",
    "\n",
    "$ \\hat s \\in R^{\\hat N} : \\hat N = N_s*N_{os}= 4096 $ <br>\n",
    "$ N_{os} = 8 $"
   ]
  },
  {
   "cell_type": "code",
   "execution_count": null,
   "metadata": {
    "pycharm": {
     "name": "#%%\n"
    }
   },
   "outputs": [],
   "source": [
    "over_sampling = 8  # sampling rate\n",
    "\n",
    "x2 = np.zeros(over_sampling*len(x1), dtype=np.complex64)\n",
    "x2[::over_sampling] = x1\n",
    "\n",
    "# plot\n",
    "Visualizer.my_plot(np.real(x2[0:50]), name='zero padded - i (real)', function='stem')\n",
    "print(f'vec length = {len(x2)}, over_sampling period = {over_sampling}')"
   ]
  },
  {
   "cell_type": "markdown",
   "metadata": {
    "pycharm": {
     "name": "#%% md\n"
    }
   },
   "source": [
    "### 3) Pulse shaping\n",
    "$ X[\\xi] = h \\circledast s  $\n",
    "\n",
    "length of h, $N_h$ is chosen such that the length of X, $N_X$ will be the next closest power of 2\n",
    "* (unless its too small [less than 100], so we skip to the next closest power of 2)\n",
    "\n",
    "for $ \\hat N = 4096 $ we chose $ N_h = 4097 $\n",
    "and we get $ N_X = 8192 $"
   ]
  },
  {
   "cell_type": "code",
   "execution_count": null,
   "metadata": {
    "pycharm": {
     "name": "#%%\n"
    }
   },
   "outputs": [],
   "source": [
    "roll_off = 0.25  # filter roll-off factor\n",
    "Ts = 3000  # symbol period\n",
    "\n",
    "lenx = len(x2)\n",
    "desired_len = int(2 ** np.ceil(np.log2(lenx)))  # the next power of 2\n",
    "if desired_len - lenx < 100:\n",
    "    desired_len = int(2 ** (1 + np.ceil(np.log2(lenx))))  # the next next power of 2\n",
    "\n",
    "N_rrc = int(np.ceil(desired_len - lenx)) + 1\n",
    "alpha: float = roll_off  # default = 0.25\n",
    "fs = over_sampling/Ts\n",
    "h_ind, h_rrc = rrcosfilter(N_rrc, alpha, Ts, fs)\n",
    "x3 = np.convolve(h_rrc, x2)  # Waveform with PSF\n",
    "\n",
    "# xi axis should be 1/ over sampling\n",
    "\n",
    "#plot\n",
    "zm = range(N_rrc//2, N_rrc//2 + 24)\n",
    "# zm = range(2000, 2000 + 24)\n",
    "Visualizer.twin_zoom_plot('|h_rrc filter|^2', np.abs(h_rrc) ** 2, zm)\n",
    "# Visualizer.twin_zoom_plot('real{X(xi) * h(xi)}', np.real(x3), range(0, N_rrc))\n",
    "Visualizer.twin_zoom_plot('real{X(xi) * h(xi)}', np.real(x3), range(2000, 2024))\n",
    "\n",
    "print(f'filter len = {N_rrc}, signal len = {len(x3)}')"
   ]
  },
  {
   "attachments": {},
   "cell_type": "markdown",
   "metadata": {
    "pycharm": {
     "name": "#%% md\n"
    }
   },
   "source": [
    "### 4) pre-equalize\n",
    " - normalize by $\\mu$:   $ \\hat X(\\xi) = X \\cdot A_\\mu$\n",
    " - scaling amplitude to [-1,1]:\n",
    "   - $ A = |\\hat X(\\xi)| $\n",
    "   - $ \\phi = \\angle \\hat X(\\xi) $\n",
    "   - $ \\hat{A} = \\sigma(A) $\n",
    "   - $ \\tilde {X} = \\hat{A} e^{j\\phi} $\n"
   ]
  },
  {
   "cell_type": "code",
   "execution_count": null,
   "metadata": {
    "pycharm": {
     "name": "#%%\n"
    }
   },
   "outputs": [],
   "source": [
    "normalization_factor: float = 0.32\n",
    "# normalization_factor: float = 1e3\n",
    "x41 = normalization_factor*x3\n",
    "#scaling\n",
    "    #get amp_phase\n",
    "amp = np.abs(x41)\n",
    "phase = np.angle(x41)\n",
    "    # sigmoid\n",
    "    # TODO: take the scaling function from stas' doc\n",
    "scaled_amp = 2 / (1 + np.exp(-amp)) - 1\n",
    "    # get complex from amp_phase\n",
    "x4 = scaled_amp * np.exp(1j * phase)\n",
    "\n",
    "# plot\n",
    "Visualizer.double_plot('real',np.real(x41),np.real(x4),None,None,'normalized signal','scaled signal')\n",
    "Visualizer.double_plot('real',np.real(x41),np.real(x4),xivec/8,xivec/8,'normalized signal','scaled signal')"
   ]
  },
  {
   "cell_type": "markdown",
   "metadata": {
    "pycharm": {
     "name": "#%% md\n"
    }
   },
   "source": [
    "### 5) INFT\n",
    "\n",
    "$ x(t) = \\mathcal{F}^{-1}\\{\\hat X\\} $\n",
    "\n",
    "with the following params:\n",
    "* $ N_\\xi = N_{sps} \\cdot N_{os} = len(\\hat X) $\n",
    "* $ N_t = 2 ^ {\\lfloor log_2(N_\\xi) \\rfloor}$\n",
    "* $ t = [\\frac{-N_t}{2}:\\frac{N_t}{2}] * dt $"
   ]
  },
  {
   "cell_type": "code",
   "execution_count": null,
   "metadata": {
    "pycharm": {
     "name": "#%%\n"
    }
   },
   "outputs": [],
   "source": [
    "# generate INFT params:\n",
    "N_xi = len(x3)\n",
    "N_time = int(2 ** np.floor(np.log2(N_xi)))  # (=D)\n",
    "dt = 1/N_time#e-12\n",
    "# dt = dt / t0 # TODO:\n",
    "tvec = np.arange(start=-N_time/2, stop=N_time/2)*dt  # np.linspace(-t0, t0, N_time)\n",
    "rv, xi = nsev_inverse_xi_wrapper(N_time, tvec[0], tvec[-1], N_xi, display_c_msg=True)\n",
    "xivec = xi[0] + np.arange(N_xi)*(xi[1] - xi[0])/(N_xi - 1)\n",
    "dxi= xivec[1] - xivec[0]\n",
    "BW = xivec.max()/8\n",
    "\n",
    "#plot\n",
    "print(\n",
    "    f'dxi = {dxi/1:.2f} Hz\\n'\n",
    "    f'xi ∈ [{xivec[0]/1:.2f}:{xivec[-1]/1:.2f}] Hz ,\\t N_xi   (=M) = {N_xi}\\n'\n",
    "    f't  ∈ [{tvec[0]*1:.2f}:{tvec[-1]*1:.2f}] s  ,\\t N_time (=D) = {N_time}\\n'\n",
    "    f'BW = {BW/1:.2f} Hz'\n",
    ")\n",
    "# Visualizer.twin_zoom_plot('real{X(xi)}', np.real(x4), range(4000, 4200), xivec, xlabel='xi')\n"
   ]
  },
  {
   "cell_type": "code",
   "execution_count": null,
   "metadata": {},
   "outputs": [],
   "source": [
    "xi"
   ]
  },
  {
   "cell_type": "code",
   "execution_count": null,
   "metadata": {
    "pycharm": {
     "name": "#%%\n"
    }
   },
   "outputs": [],
   "source": [
    "# INFT\n",
    "contspec = x4\n",
    "bound_states = []  # np.array([0.7j, 1.7j])\n",
    "discspec = []  # [1.0, -1.0]\n",
    "\n",
    "cst = 1  # continuous spectrum type - default is None\n",
    "dst = 0  # default is None\n",
    "\n",
    "res = nsev_inverse(xivec, tvec, contspec, bound_states, discspec,\n",
    "                   cst=cst, dst=dst, display_c_msg=True)\n",
    "\n",
    "assert res['return_value'] == 0, \"INFT failed\"\n",
    "x5 = res['q']  # q[t,0]\n",
    "\n",
    "# plot\n",
    "print(f'length of INFT(x) = {len(x5)}')\n",
    "Visualizer.print_signal_specs(x5, tvec)\n",
    "Visualizer.twin_zoom_plot('real{X(t)}', np.real(x5), range(4000, 4200), tvec, 't')"
   ]
  },
  {
   "attachments": {},
   "cell_type": "markdown",
   "metadata": {
    "pycharm": {
     "name": "#%% md\n"
    }
   },
   "source": [
    "### 6) SSF\n",
    "\n",
    "now we go through the SSF channel\n",
    "which has N iterations\n",
    "\n",
    "#### algorithm:\n",
    "* $a\\in \\mathbb{C}^{N_t}$\n",
    "* $a = a \\cdot \\sqrt{P_0}$\n",
    "* $w = [0,...,\\frac{N_t}{2}-1,\\frac{-N_t}{2},...,-1] \\cdot \\frac{2 \\pi}{N_t \\cdot dt}$\n",
    "* $ v_1 = \\exp\\left(\\frac{j \\cdot \\beta_2}{2} \\cdot w^2 \\cdot \\frac{\\Delta_z}{2}\\right) $\n",
    "* $a = \\mathcal{F}(a)$\n",
    "* Loop $N=\\frac{Z_N}{\\Delta_z}$ times:\n",
    "    * $a = \\mathcal{F}^{-1}(a \\cdot v_1)$\n",
    "    * $n\\in\\mathbb{C}^{N_t} \\sim N(0,1)$\n",
    "    * $a = a + \\sqrt{\\frac{D\\cdot \\Delta_z}{dt}}\\cdot n$\n",
    "    * $a = a \\cdot \\exp\\left(j \\cdot \\gamma \\cdot \\Delta_z \\cdot |a|^2\\right)$\n",
    "    * $a = v_1 \\cdot \\mathcal{F}(a)$\n",
    "* $a = \\mathcal{F}^{-1}(a)$\n",
    "* $a = a \\cdot \\frac{1}{\\sqrt{P_0}}$\n"
   ]
  },
  {
   "cell_type": "code",
   "execution_count": null,
   "metadata": {
    "pycharm": {
     "name": "#%%\n"
    }
   },
   "outputs": [],
   "source": [
    "ssf = SplitStepFourier(\n",
    "    b2=-20e-27, # units of SI (s^2/m)\n",
    "    gamma=0.003,\n",
    "    t0=125e-12,\n",
    "    dt=1,\n",
    "    z_n=1000e3,\n",
    "    dz=200,\n",
    "    with_noise=True,\n",
    "    verbose=True\n",
    ")\n",
    "\n",
    "x6 = ssf(x5)\n",
    "\n",
    "Visualizer.twin_zoom_plot('real X(xi)', np.real(x6), range(4000, 4200))"
   ]
  },
  {
   "cell_type": "markdown",
   "metadata": {
    "pycharm": {
     "name": "#%% md\n"
    }
   },
   "source": [
    "### 7) NFT\n",
    "nft back to $ \\xi $ domain"
   ]
  },
  {
   "cell_type": "code",
   "execution_count": null,
   "metadata": {
    "pycharm": {
     "name": "#%%\n"
    }
   },
   "outputs": [],
   "source": [
    "res = nsev(x6, tvec, Xi1=-BW, Xi2=BW, M=N_xi, display_c_msg=True)\n",
    "assert res['return_value'] == 0, \"NFT failed\"\n",
    "x7 = res['cont_ref']  # r[xi,L]\n",
    "\n",
    "# plot\n",
    "zm = range(int(N_rrc/2), int(0.5*N_rrc+500))\n",
    "Visualizer.twin_zoom_plot('real {X(xi)}', np.real(x7), zm, xivec, 'xi[Hz]')\n",
    "Visualizer.twin_zoom_plot('reference before INFT', np.real(x4),zm, xivec, 'xi[Hz]')\n"
   ]
  },
  {
   "cell_type": "markdown",
   "metadata": {
    "pycharm": {
     "name": "#%% md\n"
    }
   },
   "source": [
    "### 8) Equalizer\n",
    "normalize back\n",
    "$ \\hat X(\\xi) = X / A_\\mu$\n",
    "\n",
    "and later on the deep learning model should be placed here\n"
   ]
  },
  {
   "cell_type": "code",
   "execution_count": null,
   "metadata": {
    "pycharm": {
     "name": "#%%\n"
    }
   },
   "outputs": [],
   "source": [
    "#descale\n",
    "    #get amp_phase\n",
    "amp = np.abs(x7)\n",
    "phase = np.angle(x7)\n",
    "    # desigmoid\n",
    "descaled_amp = -np.log((2 / (amp + 1)) - 1)\n",
    "    # get complex from amp_phase\n",
    "x71 = descaled_amp * np.exp(1j * phase)\n",
    "\n",
    "# normalize\n",
    "x8 = x71 / normalization_factor\n",
    "\n",
    "# plot\n",
    "Visualizer.double_plot('real',np.real(x71),np.real(x8),None,None,'descaled signal','denormalized signal')"
   ]
  },
  {
   "cell_type": "markdown",
   "metadata": {
    "pycharm": {
     "name": "#%% md\n"
    }
   },
   "source": [
    "### 9) Match Filter\n",
    "convolve again with the rrc filter and sample every $ N_{over sample}=8 $ points, those points are free from inter symbol interference (aliasing)"
   ]
  },
  {
   "cell_type": "code",
   "execution_count": null,
   "metadata": {},
   "outputs": [],
   "source": [
    "# plot x8, y1 and h_rrc\n",
    "y1 = np.convolve(x8, h_rrc)\n",
    "print(f'normalization_factor={normalization_factor}')\n",
    "\n",
    "Visualizer.double_plot(f'real, mu={normalization_factor}',np.real(x8),np.imag(x8),None,None,'real(x8)','imag{x8}')\n",
    "Visualizer.double_plot('real',np.real(y1),np.imag(y1),None,None,'real{y1}','imag{y1}')\n",
    "Visualizer.double_plot('real',np.real(h_rrc),np.imag(h_rrc),None,None,'real{h_rrc}','imag{h_rrc}')\n"
   ]
  },
  {
   "cell_type": "code",
   "execution_count": null,
   "metadata": {
    "pycharm": {
     "name": "#%%\n"
    }
   },
   "outputs": [],
   "source": [
    "y1 = np.convolve(x8, h_rrc)\n",
    "\n",
    "# sampling the analog vector into discrete bits\n",
    "start = N_rrc\n",
    "stop = - N_rrc  # + over_sampling\n",
    "step = over_sampling\n",
    "x9 = y1[start:stop:step] / over_sampling\n",
    "\n",
    "Visualizer.twin_zoom_plot('analog signal after another conv (real)',np.real(y1),range(0,2*N_rrc))\n",
    "Visualizer.twin_zoom_plot('sampled bits (real)',np.real(x9),range(0,50),function='stem')\n",
    "Visualizer.plot_constellation_map_with_points(x9, m_qam, 'after depulse shaping')\n",
    "Visualizer.eye_diagram(x9, sps=sps)\n",
    "print(f'num of sampled symbols = {len(x9)} ')"
   ]
  },
  {
   "cell_type": "markdown",
   "metadata": {
    "pycharm": {
     "name": "#%% md\n"
    }
   },
   "source": [
    "### 10) demodulation\n",
    "restore back from i q symbols to bits"
   ]
  },
  {
   "cell_type": "code",
   "execution_count": null,
   "metadata": {
    "pycharm": {
     "name": "#%%\n"
    }
   },
   "outputs": [],
   "source": [
    "x10 = modem.demodulate(x9)\n",
    "\n",
    "#plot\n",
    "Visualizer.print_bits(x10, sps, 'message after channel')"
   ]
  },
  {
   "cell_type": "markdown",
   "metadata": {
    "pycharm": {
     "name": "#%% md\n"
    }
   },
   "source": [
    "### Evaluate:\n",
    "calculate ber"
   ]
  },
  {
   "cell_type": "code",
   "execution_count": null,
   "metadata": {
    "pycharm": {
     "name": "#%%\n"
    }
   },
   "outputs": [],
   "source": [
    "num_errors = (x0 != x10).sum()\n",
    "ber = num_errors / length_of_msg\n",
    "\n",
    "print(f'ber = {ber} = {num_errors}/{length_of_msg}')\n"
   ]
  },
  {
   "cell_type": "code",
   "execution_count": null,
   "metadata": {},
   "outputs": [],
   "source": []
  }
 ],
 "metadata": {
  "kernelspec": {
   "display_name": "thesis-code",
   "language": "python",
   "name": "python3"
  },
  "language_info": {
   "codemirror_mode": {
    "name": "ipython",
    "version": 3
   },
   "file_extension": ".py",
   "mimetype": "text/x-python",
   "name": "python",
   "nbconvert_exporter": "python",
   "pygments_lexer": "ipython3",
   "version": "3.10.4"
  },
  "vscode": {
   "interpreter": {
    "hash": "c0a8cf00f4e09cef0661bc3e9b67cf1f3d3e882c9a548070cdf2902bc9e493cd"
   }
  }
 },
 "nbformat": 4,
 "nbformat_minor": 1
}
