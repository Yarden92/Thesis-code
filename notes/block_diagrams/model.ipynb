{
 "cells": [
  {
   "cell_type": "code",
   "execution_count": 4,
   "outputs": [
    {
     "name": "stdout",
     "output_type": "stream",
     "text": [
      "Requirement already satisfied: blockdiag in /Users/yarden/Desktop/projects/thesis_stuff/Thesis-code/venv/lib/python3.9/site-packages (3.0.0)\r\n",
      "Requirement already satisfied: Pillow>3.0 in /Users/yarden/Desktop/projects/thesis_stuff/Thesis-code/venv/lib/python3.9/site-packages (from blockdiag) (9.0.1)\r\n",
      "Requirement already satisfied: funcparserlib>=1.0.0a0 in /Users/yarden/Desktop/projects/thesis_stuff/Thesis-code/venv/lib/python3.9/site-packages (from blockdiag) (1.0.0)\r\n",
      "Requirement already satisfied: webcolors in /Users/yarden/Desktop/projects/thesis_stuff/Thesis-code/venv/lib/python3.9/site-packages (from blockdiag) (1.12)\r\n",
      "Requirement already satisfied: setuptools in /Users/yarden/Desktop/projects/thesis_stuff/Thesis-code/venv/lib/python3.9/site-packages (from blockdiag) (60.8.1)\r\n",
      "\u001B[33mWARNING: You are using pip version 22.0.3; however, version 22.2.2 is available.\r\n",
      "You should consider upgrading via the '/Users/yarden/Desktop/projects/thesis_stuff/Thesis-code/venv/bin/python -m pip install --upgrade pip' command.\u001B[0m\u001B[33m\r\n",
      "\u001B[0m"
     ]
    }
   ],
   "source": [
    "# installation\n",
    "import os\n",
    "!pip install blockdiag"
   ],
   "metadata": {
    "collapsed": false,
    "pycharm": {
     "name": "#%%\n"
    }
   }
  },
  {
   "cell_type": "code",
   "execution_count": 5,
   "outputs": [],
   "source": [
    "x = \"\"\"\n",
    "blockdiag {\n",
    "\n",
    "}\n",
    "\"\"\"\n"
   ],
   "metadata": {
    "collapsed": false,
    "pycharm": {
     "name": "#%%\n"
    }
   }
  },
  {
   "cell_type": "code",
   "execution_count": 6,
   "outputs": [
    {
     "data": {
      "image/png": "[encoded data removed]",
      "text/plain": "<IPython.core.display.Image object>"
     },
     "execution_count": 6,
     "metadata": {},
     "output_type": "execute_result"
    }
   ],
   "source": [
    "from IPython.display import Image\n",
    "with open('diagram.diag', 'w') as file:\n",
    "    file.write(x)\n",
    "!blockdiag 'diagram.diag'\n",
    "Image(filename='diagram.png')"
   ],
   "metadata": {
    "collapsed": false,
    "pycharm": {
     "name": "#%%\n"
    }
   }
  },
  {
   "cell_type": "code",
   "execution_count": 7,
   "outputs": [],
   "source": [
    "# clear files\n",
    "os.remove('diagram.png')\n",
    "os.remove('diagram.diag')"
   ],
   "metadata": {
    "collapsed": false,
    "pycharm": {
     "name": "#%%\n"
    }
   }
  },
  {
   "cell_type": "code",
   "execution_count": 7,
   "outputs": [],
   "source": [],
   "metadata": {
    "collapsed": false,
    "pycharm": {
     "name": "#%%\n"
    }
   }
  }
 ],
 "metadata": {
  "kernelspec": {
   "display_name": "Python 3",
   "language": "python",
   "name": "python3"
  },
  "language_info": {
   "codemirror_mode": {
    "name": "ipython",
    "version": 2
   },
   "file_extension": ".py",
   "mimetype": "text/x-python",
   "name": "python",
   "nbconvert_exporter": "python",
   "pygments_lexer": "ipython2",
   "version": "2.7.6"
  }
 },
 "nbformat": 4,
 "nbformat_minor": 0
}