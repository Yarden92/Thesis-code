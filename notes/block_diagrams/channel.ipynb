{
 "cells": [
  {
   "cell_type": "code",
   "execution_count": 1,
   "metadata": {
    "collapsed": false,
    "pycharm": {
     "name": "#%%\n"
    }
   },
   "outputs": [
    {
     "name": "stdout",
     "output_type": "stream",
     "text": [
      "Collecting blockdiag\n",
      "  Downloading blockdiag-3.0.0-py3-none-any.whl (2.7 MB)\n",
      "\u001b[2K     \u001b[90m━━━━━━━━━━━━━━━━━━━━━━━━━━━━━━━━━━━━━━━━\u001b[0m \u001b[32m2.7/2.7 MB\u001b[0m \u001b[31m5.7 MB/s\u001b[0m eta \u001b[36m0:00:00\u001b[0m00:01\u001b[0m00:01\u001b[0m0m\n",
      "\u001b[?25hCollecting webcolors\n",
      "  Downloading webcolors-1.13-py3-none-any.whl (14 kB)\n",
      "Collecting funcparserlib>=1.0.0a0\n",
      "  Downloading funcparserlib-1.0.1-py2.py3-none-any.whl (17 kB)\n",
      "Requirement already satisfied: setuptools in /home/yarcoh/miniconda3/envs/thesis-code/lib/python3.10/site-packages (from blockdiag) (63.4.1)\n",
      "Requirement already satisfied: Pillow>3.0 in /home/yarcoh/miniconda3/envs/thesis-code/lib/python3.10/site-packages (from blockdiag) (9.2.0)\n",
      "Installing collected packages: webcolors, funcparserlib, blockdiag\n",
      "Successfully installed blockdiag-3.0.0 funcparserlib-1.0.1 webcolors-1.13\n"
     ]
    }
   ],
   "source": [
    "# installation\n",
    "import os\n",
    "from IPython.display import Image\n",
    "!pip install blockdiag"
   ]
  },
  {
   "cell_type": "code",
   "execution_count": 5,
   "metadata": {
    "collapsed": false,
    "pycharm": {
     "name": "#%%\n"
    }
   },
   "outputs": [],
   "source": [
    "x = \"\"\"\n",
    "blockdiag {\n",
    "    default_fontsize=12;\n",
    "    // Set labels to nodes.\n",
    "    step0 [label = \"generate msg\"];\n",
    "    step1 [label = \"modulate\"];\n",
    "    step2 [label = \"over sample\"];\n",
    "    step3 [label = \"pulse shaping\"];\n",
    "    step4 [label = \"pre-equalize\"];\n",
    "    step5 [label = \"INFT\"];\n",
    "    step6 [label = \"channel\"];\n",
    "    step7 [label = \"NFT\"];\n",
    "    step8 [label = \"equalize\"];\n",
    "    step9 [label = \"match filter\"];\n",
    "    step10 [label = \"demodulate\"];\n",
    "\n",
    "    // Set labels to edges. (short text only)\n",
    "    step0 -> step1 [label = x0];\n",
    "    step1 -> step2 [label = x1, folded];\n",
    "    step2 -> step3 [label = x2];\n",
    "    step3 -> step4 [label = x3];\n",
    "    step4 -> step5 [label = x4, folded];\n",
    "    step5 -> step6 [label = x5];\n",
    "    step6 -> step7 [label = x6];\n",
    "    step7 -> step8 [label = x7, folded];\n",
    "    step8 -> step9 [label = x8];\n",
    "    step9 -> step10 [label= x0];\n",
    "    step4 -> x;\n",
    "    step7 -> y;\n",
    "\n",
    "    group {\n",
    "        label = \"Neural Network\"\n",
    "        fontsize = 16;\n",
    "        x; y;\n",
    "    }\n",
    "\n",
    "}\n",
    "\"\"\"\n"
   ]
  },
  {
   "cell_type": "code",
   "execution_count": 6,
   "metadata": {
    "collapsed": false,
    "pycharm": {
     "name": "#%%\n"
    }
   },
   "outputs": [
    {
     "data": {
      "image/png": "[encoded data removed]",
      "text/plain": [
       "<IPython.core.display.Image object>"
      ]
     },
     "execution_count": 6,
     "metadata": {},
     "output_type": "execute_result"
    }
   ],
   "source": [
    "with open('diagram.diag', 'w') as file:\n",
    "    file.write(x)\n",
    "!blockdiag 'diagram.diag'\n",
    "Image(filename='diagram.png')"
   ]
  },
  {
   "cell_type": "code",
   "execution_count": 4,
   "metadata": {
    "collapsed": false,
    "pycharm": {
     "name": "#%%\n"
    }
   },
   "outputs": [],
   "source": [
    "# clear files\n",
    "os.remove('diagram.png')\n",
    "os.remove('diagram.diag')"
   ]
  },
  {
   "cell_type": "code",
   "execution_count": null,
   "metadata": {
    "collapsed": false,
    "pycharm": {
     "name": "#%%\n"
    }
   },
   "outputs": [],
   "source": []
  }
 ],
 "metadata": {
  "kernelspec": {
   "display_name": "Python 3",
   "language": "python",
   "name": "python3"
  },
  "language_info": {
   "codemirror_mode": {
    "name": "ipython",
    "version": 3
   },
   "file_extension": ".py",
   "mimetype": "text/x-python",
   "name": "python",
   "nbconvert_exporter": "python",
   "pygments_lexer": "ipython3",
   "version": "3.10.4"
  }
 },
 "nbformat": 4,
 "nbformat_minor": 0
}
