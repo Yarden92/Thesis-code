{
 "cells": [
  {
   "cell_type": "code",
   "execution_count": 102,
   "outputs": [
    {
     "name": "stdout",
     "output_type": "stream",
     "text": [
      "Requirement already satisfied: blockdiag in /Users/yarden/Desktop/projects/thesis_stuff/Thesis-code/venv/lib/python3.9/site-packages (3.0.0)\r\n",
      "Requirement already satisfied: Pillow>3.0 in /Users/yarden/Desktop/projects/thesis_stuff/Thesis-code/venv/lib/python3.9/site-packages (from blockdiag) (9.0.1)\r\n",
      "Requirement already satisfied: webcolors in /Users/yarden/Desktop/projects/thesis_stuff/Thesis-code/venv/lib/python3.9/site-packages (from blockdiag) (1.12)\r\n",
      "Requirement already satisfied: setuptools in /Users/yarden/Desktop/projects/thesis_stuff/Thesis-code/venv/lib/python3.9/site-packages (from blockdiag) (60.8.1)\r\n",
      "Requirement already satisfied: funcparserlib>=1.0.0a0 in /Users/yarden/Desktop/projects/thesis_stuff/Thesis-code/venv/lib/python3.9/site-packages (from blockdiag) (1.0.0)\r\n",
      "\u001B[33mWARNING: You are using pip version 22.0.3; however, version 22.2.2 is available.\r\n",
      "You should consider upgrading via the '/Users/yarden/Desktop/projects/thesis_stuff/Thesis-code/venv/bin/python -m pip install --upgrade pip' command.\u001B[0m\u001B[33m\r\n",
      "\u001B[0m"
     ]
    }
   ],
   "source": [
    "# installation\n",
    "import os\n",
    "from IPython.display import Image\n",
    "!pip install blockdiag"
   ],
   "metadata": {
    "collapsed": false,
    "pycharm": {
     "name": "#%%\n"
    }
   }
  },
  {
   "cell_type": "code",
   "execution_count": 103,
   "outputs": [],
   "source": [
    "x = \"\"\"\n",
    "blockdiag {\n",
    "    default_fontsize=12;\n",
    "    // Set labels to nodes.\n",
    "    step0 [label = \"generate msg\"];\n",
    "    step1 [label = \"modulate\"];\n",
    "    step2 [label = \"over sample\"];\n",
    "    step3 [label = \"pulse shaping\"];\n",
    "    step4 [label = \"pre-equalize\"];\n",
    "    step5 [label = \"INFT\"];\n",
    "    step6 [label = \"channel\"];\n",
    "    step7 [label = \"NFT\"];\n",
    "    step8 [label = \"equalize\"];\n",
    "    step9 [label = \"match filter\"];\n",
    "    step10 [label = \"demodulate\"];\n",
    "\n",
    "    // Set labels to edges. (short text only)\n",
    "    step0 -> step1 [label = x0];\n",
    "    step1 -> step2 [label = x1, folded];\n",
    "    step2 -> step3 [label = x2];\n",
    "    step3 -> step4 [label = x3];\n",
    "    step4 -> step5 [label = x4, folded];\n",
    "    step5 -> step6 [label = x5];\n",
    "    step6 -> step7 [label = x6];\n",
    "    step7 -> step8 [label = x7, folded];\n",
    "    step8 -> step9 [label = x8];\n",
    "    step9 -> step10 [label= x0];\n",
    "    step4 -> x;\n",
    "    step7 -> y;\n",
    "\n",
    "    group {\n",
    "        label = \"Neural Network\"\n",
    "        fontsize = 16;\n",
    "        x; y;\n",
    "    }\n",
    "\n",
    "    group -> eq\n",
    "}\n",
    "\"\"\"\n"
   ],
   "metadata": {
    "collapsed": false,
    "pycharm": {
     "name": "#%%\n"
    }
   }
  },
  {
   "cell_type": "code",
   "execution_count": 104,
   "outputs": [
    {
     "data": {
      "image/png": "[encoded data removed]",
      "text/plain": "<IPython.core.display.Image object>"
     },
     "execution_count": 104,
     "metadata": {},
     "output_type": "execute_result"
    }
   ],
   "source": [
    "with open('diagram.diag', 'w') as file:\n",
    "    file.write(x)\n",
    "!blockdiag 'diagram.diag'\n",
    "Image(filename='diagram.png')"
   ],
   "metadata": {
    "collapsed": false,
    "pycharm": {
     "name": "#%%\n"
    }
   }
  },
  {
   "cell_type": "code",
   "execution_count": 105,
   "outputs": [],
   "source": [
    "# clear files\n",
    "os.remove('diagram.png')\n",
    "os.remove('diagram.diag')"
   ],
   "metadata": {
    "collapsed": false,
    "pycharm": {
     "name": "#%%\n"
    }
   }
  },
  {
   "cell_type": "code",
   "execution_count": 105,
   "outputs": [],
   "source": [],
   "metadata": {
    "collapsed": false,
    "pycharm": {
     "name": "#%%\n"
    }
   }
  }
 ],
 "metadata": {
  "kernelspec": {
   "display_name": "Python 3",
   "language": "python",
   "name": "python3"
  },
  "language_info": {
   "codemirror_mode": {
    "name": "ipython",
    "version": 2
   },
   "file_extension": ".py",
   "mimetype": "text/x-python",
   "name": "python",
   "nbconvert_exporter": "python",
   "pygments_lexer": "ipython2",
   "version": "2.7.6"
  }
 },
 "nbformat": 4,
 "nbformat_minor": 0
}