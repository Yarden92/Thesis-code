{
 "cells": [
  {
   "cell_type": "markdown",
   "metadata": {
    "collapsed": true,
    "pycharm": {
     "name": "#%% md\n"
    }
   },
   "source": [
    "# NFT Example\n",
    "### the input in time\n",
    "\n",
    "\n",
    "$q(t)=\\frac{2.2}{cosh(t)}$\n",
    "\n",
    "### the input in &xi; domain\n",
    "$c(\\xi)=\\frac{0.587783}{cosh(\\pi\\xi )} \\cdot e^{-\\pi j}$\n",
    "\n",
    "### params:\n",
    "* $t \\in [-15:15] : (N_t=1024)$\n",
    "* $\\xi \\in [-53:53] : (N_\\xi=2048)$\n",
    "\n",
    "\n",
    "### the INFT transform\n",
    "\n",
    "$c(\\xi) \\overset{INFT}{\\longrightarrow} \\hat{q}(t) : q(t)=\\hat{q}(t)$\n",
    "\n",
    "#### params of the INFT\n",
    "* \"discretization\": 4\n",
    "* \"contspec_type\": 1\n",
    "* \"contspec_inversion_method\": 0\n",
    "* \"discspec_type\": 0\n",
    "* \"max_iter\": 100\n",
    "* \"oversampling_factor\": 8"
   ]
  },
  {
   "cell_type": "markdown",
   "metadata": {
    "pycharm": {
     "name": "#%% md\n"
    }
   },
   "source": [
    "# split step example\n",
    "<h1><center>input signal</center></h1>\n",
    "<center> $ \\Large x = A_0 \\cdot e^{-{\\frac{1 - jC}{2}} \\cdot (\\frac{t}{t_0})^2} $ </center>\n",
    "<br>\n",
    "<center><table border=\"0\">\n",
    " <tr>\n",
    "    <td><h1>input params</h1></td>\n",
    "    <td><h1>SSF params</h1></td>\n",
    " </tr>\n",
    " <tr>\n",
    "    <td>\n",
    "        $t \\in  [-4096:4095] ps $ <br>\n",
    "        $ N_t = 8192 $ <br>\n",
    "        $ P_0 = 0.00064 $ <br>\n",
    "        $ A_0 = \\sqrt{P_0} $ <br>\n",
    "        $ C = -2 $ <br>\n",
    "        $ t_0 = 125ps $ <br>\n",
    "    </td>\n",
    "    <td>\n",
    "        $ \\beta_2 = -20*10^{-27} $ <br>\n",
    "        $ \\gamma = 0.003 $ <br>\n",
    "        $ t_0 = 125ps $ <br>\n",
    "        $ Z_N = 1.51 $ <br>\n",
    "        $ dt = 1ps  $ <br>\n",
    "        $ \\Delta_z = 1000 $ <br>\n",
    "    </td>\n",
    " </tr>\n",
    "</table>\n",
    "</center>\n",
    "\n",
    "input signal specs:\n",
    "- time spectral = [-0.32:0.32]*1e-9\n",
    "- power = 7.93"
   ]
  },
  {
   "cell_type": "markdown",
   "metadata": {
    "pycharm": {
     "name": "#%% md\n"
    }
   },
   "source": [
    "## split step algorithm:\n",
    "\n",
    "* $ w = [0,...,\\frac{N_t}{2},\\frac{-N_t}{2},...,-1] \\cdot \\frac{2 \\pi}{N_t*dt}  $\n",
    "* $ v_1 = exp(j\\Delta_z\\frac{\\beta_2}{2} w^2) $\n",
    "* $ \\st{N = \\frac{1}{\\Delta_z}(1 + Z_N \\cdot \\frac{t_0^2}{\\beta_2})} $\n",
    "* $ N = \\frac{Z_N}{\\Delta_z} $\n",
    "* $ a = x $\n",
    "* loop N times:\n",
    "    * $ a = \\mathcal{F}(a) \\cdot v_1 $\n",
    "    * $ a = \\mathcal{F}^{-1}(a) $\n",
    "    * $ a = a*exp(j \\gamma \\Delta_z |a|^2) $\n",
    "* return a\n",
    "\n",
    "paper:\n",
    "* $ L = T/dt $\n",
    "* K is spatial (z) domain\n",
    "\n",
    "* $ f = \\frac{\\beta_2}{2} (\\frac{2\\pi}{T})^2 (\\frac{L}{2} - | \\frac{L}{2} - l | )^2$\n",
    "* $ D = exp(j \\Delta_z f) $\n",
    "* loop K times:\n",
    "    * $ a = a * exp(j \\gamma \\Delta_z |a|^2 ) $\n",
    "    * $ a = \\mathcal{F}(a) $\n",
    "    * $ a = a * D $\n",
    "    * $ a = \\mathcal{F}^{-1}(a) $\n",
    "\n",
    "# TODO: what is K? is it equivalent to $ N = \\frac{1}{\\Delta_z}(1 + Z_N \\cdot \\frac{t_0^2}{\\beta_2}) $ ?"
   ]
  },
  {
   "cell_type": "markdown",
   "metadata": {
    "pycharm": {
     "name": "#%% md\n"
    }
   },
   "source": [
    "## Channel Simulation\n",
    "* msg\n",
    "    * [modulation]\n",
    "        * [oversample + pulse-shape]\n",
    "            * [pre-equalize]\n",
    "                * [INFT]\n",
    "                    * [channel]\n",
    "                * [INFT]\n",
    "            * [equalize]\n",
    "        * [match-filter]\n",
    "    * [Demodulation]\n",
    "* msg\n"
   ]
  },
  {
   "cell_type": "markdown",
   "metadata": {
    "pycharm": {
     "name": "#%% md\n"
    }
   },
   "source": [
    "\n",
    "# Channel Simulation\n",
    "\n",
    "<center><table border=\"0\">\n",
    " <tr>\n",
    "    <td><h1>Simulator params</h1></td>\n",
    "    <td><h1>SSF params</h1></td>\n",
    " </tr>\n",
    " <tr>\n",
    "    <td>\n",
    "        $ M_{QAM} = 16 $ <br>\n",
    "        $ \\text{num symbols: }N_s = 512 $ <br>\n",
    "        $ \\text{over sampling factor: }N_{os} = 8 $ <br>\n",
    "        $ \\text{normalization factor: }A_\\mu = 10^{-3} $ <br>\n",
    "        $ dt = 1ps $ <br>\n",
    "    </td>\n",
    "    <td>\n",
    "        $ \\alpha = 0 $ <br>\n",
    "        $ \\beta_2 = -20*10^{-27} $ <br>\n",
    "        $ \\gamma = 0.003 $ <br>\n",
    "        $ dt = 1ps $ <br>\n",
    "        $ T_0 = 125ps $ <br>\n",
    "        $ \\text{last step: }Z_N = 1 $ <br>\n",
    "        $ h = 500 $ <br>\n",
    "    </td>\n",
    " </tr>\n",
    "</table>\n",
    "</center>\n",
    "\n",
    "### usual params:\n",
    "\n",
    "\n",
    "### 0) input message:\n",
    "we choose number of bits based on the number of symbols we want\n",
    "\n",
    "so, number of bits: $ N_b = N_s*N_{sps} = 2048 $\n",
    "where $ N_{sps} = log_2(M_{QAM}) = 4 $ is the num of samples per symbol\n",
    "\n",
    "we get:\n",
    "$ b=[b_0, b_1, ..., b_{N_b}] : b_i\\in{0,1} \\; \\forall i$\n",
    "\n",
    "### 1) Modulation\n",
    "$ s = f_{MOD}(b) = [s_0, s_1, ... , s_{N_s}] : s_i = a_i + jb_i $\n",
    "\n",
    "s.t:\n",
    "$ f_{MOD}:B^{k*N_{sps}} \\rightarrow C^k  $\n",
    "$ N_{sps} = 512 $\n",
    "\n",
    "### 2) over sampling\n",
    "\n",
    "$ \\hat s = [s_0, [0, 0, ..., 0], s_1, [0, 0, ..., 0], ..., s_{\\hat N}, [0, 0, ..., 0]] $\n",
    "\n",
    "s.t:\n",
    "\n",
    "$ \\hat s \\in R^{\\hat N} : \\hat N = N_s*N_{os}= 4096 $\n",
    "\n",
    "\n",
    "### 3) Pulse shaping\n",
    "$ X[\\xi] = h \\circledast s  $\n",
    "\n",
    "length of h, $N_h$ is chosen such that the length of X, $N_X$ will be the next closest power of 2\n",
    "* (unless its too small [less than 100], so we skip to the next closest power of 2)\n",
    "\n",
    "for $ \\hat N = 4096 $ we chose $ N_h = 4097 $\n",
    "and we get $ N_X = 8192 $\n",
    "\n",
    "### 4) pre-equalize\n",
    "$ \\hat X(\\xi) = X \\cdot A_\\mu$\n",
    "\n",
    "### 5) INFT\n",
    "\n",
    "$ x(t) = \\mathcal{F}^{-1}\\{\\hat X\\} $\n",
    "\n",
    "with the following params:\n",
    "* $ N_\\xi = N_{sps} \\cdot N_{os} = len(\\hat X) = 8192 $\n",
    "* $ N_t = 2 ^ {\\lfloor log_2(N_\\xi) \\rfloor} $\n",
    "* $ t = [-N_t / 2, N_t / 2] * dt $\n",
    "* in: $ \\xi ∈ [-1570.4:1570.8]$  GHz :<sp> $N_\\xi  (=M) = 8192 $\n",
    "* out: $ t  ∈ [-4096:4095]$ ps  <sp>:   $N_t    (=D) = 8192 $\n",
    "* $ BW = 1570.8$ GHz\n",
    "\n",
    "signal specs:\n",
    "- time spectral = [-635:628]*1e-12\n",
    "- signal power = 1721637827.78\n",
    "\n",
    "### 6) SSF\n",
    "\n",
    "now we go through the SSF channel\n",
    "which has $N=1562$ iterations\n",
    "\n",
    "\n",
    "$ Z_0 = T_0^2/|\\beta_2|$ <br>\n",
    "$ P_0 = 1/(\\gamma Z_0) $ <br>\n",
    "$ x = x *  \\sqrt{P_0} $ <br>\n",
    "$ \\hat x = SSF(x) $ <br>\n",
    "$ \\hat{\\hat x} = \\hat x / \\sqrt{P_0} $"
   ]
  }
 ],
 "metadata": {
  "kernelspec": {
   "display_name": "Python 3 (ipykernel)",
   "language": "python",
   "name": "python3"
  },
  "language_info": {
   "codemirror_mode": {
    "name": "ipython",
    "version": 3
   },
   "file_extension": ".py",
   "mimetype": "text/x-python",
   "name": "python",
   "nbconvert_exporter": "python",
   "pygments_lexer": "ipython3",
   "version": "3.9.7"
  }
 },
 "nbformat": 4,
 "nbformat_minor": 1
}