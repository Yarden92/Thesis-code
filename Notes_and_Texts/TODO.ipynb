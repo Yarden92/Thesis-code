{
 "cells": [
  {
   "cell_type": "markdown",
   "metadata": {
    "pycharm": {
     "name": "#%% md\n"
    }
   },
   "source": [
    "# TODO list:\n",
    "* make the ber graph in log scale (skip zeros if happens) it should be around 10^-5\n",
    "* convert normalization factor to power (measure the average power of the signal [watt])\n",
    "* linear the x axis\n",
    "* suggestion params for network\n",
    "    * suggested layers: 1D conv (without pooling at first), 2-3 layers\n",
    "    * optimization: ADAM\n",
    "    * activations: L-Relu, Relu, ...\n",
    "    * maybe downsampling the signal - for shirking data if its too slow\n",
    "    * loss: MSE (signal vs signal)\n",
    "    * check what they do in sound processing Deep.\n",
    "\n",
    "* take convolutional layers, flatten real and imag to 1vec and conv layers (probably don't need a lot of layers) (mostly using leaky Relus) (Auto encoder format)\n",
    "*\n",
    "* taking 3 points separately: 10^-3, 10^-1, 0.5 (no more than ber 0.1)\n",
    "* goal: flatten the graph of ber/normalizing factor (run on all configurations)\n",
    "* global benchmark: cross the 5*10^-3 threshold\n",
    "* change the SSF algorithm such that the loop goes to N=total_len / delta_z where delta_z (=h) and total_len are inputs\n",
    "    * total len = 1000km, and delta z = 200m  > we should get N=5000\n",
    "* read paper: physical review applied > to understand better the ssf (pancratova & stas)\n",
    "* create graph of ber vs A_mu > we should see processing noise increase as A grows (check the constellation noise increases)\n",
    "*\n",
    "* check after channel that the signal is not spreaded outside the window\n",
    "* after NFT: propagation compensation: multiplying by $exp(-i*\\xi^2 * \\frac{Z_N}{L_0})$ where:\n",
    "    * $\\xi$  is xivec\n",
    "    * $L_0$  is $N_t$\n",
    "    * $Z_N$  is last_step <- rename it also\n",
    "* after phase compensation we should get ideal results (ber = 0)\n",
    "* ask Stas about the K and N in SSF algo (math)\n",
    "\n",
    "# Tasks that are done:\n",
    "* calculate P_0 using t_0, gamma, beta2 P0=T0^2/|b2|\n",
    "* before INFT:\n",
    "    * normalize xivec by multiplying by $\\sqrt{P_0}$\n",
    "    * set dt to be $ dt = tvec[n]-tvec[n-1] $ [unitless] -> multiply by $T_0$ to get real units [pico sec]\n",
    "* after channel: normalize xivec back by dividing by $\\sqrt{P_0}$\n",
    "* check out debug_single_with_split and explore why after split the signal looks so bad\n",
    "    * probably something to do with params or code\n",
    "    * idea: check with the SplitStep_full and see if the results are similar -\n",
    "        * if not, there's something wrong with the code of the minimal version\n",
    "* set params for split step:\n",
    "    * check on symbols: [64 :power of 2 :512]\n",
    "    * alpha = 0\n",
    "    * maximum distance is around 1000km - need to translate to SI\n",
    "    * b2 [-20 pica sec^2 / km]\n",
    "    * gama = 1.27 [$km^{-1} * v^{-1}$]\n",
    "    * h is the distance resolution - no larger than 0.5 km (smaller the better)\n",
    "* work with units of: pico second and km\n",
    "* add channel - *split step fourier algorithm* (algorithm is at agrawal 2.4.1 [2.3.46 equation without alpha] paper)\n",
    "  *it includes the noise (at first we can neglect it)\n",
    "* make the number of symbols: 500 - 1000 check that the ber improves (power of two)\n",
    "* make a graph of BER as function of normalizing factor\n",
    "* perhaps loop the BW thing further up with BER as result function\n",
    "* add BER at the end\n",
    "* match filter as depulse shaping / demodulation for rrc\n",
    "* the BW is made up empirically, is there a formula way to calculate it?\n",
    "* de-pulse shaping / sampling: how to convert from pulse back to (i,q) modulation symbols?\n",
    "* validate that the pulse shape is fine\n",
    "* make the vectors more generic so we won't need to make sure that: `len(X_xi)+len(pulse_shaper)=2048`\n",
    "* send stas and bella the scholarship documents\n",
    "* pad x3i with zeros before and after\n",
    "* do linear IFFT and check the width of the signal in time (< but there is no units on t axis..)\n",
    "* missing upsampling\n",
    "* compare with IFFT - on small factors they should be similar (on abs) up to time scale (pi)\n",
    "* skip the bounce state to make it run faster\n",
    "* find the time boundaries by plotting and check if data wasn't trimmed\n",
    "* find the xi boundaries by plotting and check if data wasn't trimmed\n",
    "* based on the T -> calc the max XI boundaries\n",
    "* I've found an interesting example for the pulse shaping, I adopted some of it to get better shape of the pulse\n",
    "* added an upsampling (zero padding between each sample)\n",
    "* important discovery: D length (time domain length) must be a power of 2!\n",
    "  * I updated the N_time fetching method accordingly\n",
    "* empirically discovery: BW should be about 700&bullet;2&pi; for the signal after NFT to look like before INFT\n",
    "* found example for split step\n",
    "* shrinked it to only the relevant part + much optimized\n",
    "* inserted it in the simulator flow as vector in > vector out format\n",
    "* managed to get normal results by shrinking last_step to 1e-3\n",
    "* created new BER vs u graph with split channel in the middle (30x30) for [64,128,256,512]\n",
    "* added calculation to P_0\n",
    "* inserted normalization by $ \\sqrt{P_0} $ before and after channel\n",
    "* found a tiny bug in the SSF algo: multiplied by v_1 two times, removed one.\n",
    "* discovery: the reason for failing SSF channel is because: if I place small dt in tvec (pico secs), it makes the xi_vec huge (THz), which makes the signal power after INFT to be huge, which makes the channel recovery impossible..\n",
    "    * increasing dt from 1e-12 to 1 resolve it but thats not a good solution obviously.. tweak this better...\n",
    "\n",
    "# what I've done lately:\n",
    "* try maybe m_qam larger for better statistics\n",
    "* starting deep: spectrum is the input > and output the same (denoised) (take at first some good place and later take full spectrum of normalization factor)\n",
    "* improve data generator to support data generation given vector of normalization factors (mu) and number of data repeatitions on each mu.\n",
    "* added functions for easy analyze a given data (plot ber vs mu of the entire folder set)"
   ]
  },
  {
   "cell_type": "code",
   "execution_count": null,
   "outputs": [],
   "source": [],
   "metadata": {
    "collapsed": false,
    "pycharm": {
     "name": "#%%\n"
    }
   }
  }
 ],
 "metadata": {
  "kernelspec": {
   "display_name": "Python 3 (ipykernel)",
   "language": "python",
   "name": "python3"
  },
  "language_info": {
   "codemirror_mode": {
    "name": "ipython",
    "version": 3
   },
   "file_extension": ".py",
   "mimetype": "text/x-python",
   "name": "python",
   "nbconvert_exporter": "python",
   "pygments_lexer": "ipython3",
   "version": "3.9.7"
  }
 },
 "nbformat": 4,
 "nbformat_minor": 1
}